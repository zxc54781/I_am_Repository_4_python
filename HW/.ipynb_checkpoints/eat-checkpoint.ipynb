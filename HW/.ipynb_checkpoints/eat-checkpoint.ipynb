{
 "cells": [
  {
   "cell_type": "code",
   "execution_count": 86,
   "metadata": {},
   "outputs": [
    {
     "name": "stdout",
     "output_type": "stream",
     "text": [
      "吃吃吃只知道吃!\n",
      "\n",
      "位置：前門請輸入 MG ;後門請輸入 118; 公館請輸入 GG 公館前門輸入 GGEn\n",
      "價錢：100以下輸入1 ; 100~200輸入2 ; 200~300輸入3 ; 300以上輸入 I am rich ; 隨便以上輸入 Whatever ; 不想付錢輸入 0 \n",
      "位置GG\n",
      "價錢2\n",
      "['車輪餅,珍奶']\n"
     ]
    },
    {
     "ename": "NameError",
     "evalue": "name 'food' is not defined",
     "output_type": "error",
     "traceback": [
      "\u001b[0;31m---------------------------------------------------------------------------\u001b[0m",
      "\u001b[0;31mNameError\u001b[0m                                 Traceback (most recent call last)",
      "\u001b[0;32m<ipython-input-86-99ac5a1ba5c9>\u001b[0m in \u001b[0;36m<module>\u001b[0;34m\u001b[0m\n\u001b[1;32m     70\u001b[0m     \u001b[0mprint\u001b[0m \u001b[0;34m(\u001b[0m\u001b[0;34m'error1'\u001b[0m\u001b[0;34m)\u001b[0m\u001b[0;34m\u001b[0m\u001b[0;34m\u001b[0m\u001b[0m\n\u001b[1;32m     71\u001b[0m \u001b[0;34m\u001b[0m\u001b[0m\n\u001b[0;32m---> 72\u001b[0;31m \u001b[0mprint\u001b[0m\u001b[0;34m(\u001b[0m \u001b[0mrandom\u001b[0m\u001b[0;34m.\u001b[0m\u001b[0msample\u001b[0m \u001b[0;34m(\u001b[0m\u001b[0mfood\u001b[0m\u001b[0;34m,\u001b[0m\u001b[0mk\u001b[0m\u001b[0;34m=\u001b[0m\u001b[0;36m1\u001b[0m\u001b[0;34m)\u001b[0m\u001b[0;34m)\u001b[0m\u001b[0;34m\u001b[0m\u001b[0;34m\u001b[0m\u001b[0m\n\u001b[0m",
      "\u001b[0;31mNameError\u001b[0m: name 'food' is not defined"
     ]
    }
   ],
   "source": [
    "import numpy as np\n",
    "import random\n",
    "\n",
    "#前門\n",
    "MG_1 = [\"我\" ,\" 不\" ,\"知\" , \"道\"]\n",
    "MG_2 = [\"我 , 不 , 知 , 道\"]\n",
    "MG_3 = [\"我 , 不 , 知 , 道\"]\n",
    "MG_rich = [\"缺男友ㄇ\"]\n",
    "#118巷子\n",
    "S118_1 = [\"全,七\"]\n",
    "S118_2 = [\"全,七\"]\n",
    "S118_3 = [\"全,七\"]\n",
    "S118_rich = [\"全,七\"]\n",
    "#公館\n",
    "GG_1=['車輪餅,珍奶']\n",
    "GG_2=['車輪餅,珍奶']\n",
    "GG_3=['車輪餅,珍奶']\n",
    "GG_rich=['車輪餅,珍奶']\n",
    "#公館前門\n",
    "GGEn_1=['G,G,in,in,der']\n",
    "GGEn_2=['G,G,in,in,der']\n",
    "GGEn_3=['G,G,in,in,der']\n",
    "GGEn_rich=['G,G,in,in,der']\n",
    "\n",
    "#吃土的\n",
    "poormouth=['回家喝奶拉','牢飯','土','西北風']\n",
    "\n",
    "print (\"\\n位置：前門請輸入 MG ;後門請輸入 118; 公館請輸入 GG 公館前門輸入 GGEn\\n價錢：100以下輸入1 ; 100~200輸入2 ; 200~300輸入3 ; 300以上輸入 I am rich ; 隨便以上輸入 Whatever ; 不想付錢輸入 0 \")\n",
    "\n",
    "x=input('位置')\n",
    "p=input('價錢')\n",
    "\n",
    "if x=='MG' and p=='1' :\n",
    "    food=MG_1\n",
    "elif x=='MG' and p=='2' :\n",
    "    food=MG_2\n",
    "elif x=='MG' and p=='3' :\n",
    "    print( random.sample (MG_3,k=1))\n",
    "elif x=='MG' and p=='I am rich' :\n",
    "    print( random.sample (MG_rich,k=1))\n",
    "elif x=='MG' and p=='Whatever' :\n",
    "    MG_all=(MG_1+MG_2+MG_3,) \n",
    "elif x=='118' and p=='1' :\n",
    "    print( random.sample (S118_1,k=1))\n",
    "elif x=='118' and p=='2' :\n",
    "    print( random.sample (S118_2,k=1))\n",
    "elif x=='118' and p=='3' :\n",
    "    print( random.sample (S118_3,k=1))\n",
    "elif x=='118' and p=='I am rich' :\n",
    "    print( random.sample (S118_rich,k=1))\n",
    "elif x=='GG' and p=='1' :\n",
    "    print( random.sample (GG_1,k=1))\n",
    "elif x=='GG' and p=='2' :\n",
    "    print( random.sample (GG_2,k=1))\n",
    "elif x=='GG' and p=='3' :\n",
    "    print( random.sample (GG_3,k=1))\n",
    "elif x=='GG' and p=='I am rich' :\n",
    "    print( random.sample (GG_rich,k=1))\n",
    "elif x=='GGEn' and p=='1' :\n",
    "    print( random.sample (GGEn_1,k=1))\n",
    "elif x=='GGEn' and p=='2' :\n",
    "    print( random.sample (GGEn_2,k=1))\n",
    "elif x=='GGEn' and p=='3' :\n",
    "    print( random.sample (GGEn_3,k=1))\n",
    "elif x=='GGEn' and p=='I am rich' :\n",
    "    print( random.sample (GGEn_rich,k=1))\n",
    "elif p=='0':\n",
    "    print( random.sample (poormouth,k=1))\n",
    "else :\n",
    "    print ('error1')\n",
    "\n",
    "print( random.sample (food,k=1))"
   ]
  },
  {
   "cell_type": "code",
   "execution_count": null,
   "metadata": {},
   "outputs": [
    {
     "name": "stdout",
     "output_type": "stream",
     "text": [
      "歡迎使用選擇性障礙輔助器8.7 \n",
      "但不是我要說你 吃吃吃只會吃,還選不出來 真慘！ \n",
      "\n",
      "位置：前門請輸入:MG  後門請輸入:118  公館請輸入:GG 公館前門輸入:GGEn \n",
      "位置_特殊選項:甜點輸入:DE 咖啡輸入:CO 價錢處隨便輸入即可\n",
      "價錢：150以下輸入:1 ; 150~300輸入:2 ; 300~400輸入:3 ; 400以上輸入: I am rich ; 隨便以上輸入:Whatever ; 不想付錢輸入 0 \n",
      "\n",
      "位置MG\n",
      "價錢分區1\n",
      "[' 泰街頭']\n",
      "\n",
      "輸入y結束並開啟地圖\n",
      "輸入no thx直接結束\n",
      "不滿意可以按任意鍵重選\n",
      "你的選擇1\n",
      "['彩椒廚房']\n",
      "\n",
      "輸入y結束並開啟地圖\n",
      "輸入no thx直接結束\n",
      "不滿意可以按任意鍵重選\n",
      "你的選擇1\n",
      "['鳳城燒臘']\n",
      "\n",
      "輸入y結束並開啟地圖\n",
      "輸入no thx直接結束\n",
      "不滿意可以按任意鍵重選\n",
      "你的選擇1\n",
      "[' 泰街頭']\n",
      "\n",
      "輸入y結束並開啟地圖\n",
      "輸入no thx直接結束\n",
      "不滿意可以按任意鍵重選\n"
     ]
    }
   ],
   "source": [
    "import numpy as np\n",
    "import random\n",
    "import webbrowser\n",
    "\n",
    "\n",
    "\n",
    "print('歡迎使用選擇性障礙輔助器8.7 \\n但不是我要說你 吃吃吃只會吃,還選不出來 真慘！ ')\n",
    "print (\"\\n位置：前門請輸入:MG  後門請輸入:118  公館請輸入:GG 公館前門輸入:GGEn \\n位置_特殊選項:甜點輸入:DE 咖啡輸入:CO 價錢處隨便輸入即可\\n價錢：150以下輸入:1 ; 150~300輸入:2 ; 300~400輸入:3 ; 400以上輸入: I am rich ; 隨便以上輸入:Whatever ; 不想付錢輸入 0 \")\n",
    "\n",
    "x=input('\\n位置')\n",
    "p=input('價錢分區')\n",
    "while True :\n",
    "\n",
    "    \n",
    "#前門\n",
    "    MG_1 = [\"雲香亭\" ,\" 泰街頭\" ,\"阿英滷肉飯\" , \"鳳城燒臘\",'溏老鴨','韓庭州','彩椒廚房','貳食柒','麥子磨麵','小飯廳']\n",
    "    MG_2 = [\"左巴好室\",\"雀兒小餐館\",\"3\",'大盛豬排','瑪莉珍','kitchen66']\n",
    "    MG_3 = [\"鼎太極\"]\n",
    "    MG_rich = [\"從缺,別說這個了如果你是正咩的話缺男友嗎？\"]\n",
    "    MG_all=MG_1+MG_2+MG_3+MG_rich\n",
    "#118巷\n",
    "    S118_1 = [\"南台虱目魚\",'阿英海產粥','韓喜堂','忠誠山東蔥油餅','蔥燉牛肉麵','山西刀削麵館','一極拌福州乾拌麵館','笑嘻嘻','靚咖哩','紫牛','滇味小館','阿忠麵店(地圖上沒有haha)','大李水餃','松田日式飯糰']\n",
    "    S118_2 = [\"微笑廚房洋食館\",'Blue磚塊義法廚房','河內美食 （Hanoi Food)','邦食堂','正香海南雞飯','米多麗小館','The Sandrich House','我家吃麵','找碗','二八麵堂','']\n",
    "    S118_12=S118_1+S118_2\n",
    "    S118_3 = [\"目前沒有QQ\"]\n",
    "    S118_rich = ['你有病吧118哪有這麼貴的']\n",
    "    S118_all=S118_1+S118_2+S118_3+S118_rich\n",
    "#公館\n",
    "    GG_1=['大水源','曼谷燒','薩莉亞','麥當勞','季丼屋','直火人丼飯','藍家割包','水源市場 水餃','大學口臭豆腐','白帝城川式滷味','Mr.拉麵']\n",
    "    GG_2=['池先生','阿里媽媽','鍋in','小飯兒館','泰國小館','初牛','靜壽司','Bravo發福廚房','赤神豬排','狂愛咖哩','韓天閣']\n",
    "    GG_3=['山嵐拉麵','右手餐廳','狗一下','鷹流拉麵']\n",
    "    GG_rich=['易牙居','馬辣']\n",
    "    GG_all=GG_1+GG_2+GG_3+GG_rich\n",
    "#公館前門\n",
    "    GGEn_1=MG_1+GG_1\n",
    "    GGEn_2=MG_2+GG_2\n",
    "    GGEn_3=MG_3+GG_3\n",
    "    GGEn_rich=GG_rich+MG_rich\n",
    "    GGEn_all=GGEn_1+GGEn_2+GGEn_3+GGEn_rich\n",
    "#甜點\n",
    "    Dessert=['chez nous','Mr.雪腐','波囍','The Common','土司吐司','倆倆號','龍泉豆花','鴉片粉圓','IC AIRPORT','陳三鼎','貳樓餐廳','咪莉奶奶餅乾','Coco Brownies','好想吃冰','70-1 sweet to go','Quichez派出所','後門果汁阿姨','春山茶水']\n",
    "#咖啡\n",
    "    Coffee=['flügel studio','湛盧咖啡','路燈咖啡','Ville Cafe','法語人之家','小公館cafe','感恩小館','AGCT Apartment','Cafe Bastille','女巫店','L‘amour','imperfect coffee',\"雀兒小餐館\",'片場咖啡','野餐咖啡','歐克法']\n",
    "#吃土的\n",
    "    poormouth=['回家喝奶拉','牢飯','土','西北風']\n",
    "\n",
    "    if x=='MG' and p=='1' :\n",
    "        food=MG_1\n",
    "    elif x=='MG' and p=='2' :\n",
    "        food=MG_2\n",
    "    elif x=='MG' and p=='3' :\n",
    "        food=MG_3\n",
    "    elif x=='MG' and p=='I am rich' :\n",
    "        food=MG_rich\n",
    "    elif x=='MG' and p=='Whatever' :\n",
    "        food=MG_all\n",
    "    elif x=='118' and p=='1' :\n",
    "        food=S118_12\n",
    "    elif x=='118' and p=='2' :\n",
    "        food=S118_12\n",
    "    elif x=='118' and p=='3' :\n",
    "        food=S118_3\n",
    "    elif x=='118' and p=='I am rich' :\n",
    "        food=S118_rich\n",
    "    elif x=='118' and p=='Whatever' :\n",
    "        food=S118_all\n",
    "    elif x=='GG' and p=='1' :\n",
    "        food=GG_1\n",
    "    elif x=='GG' and p=='2' :\n",
    "        food=GG_2\n",
    "    elif x=='GG' and p=='3' :\n",
    "        food=GG_3\n",
    "    elif x=='GG' and p=='I am rich' :\n",
    "        food=GG_rich\n",
    "    elif x=='GG' and p=='Whatever' :\n",
    "        food=GG_all\n",
    "    elif x=='GGEn' and p=='1' :\n",
    "        food=GGEn_1\n",
    "    elif x=='GGEn' and p=='2' :\n",
    "        food=GGEn_2\n",
    "    elif x=='GGEn' and p=='3' :\n",
    "        food=GGEn_3\n",
    "    elif x=='GGEn' and p=='I am rich' :\n",
    "        food=GGEn_rich\n",
    "    elif x=='GGEn' and p=='Whatever' :\n",
    "        food=GGEn_all\n",
    "    elif x=='DE' : \n",
    "        food=Dessert\n",
    "    elif x=='CO' :\n",
    "        food=Coffee\n",
    "    elif p=='0':\n",
    "        food=poormouth\n",
    "    else :\n",
    "        print ('error1')\n",
    "        \n",
    "    #由符合條件的群隨機選取\n",
    "    m=random.sample (food,k=1)\n",
    "    \n",
    "    print(m)\n",
    "    print('\\n輸入y結束並開啟地圖\\n輸入no thx直接結束\\n不滿意可以按任意鍵重選')\n",
    "    say= input('你的選擇')\n",
    "   \n",
    "    if say=='y':#for while\n",
    "        print ('\\n甲霸緊睏')\n",
    "        #開啟網站,mac版本設定以google chrome 開啟\n",
    "        \n",
    "        restaurant =m[0]#由於m為list,而開網站需要字串故取自串的第一個數\n",
    "        \n",
    "        #print(type(m)) #測試用看m的資料型態\n",
    "        \n",
    "        restaurant_map='https://www.google.com.tw/maps/search/'+restaurant\n",
    "        webbrowser.get(\"open -a /Applications/Google\\ Chrome.app %s\").open(restaurant_map) #for mac\n",
    "        #webbrowser.open_new_tab(restaurant_map) #for wandows\n",
    "        break\n",
    "    elif say=='no thx': #for while\n",
    "        print('\\n虧我還用了那個地圖連結\\n我被你擊敗了,你是擊敗人')\n",
    "        break\n",
    "\n",
    "del say\n",
    "del food\n",
    "\n",
    "#在此特別感謝冠銘學長幫我解決BUG\n",
    "#此美食大部分是由吃貨台大收錄\n"
   ]
  },
  {
   "cell_type": "code",
   "execution_count": null,
   "metadata": {
    "slideshow": {
     "slide_type": "-"
    }
   },
   "outputs": [],
   "source": []
  },
  {
   "cell_type": "code",
   "execution_count": 61,
   "metadata": {},
   "outputs": [
    {
     "ename": "SyntaxError",
     "evalue": "invalid syntax (<ipython-input-61-ae64a8eed29b>, line 14)",
     "output_type": "error",
     "traceback": [
      "\u001b[0;36m  File \u001b[0;32m\"<ipython-input-61-ae64a8eed29b>\"\u001b[0;36m, line \u001b[0;32m14\u001b[0m\n\u001b[0;31m    webbrowser.open_new_tab('http://www.google.com/search?btnG=1&q=%s' )\u001b[0m\n\u001b[0m             ^\u001b[0m\n\u001b[0;31mSyntaxError\u001b[0m\u001b[0;31m:\u001b[0m invalid syntax\n"
     ]
    }
   ],
   "source": [
    "import numpy as np\n",
    "import random\n",
    "import webbrowser\n",
    "\n",
    "x=input('位置')\n",
    "p=input('價錢')\n",
    "\n",
    "MG_1 = [\"活大\" ,\" 小幅\" ]\n",
    "n='n'\n",
    "\n",
    "if x=='MG' and p=='1' :\n",
    "    #random.sample (MG_1,k=1)\n",
    "    print (s1.join( random.sample (MG_1,k=1))\n",
    "    webbrowser.open_new_tab('http://www.google.com/search?btnG=1&q=%s' )\n",
    "\n",
    "\n",
    "#n=print(s1.join( random.sample (MG_1,k=1)))\n",
    "#print ('n')\n",
    "#print( 'https://www.google.com.tw/maps/search/'+repr(print (s1.join( random.sample (MG_1,k=1))))\n",
    "#v='https://www.google.com.tw/maps/search/'+repr(random.sample (MG_1,k=1))\n",
    "#y=\"https://www.google.com.tw/maps/search/\"+repr(n)\n",
    "#webbrowser.open_new_tab(\"https://www.google.com.tw/maps/search/\")\n"
   ]
  },
  {
   "cell_type": "code",
   "execution_count": 38,
   "metadata": {},
   "outputs": [
    {
     "name": "stdout",
     "output_type": "stream",
     "text": [
      "位置MG\n",
      "價錢1\n",
      "活大\n"
     ]
    }
   ],
   "source": []
  },
  {
   "cell_type": "code",
   "execution_count": 32,
   "metadata": {},
   "outputs": [
    {
     "name": "stdout",
     "output_type": "stream",
     "text": [
      "r-u-n-o-o-b\n",
      "runoob\n"
     ]
    }
   ],
   "source": []
  },
  {
   "cell_type": "code",
   "execution_count": 12,
   "metadata": {},
   "outputs": [
    {
     "ename": "AttributeError",
     "evalue": "type object 'str' has no attribute 'decode'",
     "output_type": "error",
     "traceback": [
      "\u001b[0;31m---------------------------------------------------------------------------\u001b[0m",
      "\u001b[0;31mAttributeError\u001b[0m                            Traceback (most recent call last)",
      "\u001b[0;32m<ipython-input-12-be45ee4cfc3e>\u001b[0m in \u001b[0;36m<module>\u001b[0;34m\u001b[0m\n\u001b[1;32m      2\u001b[0m \u001b[0;32mimport\u001b[0m \u001b[0mrandom\u001b[0m\u001b[0;34m\u001b[0m\u001b[0;34m\u001b[0m\u001b[0m\n\u001b[1;32m      3\u001b[0m \u001b[0;32mimport\u001b[0m \u001b[0mwebbrowser\u001b[0m\u001b[0;34m\u001b[0m\u001b[0;34m\u001b[0m\u001b[0m\n\u001b[0;32m----> 4\u001b[0;31m \u001b[0mstr\u001b[0m\u001b[0;34m.\u001b[0m\u001b[0mdecode\u001b[0m\u001b[0;34m(\u001b[0m\u001b[0mencoding\u001b[0m\u001b[0;34m=\u001b[0m\u001b[0;34m'UTF-8'\u001b[0m\u001b[0;34m,\u001b[0m\u001b[0merrors\u001b[0m\u001b[0;34m=\u001b[0m\u001b[0;34m'strict'\u001b[0m\u001b[0;34m)\u001b[0m\u001b[0;34m\u001b[0m\u001b[0;34m\u001b[0m\u001b[0m\n\u001b[0m\u001b[1;32m      5\u001b[0m \u001b[0mx\u001b[0m\u001b[0;34m=\u001b[0m\u001b[0minput\u001b[0m\u001b[0;34m(\u001b[0m\u001b[0;34m'位置'\u001b[0m\u001b[0;34m)\u001b[0m\u001b[0;34m\u001b[0m\u001b[0;34m\u001b[0m\u001b[0m\n\u001b[1;32m      6\u001b[0m \u001b[0mp\u001b[0m\u001b[0;34m=\u001b[0m\u001b[0minput\u001b[0m\u001b[0;34m(\u001b[0m\u001b[0;34m'價錢'\u001b[0m\u001b[0;34m)\u001b[0m\u001b[0;34m\u001b[0m\u001b[0;34m\u001b[0m\u001b[0m\n",
      "\u001b[0;31mAttributeError\u001b[0m: type object 'str' has no attribute 'decode'"
     ]
    }
   ],
   "source": []
  },
  {
   "cell_type": "code",
   "execution_count": 44,
   "metadata": {},
   "outputs": [
    {
     "name": "stdout",
     "output_type": "stream",
     "text": [
      "台大\n"
     ]
    },
    {
     "data": {
      "text/plain": [
       "True"
      ]
     },
     "execution_count": 44,
     "metadata": {},
     "output_type": "execute_result"
    }
   ],
   "source": []
  },
  {
   "cell_type": "code",
   "execution_count": 7,
   "metadata": {},
   "outputs": [
    {
     "name": "stdout",
     "output_type": "stream",
     "text": [
      "'aaaa'\n",
      "aaaa\n"
     ]
    }
   ],
   "source": [
    "s='aaaa'\n",
    "s2=repr(s)\n",
    "print(s2)\n",
    "l=\"\"\n",
    "for i in range(len(s2)):\n",
    "    if s2[i]!=\"'\":\n",
    "        l+=s2[i]\n",
    "print(l)"
   ]
  },
  {
   "cell_type": "code",
   "execution_count": null,
   "metadata": {},
   "outputs": [],
   "source": []
  },
  {
   "cell_type": "code",
   "execution_count": null,
   "metadata": {},
   "outputs": [],
   "source": [
    "\n"
   ]
  },
  {
   "cell_type": "code",
   "execution_count": null,
   "metadata": {},
   "outputs": [],
   "source": []
  },
  {
   "cell_type": "code",
   "execution_count": 55,
   "metadata": {},
   "outputs": [
    {
     "name": "stdout",
     "output_type": "stream",
     "text": [
      "utf-8\n",
      "https://www.google.com.tw/maps/search/台大\n"
     ]
    },
    {
     "data": {
      "text/plain": [
       "True"
      ]
     },
     "execution_count": 55,
     "metadata": {},
     "output_type": "execute_result"
    }
   ],
   "source": [
    "\n",
    "import sys\n",
    "print(sys.getdefaultencoding())\n",
    "s='台大'\n",
    "s='https://www.google.com.tw/maps/search/'+s\n",
    "#s = s.encode('GBK')\n",
    "#s = str(s)\n",
    "print(s)\n",
    "#print(s, type(s))\n",
    "import webbrowser\n",
    "#開啟網站,mac版本設定以google chrome 開啟\n",
    "webbrowser.get(\"open -a /Applications/Google\\ Chrome.app %s\").open(\"http://google.com\") #for mac\n",
    "webbrowser.open_new_tab(s) #for wandows"
   ]
  },
  {
   "cell_type": "code",
   "execution_count": null,
   "metadata": {},
   "outputs": [],
   "source": []
  }
 ],
 "metadata": {
  "celltoolbar": "Slideshow",
  "kernelspec": {
   "display_name": "Python 3",
   "language": "python",
   "name": "python3"
  },
  "language_info": {
   "codemirror_mode": {
    "name": "ipython",
    "version": 3
   },
   "file_extension": ".py",
   "mimetype": "text/x-python",
   "name": "python",
   "nbconvert_exporter": "python",
   "pygments_lexer": "ipython3",
   "version": "3.7.1"
  }
 },
 "nbformat": 4,
 "nbformat_minor": 2
}
