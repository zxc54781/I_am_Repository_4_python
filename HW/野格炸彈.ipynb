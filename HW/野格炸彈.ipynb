{
 "cells": [
  {
   "cell_type": "markdown",
   "metadata": {},
   "source": [
    "主要是有兩個功能，能看球隊的整季勝率\n",
    "以及球隊近10場戰績,並將近10場畫成圖\n",
    "不畫整季的原因是感覺看不出什麼！"
   ]
  },
  {
   "cell_type": "markdown",
   "metadata": {},
   "source": [
    "# 前置作業"
   ]
  },
  {
   "cell_type": "code",
   "execution_count": 388,
   "metadata": {},
   "outputs": [],
   "source": [
    "%matplotlib inline\n",
    "import numpy as np\n",
    "import matplotlib.pyplot as plt\n",
    "import pandas as pd\n",
    "import locale\n",
    "import matplotlib as mpl\n",
    "from ipywidgets import interact_manual\n",
    "from matplotlib.font_manager import findfont, FontProperties\n",
    "#FontPropertiesfont = FontProperties(fname='/Library/Fonts/NotoSansMonoCJKtc-Regular.otf')\n",
    "mpl.rc('font', family='Noto Sans CJK TC')\n",
    "\n",
    "teams=['選擇你要的隊伍','BOS','BRK','NYK','PHI','TOR','CHI','CLE','DET','IND','MIL','ATL','CHO','MIA','ORL','WAS','DAL','HOU',\"MEM\",\"NOP\",\"SAS\",'DEN','MIN','OKC','POR',\"UTA\",'GSW','LAC',\"LAL\",\"PHO\",\"SAC\"]"
   ]
  },
  {
   "cell_type": "markdown",
   "metadata": {},
   "source": [
    "# 主程式"
   ]
  },
  {
   "cell_type": "code",
   "execution_count": 387,
   "metadata": {},
   "outputs": [
    {
     "data": {
      "application/vnd.jupyter.widget-view+json": {
       "model_id": "90fce3a0e93244b480e7f3c834ea91f2",
       "version_major": 2,
       "version_minor": 0
      },
      "text/plain": [
       "interactive(children=(Dropdown(description='Session', options=('10', 'all'), value='10'), Dropdown(description…"
      ]
     },
     "metadata": {},
     "output_type": "display_data"
    }
   ],
   "source": [
    "def Session_choice(Session,Team):\n",
    "\n",
    "\n",
    "\n",
    "        url='https://www.basketball-reference.com/teams/'+Team+'/2019_games.html#games::none'\n",
    "        dfs = pd.read_html(url)\n",
    "        df = dfs[0]\n",
    "        df.rename(columns={ df.columns[7]: \"cc\" }, inplace=True) #由於有我們要的是 unnamed 所以我們改一下他的名字\n",
    "        df['cc1']=df['cc'] #增加一行\n",
    "        df.ix[df['cc1']=='L','cc1']=0 # 把輸贏數字化\n",
    "        df.ix[df['cc1']=='W','cc1']=1\n",
    "        df #檢查一下有沒有改過來\n",
    "        if Session=='10':\n",
    "            dataw = df[66:76] #選取最近 10場的資料  這方法有點笨 我再想想看該怎麼辦\n",
    "            w=dataw[dataw.cc.str.contains('W', na=False)] #檢查自己取的表格有沒有錯\n",
    "            a = len(w) #看取出來有幾筆\n",
    "            pct = a/10 #由於只有10筆資料所以/10就是勝率了！\n",
    "            dataw1 = df.loc[66:76, ['G', 'cc','cc1']]\n",
    "            dataw1.plot.bar(x='G',y=['cc1'],color='DarkBlue')# 畫圖\n",
    "            plt.xlabel(\"場次\")# X軸命名\n",
    "            plt.ylabel('勝敗')\n",
    "            print('Win PCT for ten games : ' , pct)\n",
    "          \n",
    "        elif Session == 'all':\n",
    "            dataw = df[0:86] #選取最近 10場的資料  這方法有點笨 我再想想看該怎麼辦\n",
    "            w=dataw[dataw.cc.str.contains('W', na=False)] #檢查自己取的表格有沒有錯\n",
    "            a = len(w) #看取出來有幾筆\n",
    "            b = len(df)\n",
    "            pct = a/b\n",
    "            print('Win PCT for ten games : ' , pct)\n",
    "\n",
    "interact_manual(Session_choice, Session=['10','all'], Team=teams);\n",
    "#print('Win PCT for ten games : ' , pct)"
   ]
  },
  {
   "cell_type": "markdown",
   "metadata": {},
   "source": [
    "### 下面是參考的過程可以不用理他"
   ]
  },
  {
   "cell_type": "code",
   "execution_count": null,
   "metadata": {},
   "outputs": [],
   "source": []
  },
  {
   "cell_type": "markdown",
   "metadata": {},
   "source": [
    "這個是還沒加入畫圖前的"
   ]
  },
  {
   "cell_type": "code",
   "execution_count": 348,
   "metadata": {},
   "outputs": [
    {
     "data": {
      "application/vnd.jupyter.widget-view+json": {
       "model_id": "52a512821ec64133953ba0e8a7e15e8a",
       "version_major": 2,
       "version_minor": 0
      },
      "text/plain": [
       "interactive(children=(Dropdown(description='Session', options=('10', 'all'), value='10'), Dropdown(description…"
      ]
     },
     "metadata": {},
     "output_type": "display_data"
    }
   ],
   "source": [
    "def Session_choice(Session,Team):\n",
    "\n",
    "\n",
    "\n",
    "        url='https://www.basketball-reference.com/teams/'+Team+'/2019_games.html#games::none'\n",
    "        dfs = pd.read_html(url)\n",
    "        df = dfs[0]\n",
    "        df.rename(columns={ df.columns[7]: \"cc\" }, inplace=True) #由於有我們要的是 unnamed 所以我們改一下他的名字\n",
    "        df #檢查一下有沒有改過來\n",
    "        if Session=='10':\n",
    "            dataw = df[66:76] #選取最近 10場的資料  這方法有點笨 我再想想看該怎麼辦\n",
    "            w=dataw[dataw.cc.str.contains('W', na=False)] #檢查自己取的表格有沒有錯\n",
    "            a = len(w) #看取出來有幾筆\n",
    "            pct = a/10 #由於只有10筆資料所以/10就是勝率了！\n",
    "            print('Win PCT for ten games : ' , pct)\n",
    "        elif Session == 'all':\n",
    "            dataw = df[0:86] #選取最近 10場的資料  這方法有點笨 我再想想看該怎麼辦\n",
    "            w=dataw[dataw.cc.str.contains('W', na=False)] #檢查自己取的表格有沒有錯\n",
    "            a = len(w) #看取出來有幾筆\n",
    "            b = len(df)\n",
    "            pct = a/b\n",
    "            print('Win PCT for ten games : ' , pct)\n",
    "\n",
    "interact_manual(Session_choice, Session=['10','all'], Team=teams);\n",
    "#print('Win PCT for ten games : ' , pct)"
   ]
  }
 ],
 "metadata": {
  "kernelspec": {
   "display_name": "Python 3",
   "language": "python",
   "name": "python3"
  },
  "language_info": {
   "codemirror_mode": {
    "name": "ipython",
    "version": 3
   },
   "file_extension": ".py",
   "mimetype": "text/x-python",
   "name": "python",
   "nbconvert_exporter": "python",
   "pygments_lexer": "ipython3",
   "version": "3.7.1"
  }
 },
 "nbformat": 4,
 "nbformat_minor": 2
}
