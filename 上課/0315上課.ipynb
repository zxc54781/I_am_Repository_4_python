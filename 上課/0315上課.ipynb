{
 "cells": [
  {
   "cell_type": "code",
   "execution_count": 257,
   "metadata": {},
   "outputs": [],
   "source": [
    "%matplotlib inline\n",
    "\n",
    "import numpy as np\n",
    "import matplotlib.pyplot as plt\n",
    "import pandas as pd"
   ]
  },
  {
   "cell_type": "code",
   "execution_count": 2,
   "metadata": {},
   "outputs": [],
   "source": [
    "grades = [35, 74, 43, 66, 87, 55, 71, 65] #要加分 通通乘以1.1倍"
   ]
  },
  {
   "cell_type": "code",
   "execution_count": 8,
   "metadata": {},
   "outputs": [],
   "source": [
    "curved = [ ]\n",
    "\n",
    "for g in grades:\n",
    "    curved.append(g*1.1)\n",
    "\n",
    "curved  #條分後結果 可是好想再來四分"
   ]
  },
  {
   "cell_type": "code",
   "execution_count": 9,
   "metadata": {},
   "outputs": [
    {
     "data": {
      "text/plain": [
       "[38.5,\n",
       " 81.4,\n",
       " 47.300000000000004,\n",
       " 72.60000000000001,\n",
       " 95.7,\n",
       " 60.50000000000001,\n",
       " 78.10000000000001,\n",
       " 71.5]"
      ]
     },
     "execution_count": 9,
     "metadata": {},
     "output_type": "execute_result"
    }
   ],
   "source": [
    "curved2 = [ ]\n",
    "\n",
    "for g in grades :\n",
    "    curved2.append(g*1.1+4)\n",
    "\n",
    "curved2"
   ]
  },
  {
   "cell_type": "markdown",
   "metadata": {},
   "source": [
    "# array 使用\n",
    "## broadcasting\n",
    "\n",
    "array 與 range 的不同在於前者只是數列並沒有順序之分！！！！"
   ]
  },
  {
   "cell_type": "code",
   "execution_count": 258,
   "metadata": {},
   "outputs": [],
   "source": [
    "grad_arr=np.array(grades)"
   ]
  },
  {
   "cell_type": "code",
   "execution_count": 259,
   "metadata": {},
   "outputs": [
    {
     "data": {
      "text/plain": [
       "array([[85, 70, 80],\n",
       "       [30, 99, 99],\n",
       "       [85, 91, 33]])"
      ]
     },
     "execution_count": 259,
     "metadata": {},
     "output_type": "execute_result"
    }
   ],
   "source": [
    "grad_arr"
   ]
  },
  {
   "cell_type": "code",
   "execution_count": 260,
   "metadata": {},
   "outputs": [
    {
     "data": {
      "text/plain": [
       "array([[ 93.5,  77. ,  88. ],\n",
       "       [ 33. , 108.9, 108.9],\n",
       "       [ 93.5, 100.1,  36.3]])"
      ]
     },
     "execution_count": 260,
     "metadata": {},
     "output_type": "execute_result"
    }
   ],
   "source": [
    "grad_arr*1.1"
   ]
  },
  {
   "cell_type": "code",
   "execution_count": 261,
   "metadata": {},
   "outputs": [
    {
     "data": {
      "text/plain": [
       "array([[ 97.5,  81. ,  92. ],\n",
       "       [ 37. , 112.9, 112.9],\n",
       "       [ 97.5, 104.1,  40.3]])"
      ]
     },
     "execution_count": 261,
     "metadata": {},
     "output_type": "execute_result"
    }
   ],
   "source": [
    "grad_arr*1.1+4  "
   ]
  },
  {
   "cell_type": "markdown",
   "metadata": {},
   "source": [
    "# ## test"
   ]
  },
  {
   "cell_type": "code",
   "execution_count": 262,
   "metadata": {},
   "outputs": [],
   "source": [
    "grades = np.array([85,70,80])\n",
    "weights =np .array([0.2, 0.35, 0.45])"
   ]
  },
  {
   "cell_type": "code",
   "execution_count": 263,
   "metadata": {},
   "outputs": [],
   "source": [
    "wgrades = grades* weights"
   ]
  },
  {
   "cell_type": "code",
   "execution_count": 264,
   "metadata": {},
   "outputs": [
    {
     "data": {
      "text/plain": [
       "array([17. , 24.5, 36. ])"
      ]
     },
     "execution_count": 264,
     "metadata": {},
     "output_type": "execute_result"
    }
   ],
   "source": [
    "wgrades"
   ]
  },
  {
   "cell_type": "code",
   "execution_count": 265,
   "metadata": {},
   "outputs": [
    {
     "data": {
      "image/png": "[encoded data removed]",
      "text/latex": [
       "$$77.5$$"
      ],
      "text/plain": [
       "77.5"
      ]
     },
     "execution_count": 265,
     "metadata": {},
     "output_type": "execute_result"
    }
   ],
   "source": [
    "wgrades.sum( )   #打點的目的是要叫出相關函數"
   ]
  },
  {
   "cell_type": "markdown",
   "metadata": {},
   "source": [
    "### 我們其實可以用 dot product (矩陣乘法) 算出來!"
   ]
  },
  {
   "cell_type": "code",
   "execution_count": 25,
   "metadata": {},
   "outputs": [
    {
     "data": {
      "text/plain": [
       "77.5"
      ]
     },
     "execution_count": 25,
     "metadata": {},
     "output_type": "execute_result"
    }
   ],
   "source": [
    "grades @ weights  ##矩陣相乘要用 ＠"
   ]
  },
  {
   "cell_type": "code",
   "execution_count": 26,
   "metadata": {},
   "outputs": [],
   "source": [
    "grades = np.array([[85,70,80],\n",
    "                          [30,99,99],\n",
    "                          [85,91,33]]) #還要一個括號 其實就是矩陣"
   ]
  },
  {
   "cell_type": "code",
   "execution_count": 86,
   "metadata": {},
   "outputs": [],
   "source": [
    "wgrades = grades* weights"
   ]
  },
  {
   "cell_type": "code",
   "execution_count": 87,
   "metadata": {},
   "outputs": [
    {
     "data": {
      "text/plain": [
       "array([[17.  , 24.5 , 36.  ],\n",
       "       [ 6.  , 34.65, 44.55],\n",
       "       [17.  , 31.85, 14.85]])"
      ]
     },
     "execution_count": 87,
     "metadata": {},
     "output_type": "execute_result"
    }
   ],
   "source": [
    "wgrades"
   ]
  },
  {
   "cell_type": "markdown",
   "metadata": {},
   "source": [
    "### 表演技術的時候到了 加起來  (一列列加 一行行加 一律先列後行"
   ]
  },
  {
   "cell_type": "code",
   "execution_count": 78,
   "metadata": {},
   "outputs": [
    {
     "data": {
      "text/plain": [
       "array([77.5, 85.2, 63.7])"
      ]
     },
     "execution_count": 78,
     "metadata": {},
     "output_type": "execute_result"
    }
   ],
   "source": [
    "wgrades.sum(axis =1) #指定軸方向 0= 列 1 =行"
   ]
  },
  {
   "cell_type": "code",
   "execution_count": 79,
   "metadata": {},
   "outputs": [
    {
     "data": {
      "text/plain": [
       "array([77.5, 85.2, 63.7])"
      ]
     },
     "execution_count": 79,
     "metadata": {},
     "output_type": "execute_result"
    }
   ],
   "source": [
    "grades @ weights  #明明矩陣不合理 但他是如何乘的呢？"
   ]
  },
  {
   "cell_type": "markdown",
   "metadata": {},
   "source": [
    "        [  1   ]\n",
    "        [  2  ]      @  [   ]\n",
    "        [  3  ]   \n",
    "    \n",
    "    \n",
    "[ ]會分別送到 1,2,3 \n",
    "\n"
   ]
  },
  {
   "cell_type": "markdown",
   "metadata": {},
   "source": [
    "### weights.shape "
   ]
  },
  {
   "cell_type": "code",
   "execution_count": 277,
   "metadata": {},
   "outputs": [
    {
     "data": {
      "text/plain": [
       "array([[0.2 ],\n",
       "       [0.35],\n",
       "       [0.45]])"
      ]
     },
     "execution_count": 277,
     "metadata": {},
     "output_type": "execute_result"
    }
   ],
   "source": [
    "weights.reshape(3,1) ##改成行"
   ]
  },
  {
   "cell_type": "markdown",
   "metadata": {},
   "source": [
    "### 練習"
   ]
  },
  {
   "cell_type": "code",
   "execution_count": 278,
   "metadata": {},
   "outputs": [],
   "source": [
    "A = np.random.randint (0, 10 , 50 )"
   ]
  },
  {
   "cell_type": "code",
   "execution_count": 279,
   "metadata": {},
   "outputs": [
    {
     "data": {
      "image/png": "[encoded data removed]",
      "text/latex": [
       "$$\\left ( 50\\right )$$"
      ],
      "text/plain": [
       "(50,)"
      ]
     },
     "execution_count": 279,
     "metadata": {},
     "output_type": "execute_result"
    }
   ],
   "source": [
    "A. shape  #看Ａ的資料型態"
   ]
  },
  {
   "cell_type": "code",
   "execution_count": 280,
   "metadata": {},
   "outputs": [],
   "source": [
    "A.shape = (5,10)  #直接改成 5*10 之矩陣"
   ]
  },
  {
   "cell_type": "code",
   "execution_count": 281,
   "metadata": {},
   "outputs": [
    {
     "data": {
      "text/plain": [
       "array([[7, 7, 8, 2, 0, 5, 0, 2, 4, 9],\n",
       "       [2, 8, 0, 8, 9, 6, 2, 0, 6, 5],\n",
       "       [2, 5, 3, 0, 2, 3, 9, 9, 9, 4],\n",
       "       [1, 6, 5, 9, 6, 0, 8, 2, 7, 4],\n",
       "       [5, 5, 0, 0, 6, 4, 9, 9, 4, 6]])"
      ]
     },
     "execution_count": 281,
     "metadata": {},
     "output_type": "execute_result"
    }
   ],
   "source": [
    "A"
   ]
  },
  {
   "cell_type": "markdown",
   "metadata": {},
   "source": [
    "### 直接改數據不好 所以用 reshape 比較好"
   ]
  },
  {
   "cell_type": "code",
   "execution_count": 282,
   "metadata": {},
   "outputs": [
    {
     "data": {
      "text/plain": [
       "array([[7, 7, 8, 2, 0],\n",
       "       [5, 0, 2, 4, 9],\n",
       "       [2, 8, 0, 8, 9],\n",
       "       [6, 2, 0, 6, 5],\n",
       "       [2, 5, 3, 0, 2],\n",
       "       [3, 9, 9, 9, 4],\n",
       "       [1, 6, 5, 9, 6],\n",
       "       [0, 8, 2, 7, 4],\n",
       "       [5, 5, 0, 0, 6],\n",
       "       [4, 9, 9, 4, 6]])"
      ]
     },
     "execution_count": 282,
     "metadata": {},
     "output_type": "execute_result"
    }
   ],
   "source": [
    "A.reshape(10,5) ##只有改顯示沒有改本體"
   ]
  },
  {
   "cell_type": "code",
   "execution_count": 283,
   "metadata": {},
   "outputs": [
    {
     "data": {
      "text/plain": [
       "array([[7, 7, 8, 2, 0, 5, 0, 2, 4, 9],\n",
       "       [2, 8, 0, 8, 9, 6, 2, 0, 6, 5],\n",
       "       [2, 5, 3, 0, 2, 3, 9, 9, 9, 4],\n",
       "       [1, 6, 5, 9, 6, 0, 8, 2, 7, 4],\n",
       "       [5, 5, 0, 0, 6, 4, 9, 9, 4, 6]])"
      ]
     },
     "execution_count": 283,
     "metadata": {},
     "output_type": "execute_result"
    }
   ],
   "source": [
    "A"
   ]
  },
  {
   "cell_type": "code",
   "execution_count": 284,
   "metadata": {},
   "outputs": [],
   "source": [
    "A= A.reshape(10,5) ##真的去改本體 （此處去定義Ａ"
   ]
  },
  {
   "cell_type": "code",
   "execution_count": 285,
   "metadata": {},
   "outputs": [
    {
     "data": {
      "text/plain": [
       "array([[7, 7, 8, 2, 0],\n",
       "       [5, 0, 2, 4, 9],\n",
       "       [2, 8, 0, 8, 9],\n",
       "       [6, 2, 0, 6, 5],\n",
       "       [2, 5, 3, 0, 2],\n",
       "       [3, 9, 9, 9, 4],\n",
       "       [1, 6, 5, 9, 6],\n",
       "       [0, 8, 2, 7, 4],\n",
       "       [5, 5, 0, 0, 6],\n",
       "       [4, 9, 9, 4, 6]])"
      ]
     },
     "execution_count": 285,
     "metadata": {},
     "output_type": "execute_result"
    }
   ],
   "source": [
    "A"
   ]
  },
  {
   "cell_type": "markdown",
   "metadata": {},
   "source": [
    "## 矩陣拉回成一條向量"
   ]
  },
  {
   "cell_type": "code",
   "execution_count": 55,
   "metadata": {},
   "outputs": [
    {
     "data": {
      "text/plain": [
       "array([6, 9, 2, 9, 9, 5, 6, 1, 0, 4, 0, 4, 3, 7, 2, 7, 7, 5, 5, 0, 6, 5,\n",
       "       0, 8, 5, 0, 0, 2, 7, 6, 6, 9, 1, 5, 6, 4, 1, 8, 6, 0, 6, 4, 6, 5,\n",
       "       8, 7, 0, 2, 1, 4])"
      ]
     },
     "execution_count": 55,
     "metadata": {},
     "output_type": "execute_result"
    }
   ],
   "source": [
    "A.ravel()  # ravel 就是用回向量、"
   ]
  },
  {
   "cell_type": "code",
   "execution_count": 56,
   "metadata": {},
   "outputs": [
    {
     "data": {
      "text/plain": [
       "array([[6, 9, 2, 9, 9, 5, 6, 1, 0, 4],\n",
       "       [0, 4, 3, 7, 2, 7, 7, 5, 5, 0],\n",
       "       [6, 5, 0, 8, 5, 0, 0, 2, 7, 6],\n",
       "       [6, 9, 1, 5, 6, 4, 1, 8, 6, 0],\n",
       "       [6, 4, 6, 5, 8, 7, 0, 2, 1, 4]])"
      ]
     },
     "execution_count": 56,
     "metadata": {},
     "output_type": "execute_result"
    }
   ],
   "source": [
    "A"
   ]
  },
  {
   "cell_type": "markdown",
   "metadata": {},
   "source": [
    "### array 生成法"
   ]
  },
  {
   "cell_type": "code",
   "execution_count": 58,
   "metadata": {},
   "outputs": [
    {
     "data": {
      "text/plain": [
       "array([0., 0., 0., 0., 0., 0., 0., 0., 0., 0.])"
      ]
     },
     "execution_count": 58,
     "metadata": {},
     "output_type": "execute_result"
    }
   ],
   "source": [
    "np.zeros(10)"
   ]
  },
  {
   "cell_type": "code",
   "execution_count": 59,
   "metadata": {},
   "outputs": [
    {
     "data": {
      "text/plain": [
       "array([[0., 0., 0., 0.],\n",
       "       [0., 0., 0., 0.],\n",
       "       [0., 0., 0., 0.]])"
      ]
     },
     "execution_count": 59,
     "metadata": {},
     "output_type": "execute_result"
    }
   ],
   "source": [
    "np.zeros((3,4)) ##三列四行"
   ]
  },
  {
   "cell_type": "code",
   "execution_count": 61,
   "metadata": {},
   "outputs": [
    {
     "data": {
      "text/plain": [
       "array([[1., 0., 0., 0., 0.],\n",
       "       [0., 1., 0., 0., 0.],\n",
       "       [0., 0., 1., 0., 0.],\n",
       "       [0., 0., 0., 1., 0.],\n",
       "       [0., 0., 0., 0., 1.]])"
      ]
     },
     "execution_count": 61,
     "metadata": {},
     "output_type": "execute_result"
    }
   ],
   "source": [
    "np.eye(5)##單位矩陣identity matrx"
   ]
  },
  {
   "cell_type": "code",
   "execution_count": 62,
   "metadata": {},
   "outputs": [
    {
     "data": {
      "text/plain": [
       "array([[1., 1., 1., 1., 1., 1., 1.],\n",
       "       [1., 1., 1., 1., 1., 1., 1.],\n",
       "       [1., 1., 1., 1., 1., 1., 1.],\n",
       "       [1., 1., 1., 1., 1., 1., 1.],\n",
       "       [1., 1., 1., 1., 1., 1., 1.],\n",
       "       [1., 1., 1., 1., 1., 1., 1.],\n",
       "       [1., 1., 1., 1., 1., 1., 1.],\n",
       "       [1., 1., 1., 1., 1., 1., 1.]])"
      ]
     },
     "execution_count": 62,
     "metadata": {},
     "output_type": "execute_result"
    }
   ],
   "source": [
    "np.ones((8,7))"
   ]
  },
  {
   "cell_type": "code",
   "execution_count": 64,
   "metadata": {},
   "outputs": [
    {
     "data": {
      "text/plain": [
       "array([[1, 0, 0],\n",
       "       [0, 2, 0],\n",
       "       [0, 0, 3]])"
      ]
     },
     "execution_count": 64,
     "metadata": {},
     "output_type": "execute_result"
    }
   ],
   "source": [
    "np.diag((1,2,3)) #對角化 "
   ]
  },
  {
   "cell_type": "code",
   "execution_count": 67,
   "metadata": {},
   "outputs": [],
   "source": [
    "A = np.array([[3,1,4],\n",
    "                  [1,5,9],\n",
    "                  [2,6,1]])"
   ]
  },
  {
   "cell_type": "code",
   "execution_count": 69,
   "metadata": {},
   "outputs": [
    {
     "data": {
      "text/plain": [
       "array([3, 5, 1])"
      ]
     },
     "execution_count": 69,
     "metadata": {},
     "output_type": "execute_result"
    }
   ],
   "source": [
    "np.diag(A)"
   ]
  },
  {
   "cell_type": "markdown",
   "metadata": {},
   "source": [
    "### 過濾器"
   ]
  },
  {
   "cell_type": "code",
   "execution_count": 92,
   "metadata": {},
   "outputs": [],
   "source": [
    "L = np. array([3,-2,1,-5,3,7,20,-55,87,64])"
   ]
  },
  {
   "cell_type": "code",
   "execution_count": 287,
   "metadata": {},
   "outputs": [],
   "source": [
    "want = np.array([True,False,True,False,True,True,True,False,True,True]) #自行定義 -為flase +為True"
   ]
  },
  {
   "cell_type": "code",
   "execution_count": 288,
   "metadata": {},
   "outputs": [
    {
     "data": {
      "text/plain": [
       "array([ 3,  1,  3,  7, 20, 87, 64])"
      ]
     },
     "execution_count": 288,
     "metadata": {},
     "output_type": "execute_result"
    }
   ],
   "source": [
    "L[want] #只要正"
   ]
  },
  {
   "cell_type": "markdown",
   "metadata": {},
   "source": [
    "### 快一點的方法"
   ]
  },
  {
   "cell_type": "code",
   "execution_count": 103,
   "metadata": {},
   "outputs": [
    {
     "data": {
      "text/plain": [
       "array([ True, False,  True, False,  True,  True, False, False, False,\n",
       "       False])"
      ]
     },
     "execution_count": 103,
     "metadata": {},
     "output_type": "execute_result"
    }
   ],
   "source": [
    "(L>0)& (L<10) #需要 大於0 小於10 () 要加！！！"
   ]
  },
  {
   "cell_type": "code",
   "execution_count": 104,
   "metadata": {},
   "outputs": [
    {
     "data": {
      "text/plain": [
       "array([ 3,  0,  1,  3,  0,  7, 64])"
      ]
     },
     "execution_count": 104,
     "metadata": {},
     "output_type": "execute_result"
    }
   ],
   "source": [
    "L[L>0] & L[L<10] "
   ]
  },
  {
   "cell_type": "markdown",
   "metadata": {},
   "source": [
    "   ### 練習畫正的部份"
   ]
  },
  {
   "cell_type": "code",
   "execution_count": 109,
   "metadata": {},
   "outputs": [
    {
     "data": {
      "text/plain": [
       "[<matplotlib.lines.Line2D at 0x1070ec160>]"
      ]
     },
     "execution_count": 109,
     "metadata": {},
     "output_type": "execute_result"
    },
    {
     "data": {
      "image/png": "[encoded data removed]",
      "text/plain": [
       "<Figure size 432x288 with 1 Axes>"
      ]
     },
     "metadata": {
      "needs_background": "light"
     },
     "output_type": "display_data"
    }
   ],
   "source": [
    "x= np.linspace(-5,5 , 1000)\n",
    "y= np.sinc(x)\n",
    "plt.plot(x,y)\n",
    "plt.plot(x[y>0] , y[y>0] ,'o') #X與Ｙ都只取Ｙ>0的部分 如果沒有打 ,'o' 會有一條線"
   ]
  },
  {
   "cell_type": "markdown",
   "metadata": {},
   "source": [
    "## 上數學課哦 痛苦哦 horrible "
   ]
  },
  {
   "cell_type": "code",
   "execution_count": 110,
   "metadata": {},
   "outputs": [],
   "source": [
    "import sympy as sym "
   ]
  },
  {
   "cell_type": "code",
   "execution_count": 111,
   "metadata": {},
   "outputs": [
    {
     "data": {
      "text/plain": [
       "0.8333333333333333"
      ]
     },
     "execution_count": 111,
     "metadata": {},
     "output_type": "execute_result"
    }
   ],
   "source": [
    "1/2+1/3"
   ]
  },
  {
   "cell_type": "code",
   "execution_count": 289,
   "metadata": {},
   "outputs": [
    {
     "data": {
      "image/png": "[encoded data removed]",
      "text/latex": [
       "$$\\frac{5}{6}$$"
      ],
      "text/plain": [
       "5/6"
      ]
     },
     "execution_count": 289,
     "metadata": {},
     "output_type": "execute_result"
    }
   ],
   "source": [
    "sym.Rational(1,2) +sym.Rational(1,3)  ##有理數 1/2+1/3 把小數點改成分數"
   ]
  },
  {
   "cell_type": "markdown",
   "metadata": {},
   "source": [
    "## Above Like a shit"
   ]
  },
  {
   "cell_type": "code",
   "execution_count": 114,
   "metadata": {},
   "outputs": [],
   "source": [
    "sym.init_printing() ##好看 但一點屁用都沒有其實"
   ]
  },
  {
   "cell_type": "code",
   "execution_count": 116,
   "metadata": {},
   "outputs": [
    {
     "data": {
      "image/png": "[encoded data removed]",
      "text/latex": [
       "$$\\frac{5}{6}$$"
      ],
      "text/plain": [
       "5/6"
      ]
     },
     "execution_count": 116,
     "metadata": {},
     "output_type": "execute_result"
    }
   ],
   "source": [
    "sym.Rational(1,2) +sym.Rational(1,3)  "
   ]
  },
  {
   "cell_type": "markdown",
   "metadata": {},
   "source": [
    "### 來點乾貨 sympify 注意括號的位置！！ 如果全部刮起來他會先運算就會變成小數"
   ]
  },
  {
   "cell_type": "code",
   "execution_count": 293,
   "metadata": {},
   "outputs": [
    {
     "data": {
      "image/png": "[encoded data removed]",
      "text/latex": [
       "$$\\frac{5}{6}$$"
      ],
      "text/plain": [
       "5/6"
      ]
     },
     "execution_count": 293,
     "metadata": {},
     "output_type": "execute_result"
    }
   ],
   "source": [
    "sym.S(1)/2 +sym.S(1)/3 "
   ]
  },
  {
   "cell_type": "markdown",
   "metadata": {},
   "source": [
    "### 還是很垃圾 再快點"
   ]
  },
  {
   "cell_type": "code",
   "execution_count": 294,
   "metadata": {},
   "outputs": [],
   "source": [
    "from sympy import S, N"
   ]
  },
  {
   "cell_type": "code",
   "execution_count": 292,
   "metadata": {},
   "outputs": [
    {
     "data": {
      "image/png": "[encoded data removed]",
      "text/latex": [
       "$$\\frac{9}{14}$$"
      ],
      "text/plain": [
       "9/14"
      ]
     },
     "execution_count": 292,
     "metadata": {},
     "output_type": "execute_result"
    }
   ],
   "source": [
    "S(1)/2+S(1)/7"
   ]
  },
  {
   "cell_type": "code",
   "execution_count": 124,
   "metadata": {},
   "outputs": [
    {
     "data": {
      "image/png": "[encoded data removed]",
      "text/latex": [
       "$$\\pi$$"
      ],
      "text/plain": [
       "π"
      ]
     },
     "execution_count": 124,
     "metadata": {},
     "output_type": "execute_result"
    }
   ],
   "source": [
    "sym.pi"
   ]
  },
  {
   "cell_type": "markdown",
   "metadata": {},
   "source": [
    "## PI 的理論"
   ]
  },
  {
   "cell_type": "code",
   "execution_count": 297,
   "metadata": {},
   "outputs": [],
   "source": [
    "𝜋=sym.pi    #因為𝜋本來是沒定義的所以我們要用 sym.pi 去定義它"
   ]
  },
  {
   "cell_type": "code",
   "execution_count": 303,
   "metadata": {},
   "outputs": [
    {
     "data": {
      "text/latex": [
       "$$3.141592653589793238462643383279502884197169399375105820974944592307816406286208998628034825342117067982148086513282306647093844609550582231725359408128481117450284102701938521105559644622948954930381964428810975665933446128475648233786783165271201909145648566923460348610454326648213393607260249141273724587006606315588174881520920962829254091715364367892590360011330530548820466521384146951941511609433057270365759591953092186117381932611793105118548074462379962749567351885752724891227938183011949129833673362440656643086021394946395224737190702179860943702770539217176293176752384674818467669405132000568127145263560827785771342757789609173637178721468440901224953430146549585371050792279689258923542019956112129021960864034418159813629774771309960518707211349999998372978049951059731732816096318595024459455346908302642522308253344685035261931188171010003137838752886587533208381420617177669147303598253490428755468731159562863882353787593751957781857780532171226806613001927876611195909216420198938095257201065485863278865936153381827968230301952035301852968995773622599413891249721775283479131515574857242454150695950829533116861727855889075098381754637464939319255060400927701671139009848824012858361603563707660104710181942955596198946767837449448255379774726847104047534646208046684259069491293313677028989152104752162056966024058038150193511253382430035587640247496473263914199272604269922796782354781636009341721641219924586315030286182974555706749838505494588586926995690927210797509302955321165344987202755960236480665499119881834797753566369807426542527862551818417574672890977772793800081647060016145249192173217214772350141441973568548161361157352552133475741849468438523323907394143334547762416862518983569485562099219222184272550254256887671790494601653466804988627232791786085784383827967976681454100953883786360950680064225125205117392984896084128488626945604241965285022210661186306744278622039194945047123713786960956364371917287467764657573962413890865832645995813390478027590099465764078951269468398352595709825822620522489407726719478268482601476990902640136394437455305068203496252451749399651431429809190659250937221696461515709858387410597885959772975498930161753928468138268683868942774155991855925245953959431049972524680845987273644695848653836736222626099124608051243884390451244136549762780797715691435997700129616089441694868555848406353422072225828488648158456028506016842739452267467678895252138522549954666727823986456596116354886230577456498035593634568174324112515076069479451096596094025228879710893145669136867228748940560101503308617928680920874760917824938589009714909675985261365549781893129784821682998948722658804857564014270477555132379641451523746234364542858444795265867821051141354735739523113427166102135969536231442952484937187110145765403590279934403742007310578539062198387447808478489683321445713868751943506430218453191048481005370614680674919278191197939952061419663428754440643745123718192179998391015919561814675142691239748940907186494231961567945208095146550225231603881930142093762137855956638937787083039069792077346722182562599661501421503068038447734549202605414665925201497442850732518666002132434088190710486331734649651453905796268561005508106658796998163574736384052571459102897064140110971206280439039759515677157700420337869936007230558763176359421873125147120532928191826186125867321579198414848829164470609575270695722091756711672291098169091528017350671274858322287183520935396572512108357915136988209144421006751033467110314126711136990865851639831501970165151168517143765761835155650884909989859982387345528331635507647918535893226185489632132933089857064204675259070915481416549859461637180270981994309924488957571282890592323326097299712084433573265489382391193259746366730583604142813883032038249037589852437441702913276561809377344403070746921120191302033038019762110110044929321516084244485963766983895228684783123552658213144957685726243344189303968642624341077322697802807318915441101044682325271620105265227211166039666557309254711055785376346682065310989652691862056476931257058635662018558100729360659876486117910453348850346113657686753249441668039626579787718556084552965412665408530614344431858676975145661406800700237877659134401712749470420562230538994561314071127000407854733269939081454664645880797270826683063432858785698305235808933065757406795457163775254202114955761581400250126228594130216471550979259230990796547376125517656751357517829666454779174501129961489030463994713296210734043751895735961458901938971311179042978285647503203198691514028708085990480109412147221317947647772622414254854540332157185306142288137585043063321751829798662237172159160771669254748738986654949450114654062843366393790039769265672146385306736096571209180763832716641627488880078692560290228472104031721186082041900042296617119637792133757511495950156604963186294726547364252308177036751590673502350728354056704038674351362222477158915049530984448933309634087807693259939780541934144737744184263129860809988868741326047215695162396586457302163159819319516735381297416772947867242292465436680098067692823828068996400482435403701416314965897940924323789690706977942236250822168895738379862300159377647165122893578601588161755782973523344604281512627203734314653197777416031990665541876397929334419521541341899485444734567383162499341913181480927777103863877343177207545654532207770921201905166096280490926360197598828161332316663652861932668633606273567630354477628035045077723554710585954870279081435624014517180624643626794561275318134078330336254232783944975382437205835311477119926063813346776879695970309833913077109870408591337464144282277263465947047458784778720192771528073176790770715721344473060570073349243693113835049316312840425121925651798069411352801314701304781643788518529092854520116583934196562134914341595625865865570552690496520985803385072242648293972858478316305777756068887644624824685792603953527734803048029005876075825104747091643961362676044925627420420832085661190625454337213153595845068772460290161876679524061634252257719542916299193064553779914037340432875262888963995879475729174642635745525407909145135711136941091193932519107602082520261879853188770584297259167781314969900901921169717372784768472686084900337702424291651300500516832336435038951702989392233451722013812806965011784408745196012122859937162313017114448464090389064495444006198690754851602632750529834918740786680881833851022833450850486082503930213321971551843063545500766828294930413776552793975175461395398468339363830474611996653858153842056853386218672523340283087112328278921250771262946322956398989893582116745627010218356462201349671518819097303811980049734072396103685406643193950979019069963955245300545058068550195673022921913933918568034490398205955100226353536192041994745538593810234395544959778377902374216172711172364343543947822181852862408514006660443325888569867054315470696574745855033232334210730154594051655379068662733379958511562578432298827372319898757141595781119635833005940873068121602876496286744604774649159950549737425626901049037781986835938146574126804925648798556145372347867330390468838343634655379498641927056387293174872332083760112302991136793862708943879936201629515413371424892830722012690147546684765357616477379467520049075715552781965362132392640616013635815590742202020318727760527721900556148425551879253034351398442532234157623361064250639049750086562710953591946589751413103482276930624743536325691607815478181152843667957061108615331504452127473924544945423682886061340841486377670096120715124914043027253860764823634143346235189757664521641376796903149501910857598442391986291642193994907236234646844117394032659184044378051333894525742399508296591228508555821572503107125701266830240292952522011872676756220415420516184163484756516999811614101002996078386909291603028840026910414079288621507842451670908700069928212066041837180653556725253256753286129104248776182582976515795984703562226293486003415872298053498965022629174878820273420922224533985626476691490556284250391275771028402799806636582548892648802545661017296702664076559042909945681506526530537182941270336931378517860904070866711496558343434769338578171138645587367812301458768712660348913909562009939361031029161615288138437909904231747336394804575931493140529763475748119356709110137751721008031559024853090669203767192203322909433467685142214477379393751703443661991040337511173547191855046449026365512816228824462575916333039107225383742182140883508657391771509682887478265699599574490661758344137522397096834080053559849175417381883999446974867626551658276584835884531427756879002909517028352971634456212964043523117600665101241200659755851276178583829204197484423608007193045761893234922927965019875187212726750798125547095890455635792122103334669749923563025494780249011419521238281530911407907386025152274299581807247162591668545133312394804947079119153267343028244186041426363954800044800267049624820179289647669758318327131425170296923488962766844032326092752496035799646925650493681836090032380929345958897069536534940603402166544375589004563288225054525564056448246515187547119621844396582533754388569094113031509526179378002974120766514793942590298969594699556576121865619673378623625612521632086286922210327488921865436480229678070576561514463204692790682120738837781423356282360896320806822246801224826117718589638140918390367367222088832151375560037279839400415297002878307667094447456013455641725437090697939612257142989467154357846878861444581231459357198492252847160504922124247014121478057345510500801908699603302763478708108175450119307141223390866393833952942578690507643100638351983438934159613185434754649556978103829309716465143840700707360411237359984345225161050702705623526601276484830840761183013052793205427462865403603674532865105706587488225698157936789766974220575059683440869735020141020672358502007245225632651341055924019027421624843914035998953539459094407046912091409387001264560016237428802109276457931065792295524988727584610126483699989225695968815920560010165525637567856672279661988578279484885583439751874454551296563443480396642055798293680435220277098429423253302257634180703947699415979159453006975214829336655566156787364005366656416547321704390352132954352916941459904160875320186837937023488868947915107163785290234529244077365949563051007421087142613497459561513849871375704710178795731042296906667021449863746459528082436944578977233004876476524133907592043401963403911473202338071509522201068256342747164602433544005152126693249341967397704159568375355516673027390074972973635496453328886984406119649616277344951827369558822075735517665158985519098666539354948106887320685990754079234240230092590070173196036225475647894064754834664776041146323390565134330684495397907090302346046147096169688688501408347040546074295869913829668246818571031887906528703665083243197440477185567893482308943106828702722809736248093996270607472645539925399442808113736943388729406307926159599546262462970706259484556903471197299640908941805953439325123623550813494900436427852713831591256898929519642728757394691427253436694153236100453730488198551706594121735246258954873016760029886592578662856124966552353382942878542534048308330701653722856355915253478445981831341129001999205981352205117336585640782648494276441137639386692480311836445369858917544264739988228462184490087776977631279572267265556259628254276531830013407092233436577916012809317940171859859993384923549564005709955856113498025249906698423301735035804408116855265311709957089942732870925848789443646005041089226691783525870785951298344172953519537885534573742608590290817651557803905946408735061232261120093731080485485263572282576820341605048466277504500312620080079980492548534694146977516493270950493463938243222718851597405470214828971117779237612257887347718819682546298126868581705074027255026332904497627789442362167411918626943965067151577958675648239939176042601763387045499017614364120469218237076488783419689686118155815873606293860381017121585527266830082383404656475880405138080163363887421637140643549556186896411228214075330265510042410489678352858829024367090488711819090949453314421828766181031007354770549815968077200947469613436092861484941785017180779306810854690009445899527942439813921350558642219648349151263901280383200109773868066287792397180146134324457264009737425700735921003154150893679300816998053652027600727749674584002836240534603726341655425902760183484030681138185510597970566400750942608788573579603732451414678670368809880609716425849759513806930944940151542222194329130217391253835591503100333032511174915696917450271494331515588540392216409722910112903552181576282328318234254832611191280092825256190205263016391147724733148573910777587442538761174657867116941477642144111126358355387136101102326798775641024682403226483464176636980663785768134920453022408197278564719839630878154322116691224641591177673225326433568614618654522268126887268445968442416107854016768142080885028005414361314623082102594173756238994207571362751674573189189456283525704413354375857534269869947254703165661399199968262824727064133622217892390317608542894373393561889165125042440400895271983787386480584726895462438823437517885201439560057104811949884239060613695734231559079670346149143447886360410318235073650277859089757827273130504889398900992391350337325085598265586708924261242947367019390772713070686917092646254842324074855036608013604668951184009366860954632500214585293095000090715105823626729326453738210493872499669933942468551648326113414611068026744663733437534076429402668297386522093570162638464852851490362932019919968828517183953669134522244470804592396602817156551565666111359823112250628905854914509715755390024393153519090210711945730024388017661503527086260253788179751947806101371500448991721002220133501310601639154158957803711779277522597874289191791552241718958536168059474123419339842021874564925644346239253195313510331147639491199507285843065836193536932969928983791494193940608572486396883690326556436421664425760791471086998431573374964883529276932822076294728238153740996154559879825989109371712621828302584811238901196822142945766758071865380650648702613389282299497257453033283896381843944770779402284359883410035838542389735424395647555684095224844554139239410001620769363684677641301781965937997155746854194633489374843912974239143365936041003523437770658886778113949861647874714079326385873862473288964564359877466763847946650407411182565837887845485814896296127399841344272608606187245545236064315371011274680977870446409475828034876975894832824123929296058294861919667091895808983320121031843034012849511620353428014412761728583024355983003204202451207287253558119584014918096925339507577840006746552603144616705082768277222353419110263416315714740612385042584598841990761128725805911393568960143166828317632356732541707342081733223046298799280490851409479036887868789493054695570307261900950207643349335910602454508645362893545686295853131533718386826561786227363716975774183023986006591481616404944965011732131389574706208847480236537103115089842799275442685327797431139514357417221975979935968525228574526379628961269157235798662057340837576687388426640599099350500081337543245463596750484423528487470144354541957625847356421619813407346854111766883118654489377697956651727966232671481033864391375186594673002443450054499539974237232871249483470604406347160632583064982979551010954183623503030945309733583446283947630477564501500850757894954893139394489921612552559770143685894358587752637962559708167764380012543650237141278346792610199558522471722017772370041780841942394872540680155603599839054898572354674564239058585021671903139526294455439131663134530893906204678438778505423939052473136201294769187497519101147231528932677253391814660730008902776896311481090220972452075916729700785058071718638105496797310016787085069420709223290807038326345345203802786099055690013413718236837099194951648960075504934126787643674638490206396401976668559233565463913836318574569814719621084108096188460545603903845534372914144651347494078488442377217515433426030669883176833100113310869042193903108014378433415137092435301367763108491351615642269847507430329716746964066653152703532546711266752246055119958183196376370761799191920357958200759560530234626775794393630746305690108011494271410093913691381072581378135789400559950018354251184172136055727522103526803735726527922417373605751127887218190844900617801388971077082293100279766593583875890939568814856026322439372656247277603789081445883785501970284377936240782505270487581647032458129087839523245323789602984166922548964971560698119218658492677040395648127810217991321741630581055459880130048456299765112124153637451500563507012781592671424134210330156616535602473380784302865525722275304999883701534879300806260180962381516136690334111138653851091936739383522934588832255088706450753947395204396807906708680644509698654880168287434378612645381583428075306184548590379821799459968115441974253634439960290251001588827216474500682070419376158454712318346007262933955054823955713725684023226821301247679452264482091023564775272308208106351889915269288910845557112660396503439789627825001611015323516051965590421184494990778999200732947690586857787872098290135295661397888486050978608595701773129815531495168146717695976099421003618355913877781769845875810446628399880600616229848616935337386578773598336161338413385368421197893890018529569196780455448285848370117096721253533875862158231013310387766827211572694951817958975469399264219791552338576623167627547570354699414892904130186386119439196283887054367774322427680913236544948536676800000106526248547305586159899914017076983854831887501429389089950685453076511680333732226517566220752695179144225280816517166776672793035485154204023817460892328391703275425750867655117859395002793389592057668278967764453184040418554010435134838953120132637836928358082719378312654961745997056745071833206503455664403449045362756001125018433560736122276594927839370647842645676338818807565612168960504161139039063960162022153684941092605387688714837989559999112099164646441191856827700457424343402167227644558933012778158686952506949936461017568506016714535431581480105458860564550133203758645485840324029871709348091055621167154684847780394475697980426318099175642280987399876697323769573701580806822904599212366168902596273043067931653114940176473769387351409336183321614280214976339918983548487562529875242387307755955595546519639440182184099841248982623673771467226061633643296406335728107078875816404381485018841143188598827694490119321296827158884133869434682859006664080631407775772570563072940049294030242049841656547973670548558044586572022763784046682337985282710578431975354179501134727362577408021347682604502285157979579764746702284099956160156910890384582450267926594205550395879229818526480070683765041836562094555434613513415257006597488191634135955671964965403218727160264859304903978748958906612725079482827693895352175362185079629778514618843271922322381015874445052866523802253284389137527384589238442253547265309817157844783421582232702069028723233005386216347988509469547200479523112015043293226628272763217790884008786148022147537657810581970222630971749507212724847947816957296142365859578209083073323356034846531873029302665964501371837542889755797144992465403868179921389346924474198509733462679332107268687076806263991936196504409954216762784091466985692571507431574079380532392523947755744159184582156251819215523370960748332923492103451462643744980559610330799414534778457469999212859999939961228161521931488876938802228108300198601654941654261696858678837260958774567618250727599295089318052187292461086763995891614585505839727420980909781729323930106766386824040111304024700735085782872462713494636853181546969046696869392547251941399291465242385776255004748529547681479546700705034799958886769501612497228204030399546327883069597624936151010243655535223069061294938859901573466102371223547891129254769617600504797492806072126803922691102777226102544149221576504508120677173571202718024296810620377657883716690910941807448781404907551782038565390991047759414132154328440625030180275716965082096427348414695726397884256008453121406593580904127113592004197598513625479616063228873618136737324450607924411763997597461938358457491598809766744709300654634242346063423747466608043170126005205592849369594143408146852981505394717890045183575515412522359059068726487863575254191128887737176637486027660634960353679470269232297186832771739323619200777452212624751869833495151019864269887847171939664976907082521742336566272592844062043021411371992278526998469884770232382384005565551788908766136013047709843861168705231055314916251728373272867600724817298763756981633541507460883866364069347043720668865127568826614973078865701568501691864748854167915459650723428773069985371390430026653078398776385032381821553559732353068604301067576083890862704984188859513809103042359578249514398859011318583584066747237029714978508414585308578133915627076035639076394731145549583226694570249413983163433237897595568085683629725386791327505554252449194358912840504522695381217913191451350099384631177401797151228378546011603595540286440590249646693070776905548102885020808580087811577381719174177601733073855475800605601433774329901272867725304318251975791679296996504146070664571258883469797964293162296552016879730003564630457930884032748077181155533090988702550520768046303460865816539487695196004408482065967379473168086415645650530049881616490578831154345485052660069823093157776500378070466126470602145750579327096204782561524714591896522360839664562410519551052235723973951288181640597859142791481654263289200428160913693777372229998332708208296995573772737566761552711392258805520189887620114168005468736558063347160373429170390798639652296131280178267971728982293607028806908776866059325274637840539769184808204102194471971386925608416245112398062011318454124478205011079876071715568315407886543904121087303240201068534194723047666672174986986854707678120512473679247919315085644477537985379973223445612278584329684664751333657369238720146472367942787004250325558992688434959287612400755875694641370562514001179713316620715371543600687647731867558714878398908107429530941060596944315847753970094398839491443235366853920994687964506653398573888786614762944341401049888993160051207678103588611660202961193639682134960750111649832785635316145168457695687109002999769841263266502347716728657378579085746646077228341540311441529418804782543876177079043000156698677679576090996693607559496515273634981189641304331166277471233881740603731743970540670310967676574869535878967003192586625941051053358438465602339179674926784476370847497833365557900738419147319886271352595462518160434225372996286326749682405806029642114638643686422472488728343417044157348248183330164056695966886676956349141632842641497453334999948000266998758881593507357815195889900539512085351035726137364034367534714104836017546488300407846416745216737190483109676711344349481926268111073994825060739495073503169019731852119552635632584339099822498624067031076831844660729124874754031617969941139738776589986855417031884778867592902607004321266617919223520938227878880988633599116081923535557046463491132085918979613279131975649097600013996234445535014346426860464495862476909434704829329414041114654092398834443515913320107739441118407410768498106634724104823935827401944935665161088463125678529776973468430306146241803585293315973458303845541033701091676776374276210213701354854450926307190114731848574923318167207213727935567952844392548156091372812840633303937356242001604566455741458816605216660873874804724339121295587776390696903707882852775389405246075849623157436917113176134783882719416860662572103685132156647800147675231039357860689611125996028183930954870905907386135191459181951029732787557104972901148717189718004696169777001791391961379141716270701895846921434369676292745910994006008498356842520191559370370101104974733949387788598941743303178534870760322198297057975119144051099423588303454635349234982688362404332726741554030161950568065418093940998202060999414021689090070821330723089662119775530665918814119157783627292746156185710372172471009521423696483086410259288745799932237495519122195190342445230753513380685680735446499512720317448719540397610730806026990625807602029273145525207807991418429063884437349968145827337207266391767020118300464819000241308350884658415214899127610651374153943565721139032857491876909441370209051703148777346165287984823533829726013611098451484182380812054099612527458088109948697221612852489742555551607637167505489617301680961380381191436114399210638005083214098760459930932485102516829446726066613815174571255975495358023998314698220361338082849935670557552471290274539776214049318201465800802156653606776550878380430413431059180460680083459113664083488740800574127258670479225831912741573908091438313845642415094084913391809684025116399193685322555733896695374902662092326131885589158083245557194845387562878612885900410600607374650140262782402734696252821717494158233174923968353013617865367376064216677813773995100658952887742766263684183068019080460984980946976366733566228291513235278880615776827815958866918023894033307644191240341202231636857786035727694154177882643523813190502808701857504704631293335375728538660588890458311145077394293520199432197117164223500564404297989208159430716701985746927384865383343614579463417592257389858800169801475742054299580124295810545651083104629728293758416116253256251657249807849209989799062003593650993472158296517413579849104711166079158743698654122234834188772292944633517865385673196255985202607294767407261676714557364981210567771689348491766077170527718760119990814411305864557791052568430481144026193840232247093924980293355073184589035539713308844617410795916251171486487446861124760542867343670904667846867027409188101424971114965781772427934707021668829561087779440504843752844337510882826477197854000650970403302186255614733211777117441335028160884035178145254196432030957601869464908868154528562134698835544456024955666843660292219512483091060537720198021831010327041783866544718126039719068846237085751808003532704718565949947612424811099928867915896904956394762460842406593094862150769031498702067353384834955083636601784877106080980426924713241000946401437360326564518456679245666955100150229833079849607994988249706172367449361226222961790814311414660941234159359309585407913908720832273354957208075716517187659944985693795623875551617575438091780528029464200447215396280746360211329425591600257073562812638733106005891065245708024474937543184149401482119996276453106800663118382376163966318093144467129861552759820145141027560068929750246304017351489194576360789352855505317331416457050499644389093630843874484783961684051845273288403234520247056851646571647713932377551729479512613239822960239454857975458651745878771331813875295980941217422730035229650808917770506825924882232215493804837145478164721397682096332050830564792048208592047549985732038887639160199524091893894557676874973085695595801065952650303626615975066222508406742889826590751063756356996821151094966974458054728869363102036782325018232370845979011154847208761821247781326633041207621658731297081123075815982124863980721240786887811450165582513617890307086087019897588980745664395515741536319319198107057533663373803827215279884935039748001589051942087971130805123393322190346624991716915094854140187106035460379464337900589095772118080446574396280618671786101715674096766208029576657705129120990794430463289294730615951043090222143937184956063405618934251305726829146578329334052463502892917547087256484260034962961165413823007731332729830500160256724014185152041890701154288579920812198449315699905918201181973350012618772803681248199587707020753240636125931343859554254778196114293516356122349666152261473539967405158499860355295332924575238881013620234762466905581643896786309762736550472434864307121849437348530060638764456627218666170123812771562137974614986132874411771455244470899714452288566294244023018479120547849857452163469644897389206240194351831008828348024924908540307786387516591130287395878709810077271827187452901397283661484214287170553179654307650453432460053636147261818096997693348626407743519992868632383508875668359509726557481543194019557685043724800102041374983187225967738715495839971844490727914196584593008394263702087563539821696205532480321226749891140267852859967340524203109179789990571882194939132075343170798002373659098537552023891164346718558290685371189795262623449248339249634244971465684659124891855662958932990903523923333364743520370770101084388003290759834217018554228386161721041760301164591878053936744747205998502358289183369292233732399948043710841965947316265482574809948250999183300697656936715968936449334886474421350084070066088359723503953234017958255703601693699098867113210979889707051728075585519126993067309925070407024556850778679069476612629808225163313639952117098452809263037592242674257559989289278370474445218936320348941552104459726188380030067761793138139916205806270165102445886924764924689192461212531027573139084047000714356136231699237169484813255420091453041037135453296620639210547982439212517254013231490274058589206321758949434548906846399313757091034633271415316223280552297297953801880162859073572955416278867649827418616421878988574107164906919185116281528548679417363890665388576422915834250067361245384916067413734017357277995634104332688356950781493137800736235418007061918026732855119194267609122103598746924117283749312616339500123959924050845437569850795704622266461900010350049018303415354584283376437811198855631877779253720116671853954183598443830520376281944076159410682071697030228515225057312609304689842343315273213136121658280807521263154773060442377475350595228717440266638914881717308643611138906942027908814311944879941715404210341219084709408025402393294294549387864023051292711909751353600092197110541209668311151632870542302847007312065803262641711616595761327235156666253667271899853419989523688483099930275741991646384142707798870887422927705389122717248632202889842512528721782603050099451082478357290569198855546788607946280537122704246654319214528176074148240382783582971930101788834567416781139895475044833931468963076339665722672704339321674542182455706252479721997866854279897799233957905758189062252547358220523642485078340711014498047872669199018643882293230538231855973286978092225352959101734140733488476100556401824239219269506208318381454698392366461363989101210217709597670490830508185470419466437131229969235889538493013635657618610606222870559942337163102127845744646398973818856674626087948201864748767272722206267646533809980196688368099415907577685263986514625333631245053640261056960551318381317426118442018908885319635698696279503673842431301133175330532980201668881748134298868158557781034323175306478498321062971842518438553442762012823457071698853051832617964117857960888815032960229070561447622091509473903594664691623539680920139457817589108893199211226007392814916948161527384273626429809823406320024402449589445612916704950823581248739179964864113348032475777521970893277226234948601504665268143987705161531702669692970492831628550421289814670619533197026950721437823047687528028735412616639170824592517001071418085480063692325946201900227808740985977192180515853214739265325155903541020928466592529991435379182531454529059841581763705892790690989691116438118780943537152133226144362531449012745477269573939348154691631162492887357471882407150399500944673195431619385548520766573882513963916357672315100555603726339486720820780865373494244011579966750736071115935133195919712094896471755302453136477094209463569698222667377520994516845064362382421185353488798939567318780660610788544000550827657030558744854180577889171920788142335113866292966717964346876007704799953788338787034871802184243734211227394025571769081960309201824018842705704609262256417837526526335832424066125331152942345796556950250681001831090041124537901533296615697052237921032570693705109083078947999900499939532215362274847660361367769797856738658467093667958858378879562594646489137665219958828693380183601193236857855855819555604215625088365020332202451376215820461810670519533065306060650105488716724537794283133887163139559690583208341689847606560711834713621812324622725884199028614208728495687963932546428534307530110528571382964370999035694888528519040295604734613113826387889755178856042499874831638280404684861893818959054203988987265069762020199554841265000539442820393012748163815853039643992547020167275932857436666164411096256633730540921951967514832873480895747777527834422109107311135182804603634719818565557295714474768255285786334934285842311874944000322969069775831590385803935352135886007960034209754739229673331064939560181223781285458431760556173386112673478074585067606304822940965304111830667108189303110887172816751957967534718853722930961614320400638132246584111115775835858113501856904781536893813771847281475199835050478129771859908470762197460588742325699582889253504193795826061621184236876851141831606831586799460165205774052942305360178031335726326705479033840125730591233960188013782542192709476733719198728738524805742124892118347087662966720727232565056512933312605950577772754247124164831283298207236175057467387012820957554430596839555568686118839713552208445285264008125202766555767749596962661260456524568408613923826576858338469849977872670655519185446869846947849573462260629421962455708537127277652309895545019303773216664918257815467729200521266714346320963789185232321501897612603437368406719419303774688099929687758244104787812326625318184596045385354383911449677531286426092521153767325886672260404252349108702695809964759580579466397341906401003636190404203311357933654242630356145700901124480089002080147805660371015412232889146572239314507607167064355682743774396578906797268743847307634645167756210309860409271709095128086309029738504452718289274968921210667008164858339553773591913695015316201890888748421079870689911480466927065094076204650277252865072890532854856143316081269300569378541786109696920253886503457718317668688592368148847527649846882194973972970773718718840041432312763650481453112285099002074240925585925292610302106736815434701525234878635164397623586041919412969769040526483234700991115424260127343802208933109668636789869497799400126016422760926082349304118064382913834735467972539926233879158299848645927173405922562074910530853153718291168163721939518870095778818158685046450769934394098743351443162633031724774748689791820923948083314397084067308407958935810896656477585990556376952523265361442478023082681183103773588708924061303133647737101162821461466167940409051861526036009252194721889091810733587196414214447865489952858234394705007983038853886083103571930600277119455802191194289992272235345870756624692617766317885514435021828702668561066500353105021631820601760921798468493686316129372795187307897263735371715025637873357977180818487845886650433582437700414771041493492743845758710715973155943942641257027096512510811554824793940359768118811728247215825010949609662539339538092219559191818855267806214992317276316321833989693807561685591175299845013206712939240414459386239880938124045219148483164621014738918251010909677386906640415897361047643650006807710565671848628149637111883219244566394581449148616550049567698269030891118568798692947051352481609174324301538368470729289898284602223730145265567989862776796809146979837826876431159883210904371561129976652153963546442086919756737000573876497843768628768179249746943842746525631632300555130417422734164645512781278457777245752038654375428282567141288583454443513256205446424101103795546419058116862305964476958705407214198521210673433241075676757581845699069304604752277016700568454396923404171108988899341635058515788735343081552081177207188037910404698306957868547393765643363197978680367187307969392423632144845035477631567025539006542311792015346497792906624150832885839529054263768766896880503331722780018588506973623240389470047189761934734430843744375992503417880797223585913424581314404984770173236169471976571535319775499716278566311904691260918259124989036765417697990362375528652637573376352696934435440047306719886890196814742876779086697968852250163694985673021752313252926537589641517147955953878427849986645630287883196209983049451987439636907068276265748581043911223261879405994155406327013198989570376110532360629867480377915376751158304320849872092028092975264981256916342500052290887264692528466610466539217148208013050229805263783642695973370705392278915351056888393811324975707133102950443034671598944878684711643832805069250776627450012200352620370946602341464899839025258883014867816219677519458316771876275720050543979441245990077115205154619930509838698254284640725554092740313257163264079293418334214709041254253352324802193227707535554679587163835875018159338717423606155117101312352563348582036514614187004920570437201826173319471570086757853933607862273955818579758725874410254207710547536129404746010009409544495966288148691590389907186598056361713769222729076419775517772010427649694961105622059250242021770426962215495872645398922769766031052498085575947163107587013320886146326641259114863388122028444069416948826152957762532501987035987067438046982194205638125583343642194923227593722128905642094308235254408411086454536940496927149400331978286131818618881111840825786592875742638445005994422956858646048103301538891149948693543603022181094346676400002236255057363129462629609619876056425996394613869233083719626595473923462413459779574852464783798079569319865081597767535055391899115133525229873611277918274854200868953965835942196333150286956119201229888988700607999279541118826902307891310760361763477948943203210277335941690865007193280401716384064498787175375678118532132840821657110754952829497493621460821558320568723218557406516109627487437509809223021160998263303391546949464449100451528092508974507489676032409076898365294065792019831526541065813682379198409064571246894847020935776119313998024681340520039478194986620262400890215016616381353838151503773502296607462795291038406868556907015751662419298724448271942933100485482445458071889763300323252582158128032746796200281476243182862217105435289834820827345168018613171959332471107466222850871066611770346535283957762599774467218571581612641114327179434788599089280848669491413909771673690027775850268664654056595039486784111079011610400857274456293842549416759460548711723594642910585090995021495879311219613590831588262068233215615308683373083817327932819698387508708348388046388478441884003184712697454370937329836240287519792080232187874488287284372737801782700805878241074935751488997891173974612932035108143270325140903048746226294234432757126008664250833318768865075642927160552528954492153765175149219636718104943531785838345386525565664065725136357506435323650893679043170259787817719031486796384082881020946149007971513771709906195496964007086766710233004867263147551053723175711432231741141168062286420638890621019235522354671166213749969326932173704310598722503945657492461697826097025335947502091383667377289443869640002811034402608471289900074680776484408871134135250336787731679770937277868216611786534423173226463784769787514433209534000165069213054647689098505020301504488083426184520873053097318949291642532293361243151430657826407028389840984160295030924189712097160164926561341343342229882790992178604267981245728534580133826099587717811310216734025656274400729683406619848067661580502169183372368039902793160642043681207990031626444914619021945822969099212278855394878353830564686488165556229431567312827439082645061162894280350166133669782405177015521962652272545585073864058529983037918035043287670380925216790757120406123759632768567484507915114731344000183257034492090971243580944790046249431345502890068064870429353403743603262582053579011839564908935434510134296961754524957396062149028872893279252069653538639644322538832752249960598697475988232991626354597332444516375533437749292899058117578635555562693742691094711700216541171821975051983178713710605106379555858890556885288798908475091576463907469361988150781468526213325247383765119299015610918977792200870579339646382749068069876916819749236562422608715417610043060890437797667851966189140414492527048088197149880154205778700652159400928977760133075684796699295543365613984773806039436889588764605498387147896848280538470173087111776115966350503997934386933911978988710915654170913308260764740630571141109883938809548143782847452883836807941888434266622207043872288741394780101772139228191199236540551639589347426395382482960903690028835932774585506080131798840716244656399794827578365019551422155133928197822698427863839167971509126241054872570092407004548848569295044811073808799654748156891393538094347455697212891982717702076661360248958146811913361412125878389557735719498631721084439890142394849665925173138817160266326193106536653504147307080441493916936326237376777709585031325599009576273195730864804246770121232702053374266705314244820816813030639737873664248367253983748769098060218278578621651273856351329014890350988327061725893257536399397905572917516009761545904477169226580631511102803843601737474215247608515209901615858231257159073342173657626714239047827958728150509563309280266845893764964977023297364131906098274063353108979246424213458374090116939196425045912881340349881063540088759682005440836438651661788055760895689672753153808194207733259791727843762566118431989102500749182908647514979400316070384554946538594602745244746681231468794344161099333890899263841184742525704457251745932573898956518571657596148126602031079762825416559050604247911401695790033835657486925280074302562341949828646791447632277400552946090394017753633565547193100017543004750471914489984104001586794617924161001645471655133707407395026044276953855383439755054887109978520540117516974758134492607943368954378322117245068734423198987884412854206474280973562580706698310697993526069339213568588139121480735472846322778490808700246777630360555123238665629517885371967303463470122293958160679250915321748903084088651606111901149844341235012464692802880599613428351188471544977127847336176628506216977871774382436256571177945006447771837022199910669502165675764404499794076503799995484500271066598781360380231412683690578319046079276529727769404361302305178708054651154246939526512710105292707030667302444712597393995051462840476743136373997825918454117641332790646063658415292701903027601733947486696034869497654175242930604072700505903950314852292139257559484507886797792525393176515641619716844352436979444735596426063339105512682606159572621703669850647328126672452198906054988028078288142979633669674412480598219214633956574572210229867759974673812606936706913408155941201611596019023775352555630060624798326124988128819293734347686268921923977783391073310658825681377717232831532908252509273304785072497713944833389255208117560845296659055394096556854170600117985729381399825831929367910039184409928657560599359891000296986446097471471847010153128376263114677420914557404181590880006494323785583930853082830547607679952435739163122188605754967383224319565065546085288120190236364471270374863442172725787950342848631294491631847534753143504139209610879605773098720135248407505763719925365047090858251393686346386336804289176710760211115982887553994012007601394703366179371539630613986365549221374159790511908358829009765664730073387931467891318146510931676157582135142486044229244530411316065270097433008849903467540551864067734260358340960860553374736276093565885310976099423834738222208729246449768456057956251676557408841032173134562773585605235823638953203853402484227337163912397321599544082842166663602329654569470357718487344203422770665383738750616921276801576618109542009770836360436111059240911788954033802142652394892968643980892611463541457153519434285072135345301831587562827573389826889852355779929572764522939156747756667605108788764845349363606827805056462281359888587925994094644604170520447004631513797543173718775603981596264750141090665886616218003826698996196558058720863972117699521946678985701179833244060181157565807428418291061519391763005919431443460515404771057005433900018245311773371895585760360718286050635647997900413976180895536366960316219311325022385179167205518065926351803625121457592623836934822266589557699466049193811248660909979812857182349400661555219611220720309227764620099931524427358948871057662389469388944649509396033045434084210246240104872332875008174917987554387938738143989423801176270083719605309438394006375611645856094312951759771393539607432279248922126704580818331376416581826956210587289244774003594700926866265965142205063007859200248829186083974373235384908396432614700053242354064704208949921025040472678105908364400746638002087012666420945718170294675227854007450855237772089058168391844659282941701828823301497155423523591177481862859296760504820386434310877956289292540563894662194826871104282816389397571175778691543016505860296521745958198887868040811032843273986719862130620555985526603640504628215230615459447448990883908199973874745296981077620148713400012253552224669540931521311533791579802697955571050850747387475075806876537644578252443263804614304288923593485296105826938210349800040524840708440356116781717051281337880570564345061611933042444079826037795119854869455915205196009304127100727784930155503889536033826192934379708187432094991415959339636811062755729527800425486306005452383915106899891357882001941178653568214911852820785213012551851849371150342215954224451190020739353962740020811046553020793286725474054365271759589350071633607632161472581540764205302004534018357233829266191530835409512022632916505442612361919705161383935732669376015691442994494374485680977569630312958871916112929468188493633864739274760122696415884890096571708616059814720446742866420876533479985822209061980217321161423041947775499073873856794118982466091309169177227420723336763503267834058630193019324299639720444517928812285447821195353089891012534297552472763573022628138209180743974867145359077863353016082155991131414420509144729353502223081719366350934686585865631485557586244781862010871188976065296989926932817870557643514338206014107732926106343152533718224338526352021773544071528189813769875515757454693972715048846979361950047772097056179391382898984532742622728864710888327017372325881824465843624958059256033810521560620615571329915608489206434030339526226345145428367869828807425142256745180618414956468611163540497189768215422772247947403357152743681940989205011365340012384671429655186734415374161504256325671343024765512521921803578016924032669954174608759240920700466934039651017813485783569444076047023254075555776472845075182689041829396611331016013111907739863246277821902365066037404160672496249013743321724645409741299557052914243820807609836482346597388669134991978401310801558134397919485283043673901248208244481412809544377389832005986490915950532285791457688496257866588599917986752055455809900455646117875524937012455321717019428288461740273664997847550829422802023290122163010230977215156944642790980219082668986883426307160920791408519769523555348865774342527753119724743087304361951139611908003025587838764420608504473063129927788894272918972716989057592524467966018970748296094919064876469370275077386643239191904225429023531892337729316673608699622803255718530891928440380507103006477684786324319100022392978525537237556621364474009676053943983823576460699246526008909062410590421545392790441152958034533450025624410100635953003959886446616959562635187806068851372346270799732723313469397145628554261546765063246567662027924520858134771760852169134094652030767339184114750414016892412131982688156866456148538028753933116023229255561894104299533564009578649534093511526645402441877594931693056044868642086275720117231952640502309977456764783848897346431721598062678767183800524769688408498918508614900343240347674268624595239589035858213500645099817824463608731775437885967767291952611121385919472545140030118050343787527766440276261894101757687268042817662386068047788524288743025914524707395054652513533945959878961977891104189029294381856720507096460626354173294464957661265195349570186001541262396228641389779673332907056737696215649818450684226369036784955597002607986799626101903933126376855696876702929537116252800554310078640872893922571451248113577862766490242516199027747109033593330930494838059785662884478744146984149906712376478958226329490467981208998485716357108783119184863025450162092980582920833481363840542172005612198935366937133673339246441612522319694347120641737549121635700857369439730597970971972666664226743111776217640306868131035189911227133972403688700099686292254646500638528862039380050477827691283560337254825579391298525150682996910775425764748832534141213280062671709400909822352965795799780301828242849022147074811112401860761341515038756983091865278065889668236252393784527263453042041880250844236319038331838455052236799235775292910692504326144695010986108889991465855188187358252816430252093928525807796973762084563748211443398816271003170315133440230952635192958868069082135585368016100021374085115448491268584126869589917414913382057849280069825519574020181810564129725083607035685105533178784082900004155251186577945396331753853209214972052660783126028196116485809868458752512999740409279768317663991465538610893758795221497173172813151793290443112181587102351874075722210012376872194474720934931232410706508061856237252673254073332487575448296757345001932190219911996079798937338367324257610393898534927877747398050808001554476406105352220232540944356771879456543040673589649101761077594836454082348613025471847648518957583667439979150851285802060782055446299172320202822291488695939972997429747115537185892423849385585859540743810488262464878805330427146301194158989632879267832732245610385219701113046658710050008328517731177648973523092666123458887310288351562644602367199664455472760831011878838915114934093934475007302585581475619088139875235781233134227986650352272536717123075686104500454897036007956982762639234410714658489578024140815840522953693749971066559489445924628661996355635065262340533943914211127181069105229002465742360413009369188925586578466846121567955425660541600507127664176605687427420032957716064344860620123982169827172319782681662824993871499544913730205184366907672357740005393266262276032365975171892590180110429038427418550789488743883270306328327996300720069801224436511639408692222074532024462412115580435454206421512158505689615735641431306888344318528085397592773443365538418834030351782294625370201578215737326552318576355409895403323638231921989217117744946940367829618592080340386757583411151882417743914507736638407188048935825686854201164503135763335550944031923672034865101056104987272647213198654343545040913185951314518127643731043897250700498198705217627249406521461995923214231443977654670835171474936798618655279171582408065106379950018429593879915835017158075988378496225739851212981032637937621832245659423668537679911314010804313973233544909082491049914332584329882103398469814171575601082970658306521134707680368069532297199059990445120908727577622535104090239288877942463048328031913271049547859918019696783532146444118926063152661816744319355081708187547705080265402529410921826485821385752668815558411319856002213515888721036569608751506318753300294211868222189377554602722729129050429225978771066787384000061677215463844129237119352182849982435092089180168557279815642185819119749098573057033266764646072875743056537260276898237325974508447964954564803077159815395582777913937360171742299602735310276871944944491793978514463159731443535185049141394155732938204854212350817391254974981930871439661513294204591938010623142177419918406018034794988769105155790555480695387854006645337598186284641990522045280330626369562649091082762711590385699505124652999606285544383833032763859980079292284665950355121124528408751622906026201185777531374794936205549640107300134885315073548735390560290893352640071327473262196031177343394367338575912450814933573691166454128178817145402305475066713651825828489809951213919399563324133655677709800308191027204099714868741813466700609405102146269028044915964654533010775469541308871416531254481306119240782118869005602778182423502269618934435254763357353648561936325441775661398170393063287216690572225974520919291726219984440964615826945638023950283712168644656178523556516412771282691868861557271620147493405227694659571219831494338162211400693630743044417328478610177774383797703723179525543410722344551255558999864618387676490397246116795901810003509892864120419516355110876320426761297982652942588295114127584126273279079880755975185157684126474220947972184330935297266521001566251455299474512763155091763673025946213293019040283795424632325855030109670692272022707486341900543830265068121414213505715417505750863990767394633514620908288893493837643939925690060406731142209331219593620298297235116325938677224147791162957278075239505625158160313335938231150051862689053065836812998810866326327198061127154885879809348791291370749823057592909186293919501472119758606727009254771802575033773079939713453953264619526999659638565491759045833358579910201271320458390320085387888163363768518208372788513117522776960978796214237216254521459128183179821604411131167140691482717098101545778193920231156387195080502467972579249760577262591332855972637121120190572077140914864507409492671803581515757151405039761096384675556929897038354731410022380258346876735012977541327953206097115450648421218593649099791776687477448188287063231551586503289816422828823274686610659273219790716238464215348985247621678905026099804526648392954235728734397768049577409144953839157556548545905897649519851380100795801078375994577529919670054760225255203445398871253878017196071816407812484784725791240782454436168234523957068951427226975043187363326301110305342333582160933319121880660826834142891041517324721605335584999322454873077882290525232423486153152097693846104258284971496347534183756200301491570327968530186863157248840152663983568956363465743532178349319982554211730846774529708583950761645822963032442432823773745051702856069806788952176819815671078163340526675953942492628075696832610749532339053622309080708145591983735537774874202903901814293731152933464446815121294509759653430628421531944572711861490001765055817709530246887526325011970520947615941676872778447200019278913725184162285778379228443908430118112149636642465903363419454065718354477191244662125939265662030688852005559912123536371822692253178145879259375044144893398160865790087616502463519704582889548179375668104647461410514249887025213993687050937230544773411264135489280684105910771667782123833281026218558775131272117934444820144042574508306394473836379390628300897330624138061458941422769474793166571762318247216835067807648757342049155762821758397297513447899069658953254894033561561316740327647246921250575911625152965456854463349811431767025729566184477548746937846423373723898192066204851189437886822480727935202250179654534375727416391079197295295081294292220534771730418447791567399173841831171036252439571615271466900581470000263301045264354786590329073320546833887207873544476264792529769017091200787418373673508771337697768349634425241994995138831507487753743384945825976556099655595431804092017849718468549737069621208852437701385375768141663272241263442398215294164537800049250726276515078908507126599703670872669276430837722968598516912230503746274431085293430527307886528397733524601746352770320593817912539691562106363762588293757137384075440646896478310070458061344673127159119460843593582598778283526653115106504162329532904777217408355934972375855213804830509000964667608830154061282430874064559443185341375522016630581211103345312074508682433943215904359443031243122747138584203039010607094031523555617276799416002039397509989762933532585557562480899669182986422267750236019325797472674257821111973470940235745722227121252685238429587427350156366009318804549333898974157149054418255973808087156528143010267046028431681923039253529779576586241439270154974087927313105163611913757700892956482332364829826302460797587576774537716010249080462430185652416175665560016085912153455626760219268998285537787258314514408265458348440947846317877737479465358016996077940556870119232860804113090462935087182712593466871276669487389982459852778649956916546402945893506496433580982476596516514209098675520380830920323048734270346828875160407154665383461961122301375945157925269674364253192739003603860823645076269882749761872357547676288995075211480485252795084503395857083813047693788132112367428131948795022806632017002246033198967197064916374117585485187848401205484467258885140156272501982171906696081262778548596481836962141072171421498636191877475450965030895709947093433785698167446582826791194061195603784539785583924076127634410576675102430755981455278616781594965706255975507430652108530159790807334373607943286675789053348366955548680391343372015649883422089339997164147974693869690548008919306713805717150585730714881564992071408675825960287605645978242377024246980532805663278704192676846711626687946348695046450742021937394525926266861355294062478136120620263649819999949840514386828525895634226432870766329930489172340072547176418868535137233266787792173834754148002280339299735793615241275582956927683723123479898944627433045456679006203242051639628258844308543830720149567210646053323853720314324211260742448584509458049408182092763914000854042202355626021856434899414543995041098059181794888262805206644108631900168856815516922948620301073889718100770929059048074909242714101893354281842999598816966099383696164438152887721408526808875748829325873580990567075581701794916190611400190855374488272620093668560447559655747648567400817738170330738030547697360978654385938218722058390234444350886749986650604064587434600533182743629617786251808189314436325120510709469081358644051922951293245007883339878842933934243512634336520438581291283434529730865290978330067126179813031679438553572629699874035957045845223085639009891317947594875212639707837594486113945196028675121056163897600888009274611586080020780334159145179707303683519697776607637378533301202412011204698860920933908536577322239241244905153278095095586645947763448226998607481329730263097502881210351772312446509534965369309001863776409409434983731325132186208021480992268550294845466181471555744470966953017769043427203189277060471778452793916047228153437980353967986142437095668322149146543801459382927739339603275404800955223181666738035718393275707714204672383862461780397629237713120958078936384144792980258806552212926209362393063731349664018661951081158347117331202580586672763999276357907806381881306915636627412543125958993611964762610140556350339952314032311381965623632719896183725484533370206256346422395276694356837676136871196292181875457608161705303159072882870071231366630872275491866139577373054606599743781098764980241401124214277366808275139095931340415582626678951084677611866595766016599817808941498575497628438785610026379654317831363402513581416115190209649913354873313111502270068193013592959597164019719605362503355847998096348871803911161281359596856547886832585643789617315976200241962155289629790481982219946226948713746244472909345647002853769495885959160678928249105441251599630078136836749020937491573289627002865682934443134234735123929825916673950342599586897069726733258273590312128874666045146148785034614282776599160809039865257571726308183349444182019353338507129234577437557934406217871133006310600332405399169368260374617663856575887758020122936635327026710068126182517291460820254189288593524449107013820621155382779356529691457650204864328286555793470720963480737269214118689546732276775133569019015372366903686538916129168888787640752549349424973342718117889275993159671935475898809792452526236365903632007085444078454479734829180208204492667063442043755532505052752283377888704080403353192340768563010934777212563908864041310107381785333831603813528082811904083256440184205374679299262203769871801806112262449090924264198582086175117711378905160914038157500336642415609521632819712233502316742260056794128140621721964184270578432895980288233505982820819666624903585778994033315227481777695284368163008853176969478369058067106482808359804669884109813515865490693331952239436328792399053481098783027450017206543369906611778455436468772363184446476806914282800455107468664539280539940910875493916609573161971503316696830992946634914279878084225722069714887558063748030886299511847318712477729191007022758889348693945628951580296537215040960310776128983126358996489341024703603664505868728758905140684123812424738638542790828273382797332688550493587430316027474906312957234974261122151741715313361862241091386950068883589896234927631731647834007746088665559873338211382992877691149549218419208777160606847287467368188616750722101726110383067178785669481294878504894306308616994879870316051588410828235127415353851336589533294862949449506186851477910580469603906937266267038651290520113781085861618888694795760741358553458515176805197333443349523012039577073962377131603024288720053732099825300897761897312981788194467173116064723147624845755192873278282512718244680782421521646956781929409823892628494376024885227900362021938669648221562809360537317804086372726842669642192994681921490870170753336109479138180406328738759384826953558307739576144799727000347288018278528138950321798634521611106660883931405322694490545552786789441757920244002145078019209980446138254780585804844241640477503153605490659143007815837243012313751156228401583864427089071828481675752712384678245953433444962201009607105137060846180118754312072549133499424761711563332140893460915656155060031738421870157022610310191660388706466143889773631878094071152752817468957640158104701696524755774089164456867771715850058326994340167720215676772406812836656526412298243946513319735919970940327593850266955747023181320324371642058614103360652453693916005064495306016126782264894243739716671766123104897503188573216555498834212180284691252908610148552781527762562375045637576949773433684601560772703550962904939248708840628106794362241870474700836884267102255830240359984164595112248527263363264511401739524808619463584078375355688562231711552094722306543709260679735100056554938122457548372854571179739361575616764169289580525729752233855861138832217110736226581621884244317885748879810902665379342666421699091405653643224930133486798815488662866505234699723557473842483059042367714327879231642240387776433019260019228477831383763253612102533693581262408686669973827597736568222790721583247888864236934639616436330873013981421143030600873066616480367898409133592629340230432497492688783164360268101130957071614191283068657732353263965367739031766136131596555358499939860056515592193675997771793301974468814837110320650369319289452140265091546518430993655349333718342529843367991593941746622390038952767381333061774762957494386871697845376721949350659087571191772087547710718993796089477451265475750187119487073873678589020061737332107569330221632062843206567119209695058576117396163232621770894542621460985841023781321581772760222273813349541048100307327510779994899197796388353073444345753297591426376840544226478421606312276964696715647399904371590332390656072664411643860540483884716191210900870101913072607104411414324197679682854788552477947648180295973604943970047959604029274629920357209976195014034831538094771460105633344699882082212058728151072918297121191787642488035467231691654185225672923442918712816323259696541354858957713320833991128877591722611527337901034136208561457799239877832508355073019981845902595835598926055329967377049172245493532968330000223018151722657578752405883224908582128008974790932610076257877042865600699617621217684547899644070506624171021332748679623743022915535820078014116534806564748823061500339206898379476625503654982280532966286211793062843017049240230198571997894883689718304380518217441914766042975243725168343541121703863137941142209529588579806015293875275379903093887168357209576071522190027937929278630363726876582268124199338480816602160372215471014300737753779269906958712128928801905203160128586182549441335382078488346531163265040764242839087012101519423196165226842200371123046430067344206474771802135307012409886035339915266792387110170622186588357378121093517977560442563469499978725112544085452227481091487430725986960204027594117894258128188215995235965897918114407765335432175759525553615812800116384672031934650729680799079396371496177431211940202129757312516525376801735910155733815377200195244454362007184847566341540744232862106099761324348754884743453966598133871746609302053507027195298394327142537115576660002578442303107342955153394506048622276496668762407932435319299263925373107689213535257232108088981933916866827894828117047262450194840970097576092098372409007471797334078814182519584259809624174761013825264395513525931188504563626418830033853965243599741693132289471987830842760040136807470390409723847394583489618653979059411859931035616843686921948538205578039577388136067954990008512325944252972448666676683464140218991594456530942344065066785194841776677947047204195882204329538032631053749488312218039127967844610013972675389219511911783658766252808369005324900459741094706877291232821430463533728351995364827432583311914445901780960778288358373011185754365995898272453192531058811502630754257149394302445393187017992360816661130542625399583389794297160207033876781503301028012009599725222228080142357109476035192554443492998676781789104555906301595380976187592035893734197896235893112598390259831026719330418921510968915622506965911982832345550305908173073519550372166587028805399213857603703537710517802128012956684198414036287272562321442875430221090947272107347413497551419073704331827662617727599688882602722524713368335345281669277959132886138176634985772893690096574956228710302436259077241221909430087175569262575806570991201665962243608024287002454736203639484125595488172727247365346778364720191830399871762703751572464992228946793232269361917764161461879561395669956778306829031658969943076733350823499079062410020250613405734430069574547468217569044165154063658468046369262127421107539904218871612761778701425886482577522388918459952337629237791558574454947736129552595222657863646211837759847370034797140820699414558071908021359073226923310083175951065901912129479540860364075735875020589020870457967000705526250581142066390745921527330940682364944159089100922029668052332526619891131184201629163107689408472356436680818216865721968826835840278550078280404345371018365109695178233574303050485265373807353107418591770561039739506264035544227515610110726177937063472380499066692216197119425912044508464174638358993823994651739550900085947999013602667426149429006646711506717542217703877450767356374215478290591101261915755587023895700140511782264698994491790830179547587676016809410013583761357859135692445564776446417866711539195135769610486492249008344671548638305447791433009768048687834818467273375843689272431044740680768527862558516509208826381323362314873333671476452045087662761495038994950480956046098960432912335834885999029452640028499428087862403981181488476730121675416110662999555366819312328742570206373835202008686369131173346973174121915363324674532563087134730279217495622701468732586789173455837996435135880095935087755635624881049385299900767513551352779241242927748856588856651324730251471021057535251651181485090275047684551825209633189906852761443513821366215236889057878669943228881602837748203550601602989400911971385017987168363374413927597364401700701476370665570350433812111357641501845182141361982349515960106475271257593518530433287553778305750956742544268471221961870917856078393614451138333564910325640573389866717812397223751931643061701385953947436784339267098671245221118969084023632741149660124348309892994173803058841716661307304006758838043211155537944060549772170594282151488616567277124090338772774562909711013488518437411869565544974573684521806698291104505800429988795389902780438359628240942186055628778842880212755388480372864001944161425749990427200959520465417059810498996750451193647117277222043610261407975080968697517660023718774834801612031023468056711264476612374762785219024120256994353471622666089367521983311181351114650385489502512065577263614547360442685949807439693233129712737715734709971395229118265348515558713733662912024271430250376326950135091161295299378586468130722648600827088133353819370368259886789332123832705329762585738279009782646054559855513183668884462826513379849166783940976135376625179825824966345877195012438404035914084920973375464247448817618407002356958017741017769692507781489338667255789856458985105689196092439884156928069698335224022563457049731224526935419383700484318335719651662672157552419340193309901831930919658292096965624766768365964701959575473934551433741370876151732367720422738567427917069820454995309591887243493952409444167899884631984550485239366297207977745281439941825678945779571255242682608994086331737153889626288962940211210888442737656862452761213037101730078513571540453304150795944777614359743780374243664697324713841049212431413890357909241603640631403814983148190525172093710396402680899483257229795456404270175772290417323479607361878788991331830584306939482596131871381642346721873084513387721908697510494284376932502498165667381626061594176825250999374167288395174406693254965340310145222531618900923537648637848288134420987004809622717122640748957193900291857330746010436072919094576799461492929042798168772942648772995285843464777538690695014898413392454039414468026362540211861431703125111757764282991464453340892097696169909837265236176874560589470496817013697490952307208268288789073019001825342580534342170592871393173799314241085264739094828459641809361413847583113613057610846236683723769591349261582451622155213487924414504175684806412063652017038633012953277769902311864802006755690568229501635493199230591424639621702532974757311409422018019936803502649563695586642590676268568737211033915679383989576556519317788300024161353956243777784080174881937309502069990089089932808839743036773659552489130015663329407790713961546453408879151030065132193448667324827590794680787981942501958262232039513125201410996053126069655540424867054998678692302174698900954785072567297879476988883109348746442640071818316033165551153427615562240547447337804924621495213325852769884733626918264917433898782478927846891882805466998230368993978341374758702580571634941356843392939606819206177333179173820856243643363535986349449689078106401967407443658366707158692452118299789380407713750129085864657890577142683358276897855471768718442772612050926648610205153564284063236848180728794071712796682006072755955590404023317874944734645476062818954151213916291844429765106694796935401686601005519607768733539651161493093757096855455938151378956903925101495326562814701199832699220006639287537471313523642158926512620407288771657835840521964605410543544364216656224456504299901025658692727914275293117208279393775132610605288123537345106837293989358087124386938593438917571337630072031976081660446468393772580690923729752348670291691042636926209019960520412102407764819031601408586355842760953708655816427399534934654631450404019952853725200495780525465625115410925243799132626271360909940290226206283675213230506518393405745011209934146491843332364656937172591448932415900624202061288573292613359680872650004562828455757459659212053034131011182750130696150983551563200431078460190656549380654252522916199181995960275232770224985573882489988270746593635576858256051806896428537685077201222034792099393617926820659014216561592530673794456894907085326356819683186177226824991147261573203580764629811624401331673789278868922903259334986179702199498192573961767307583441709855922217017182571277753449150820527843090461946083521740200583867284970941102326695392144546106621500641067474020700918991195137646690448126725369153716229079138540393756007783515337416774794210038400230895185099454877903934612222086506016050035177626483161115332558770507354127924990985937347378708119425305512143697974991495186053592040383023571635272763087469321962219006426088618367610334600225547747781364101269190656968649501268837629690723396127628722304114181361006026404403003599698891994582739762411461374480405969706257676472376606554161857469052722923822827518679915698339074767114610302277660602006124687647772881909679161335401988140275799217416767879923160396356949285151363364721954061117176738737255572852294005436178517650230754469386930787349911035218253292972604455321079788771144989887091151123725060423875373484125708606406905205845212275453384800820530245045651766951857691320004281675805492481178051983264603244579282973012910531838563682120621553128866856495651261389226136706409395333457052698695969235035309422454386527867767302754040270224638448355323991475136344104405009233036127149608135549053153902100229959575658370538126196568314428605795669662215472169562087001372776853696084070483332513279311223250714863020695124539500373572334680709465648308920980153487870563349109236605755405086411152144148143463043727327104502776866195310785832333485784029716092521532609255893265560067212435946425506599677177038844539618163287961446081778927217183690888012677820743010642252463480745430047649288555340906218515365435547412547615276977266776977277705831580141218568801170502836527554321480348800444297999806215790456416195721278450892848980642649742709057912906921780729876947797511244730599140605062994689428093103421641662993561482813099887074529271604843363081840412646963792584309418544221635908457614607855856247381493142707826621518554160387020687698046174740080832434366538235455510944949843109349475994467267366535251766270677219418319197719637801570216993367508376005716345464367177672338758864340564487156696432104128259564534984138841289042068204700761559691684303899934836679354254921032811336318472259230555438305820694167562999201337317548912203723034907268106853445403599356182357631283776764063101312533521214199461186935083317658785204711236433122676512996417132521751355326186768194233879036546890800182713528358488844411176123410117991870923650718485785622102110400977699445312179502247957806950653296594038398736990724079767904082679400761872954783596349279390457697366164340535979221928587057495748169669406233427261973351813662606373598257555249650980726012366828360592834185584802695841377255897088378994291054980033111388460340193916612218669605849157148573356828614950001909759112521880039641976216355937574371801148055944229873041819680808564726571354761283162920044988031540210553059707666636274932830891688093235929008178741198573831719261672883491840242972129043496552694272640255964146352591434840067586769035038232057293413298159353304444649682944136732344215838076169483121933311981906109614295220153617029857510559432646146850545268497576480780800922133581137819774927176854507553832876887447459159373116247060109124460982942484128752022446259447763874949199784044682925736096853454984326653686284448936570411181779380644161653122360021491876876946739840751717630751684985635920148689294310594020245796962292456664488196757629434953532638217161339575779076637076456957025973880043841580589433613710655185998760075492418721171488929522173772114608115434498266547987258005667472405112200738345927157572771521858994694811794064446639943237004429114074721818022482583773601734668530074498556471542003612359339731291445859152288740871950870863221883728826282288463184371726190330577714765156414382230679184738603914768310814135827575585364359772165002827780371342286968878734979509603110889919614338666406845069742078770028050936720338723262963785603865321643234881555755701846908907464787912243637555666867806761054495501726079114293083128576125448194444947324481909379536900820638463167822506480953181040657025432760438570350592281891987806586541218429921727372095510324225107971807783304260908679427342895573555925272380551144043800123904168771644518022649168164192740110645162243110170005669112173318942340054795968466980429801736257040673328212996215368488140410219446342464622074557564396045298531307140908460849965376780379320189914086581466217531933766597011433060862500982956691763884605676297293146491149370462446935198403953444913514119366793330193661766365255514917498230798707228086085962611266050428929696653565251668888557211227680277274370891738963977225756489053340103885593112567999151658902501648696142720700591605616615970245198905183296927893555030393468121976158218398048396056252309146263844738629603984892438618729850777592879272206855480721049781765328621018747676689724884113956034948037672703631692100735083407386526168450748249644859742813493648037242611670426687083192504099761531907685577032742178501000644198412420739640013960360158381056592841368457411910273642027416372348821452410134771652960312840865841978795111651152982781462037913985500639996032659124852530849369031313010079997719136223086601109992914287124938854161203802041134018888721969347790449752745428807280350930582875442075513481666092787935356652125562013998824962847872621443236285367650259145046837763528258765213915648097214192967554938437558260025316853635673137926247587804944594418342917275698837622626184636545274349766241113845130548144983631178978448973207671950878415861887969295581973325069995140260151167552975057543781024223895792578656212843273120220071673057406928686936393018676595825132649914595026091706934751940897535746401683081179884645247361895605647942635807056256328118926966302647953595109712765913623318086692153578860781275991053717140220450618607537486630635059148391646765672320571451688617079098469593223672494673758309960704258922048155079913275208858378111768521426933478692189524062265792104362034885292626798401395321645879115157905046057971083898337186403802441751134722647254701079479399695355466961972676325522991465493349966323418595145036098034409221220671256769872342794070885707047429317332918852389672197135392449242617864118863779096281448691786946817759171715066911148002075943201206196963779510322708902956608556222545260261046073613136886900928172106819861855378098201847115416363032626569928342415502360097804641710852553761272890533504550613568414377585442967797701466029438768722511536380119175815402812081825560648541078793359892106442724489861896162941341800129513068363860929410008313667337215300835269623573717533073865333820484219030818644918409372394403340524490955455801640646076158101030176748847501766190869294609876920169120218168829104087070956095147041692114702741339005225334083481287035303102391969997859741390859360543359969707560446013424245368249609877258131102473279856207212657249900346829388687230489556225320446360263985422525841646432427161141981780248259556354490721922658386366266375083594431487763515614571074552801615967704844271419443518327569840755267792641126176525061596523545718795667317091331935876162825592078308018520689015150471334038610031005591481785211038475454293338918844412051794396997019411269511952656491959418997541839323464742429070271887522353439367363366320030723274703740712398256202466265197409019976245205619855762576000870817308328834438183107005451449354588542267857855191537229237955549433341017442016960009069641561273229777022121795186837635908225512881647002199234886404395915301846400471432118636062252701154112228380277853891109849020134274101412155976996543887719748537643115822983853312307175113296190455900793806427669581901484262799122179294798734890186847167650382732855205908298452980625925035212845192592798659350613296194679625237397256558415785374456755899803240549218696288849033256085145534439166022625777551291620077279685262938793753045418108072928589198971538179734349618723292761474785019261145041327487324297058340847111233374627461727462658241532427105932250625530231473875925172478732288149145591560503633457542423377916037495250249302235148196138116256391141561032684495807250827343176594405409826976526934457986347970974312449827193311386387315963636121862349726140955607992062831699942007205481152535339394607685001990988655386143349578165008996164907967814290114838764568217491407562376761845377514403147541120676016072646055685925779932207033733339891636950434669069482843662998003741452762771654762382554617088318981086880684785370553648046935095881802536052974079353867651119507937328208314626896007107517552061443378411454995013643244632819334638905093654571450690086448344018042836339051357815727397333453728426337217406577577107983051755572103679597690188995849413019599957301790124019390868135658553966194137179448763207986880037160730322054742357226689680188212342439188598416897227765219403249322731479366923400484897605903795809469604175427961378255378122394764614783292697654516229028170110043784603875654415173943396004891531881757665050095169740241564477129365661425394936888423051740012992055685428985389794266995677702708914651373689220610441548166215680421983847673087178759027920917590069527345668202651337311151800018143412096260165862982107666352336177400783778342370915264406305407180784335806107296110555002041513169637304684921335683726540030750982908936461204789111475303704989395283345782408281738644132271000296831194020332345642082647327623383029463937899837583655455991934086623509096796113400486702712317652666371077872511186035403755448741869351973365662177235922939677646325156202348757011379571209623772343137021203100496515211197601317641940820343734851285260291333491512508311980285017785571072537314913921570910513096505988599993156086365547740355189816673353588004821466509974143376118277772335191074121757284159258087259131507460602563490377726337391446137703802131834744730111303267029691733504770163210661622783002726928336558401179141944780874825336071440329625228577500980859960904093631263562132816207145340610422411208301000858726425211226248014264751942618432585338675387405474349107271004975428115946601713612259044015899160022982780179603519408004651353475269877760952783998436808690898919783969353217998013913544255271791022539701081063214304851137829149851138196914304349750018998068164441212327332830719282436240673319655469267785119315277511344646890550424811336143498460484905125834568326644152848971397237604032821266025351669391408204994732048602162775979177123475109750240307893575993771509502175169355582707253391189233407022383207758580213717477837877839101523413209848942345961369234049799827930414446316270721479611745697571968123929191374098292580556195520743424329598289898052923336641541925636738068949420147124134052507220406179435525255522500874879008656831454283516775054229480327478304405643858159195266675828292970522612762871104013480178722480178968405240792436058274246744307672164527031345135416764966890127478680101029513386269864974821211862904033769156857624069929637249309720162870720018983542369036414927023696193854737248032985504511208919287982987446786412915941753167560253343531062674525450711418148323988060729714023472552071349079839898235526872395090936566787899238371257897624875599044322889538837731734894112275707141095979004791930104674075041143538178246463079598955563899188477378134134707024674736211204898622699188851745625173251934135203811586335012391305444191007362844756751416105041097350585276204448919097890198431548528053398577784431393388399431044446566924455088594631408175122033139068159659251054685801313383815217641821043342978882611963044311138879625874609022613090084997543039577124323061690626291940392143974027089477766370248815549932245882597902063125743691094639325280624164247686849545532493801763937161563684785982371590238542126584061536722860713170267474013114526106376538339031592194346981760535838031061288785205154693363924108846763200956708971836749057816308515813816196688222204757043759061433804072585386208356517699842677452319582418268369827016023741493836349662935157685406139734274647089968561817016055110488097155485911861718966802597354170542398513556001872033507906094642127114399319604652742405088222535977348151913543857125325854049394601086579379805862014336607882521971780902581737087091646045272797715350991034073642502038638671822052287969445838765294795104866071739022932745542678566977686593992341683412227466301506215532050265534146099524935605085492175654913483095890653617569381763747364418337897422970070354520666317092960759198962773242309025239744386101426309868773391388251868431650102796491149773758288891345034114886594867021549210108432808078342808941729800898329753694064496990312539986391958160146899522088066228540841486427478628197554662927881462160717138188018084057208471586890683691939338186427845453795671927239797236465166759201105799566396259853551276355876814021340982901629687342985079247184605687482833138125916196247615690287590107273310329914062386460833337863825792630239159000355760903247728133888733917809696660146961503175422675112599331552967421333630022296490648093458200818106180210022766458040027821333675857301901137175467276305904435313131903609248909724642792845554991349000518029570708291905255678188991389962513866231938005361134622429461024895407240485712325662888893172211643294781619055486805494344103409068071608802822795968695013364381426825217047287086301013730115523686141690837567574763723976318575703810944339056456446852418302814810799837691851212720193504404180460472162693944578837709010597469321972055811407877598977207200968938224930323683051586265728111463799698313751793762321511125234973430524062210524423435373290565516340666950616589287821870775679417608071297378133518711793165003315552382248773065344417945341539520242444970341012087407218810938826816751204229940494817944947273289477011157413944122845552182842492224065875268917227278060711675404697300803703961878779669488255561467438439257011582954666135867867189766129731126720007297155361302750355616781776544228744211472988161480270524380681765357327557860250584708401320883793281600876908130049249147368251703538221961903901499952349538710599735114347829233949918793660869230137559636853237380670359114424326856151210940425958263930167801712866923928323105765885171402021119695706479981403150563304514156441462316376380990440281625691757648914256971416359843931743327023781233693804301289262637538266779503416933432360750024817574180875038847509493945489620974048544263563716499594992098088429479036366629752600324385635294584472894454716620929749549661687741412088213047702281611645604400723635158114972973921896673738264720472264222124201656015028497130633279581430251601369482556701478093579088965713492615816134690180696508955631012121849180584792272069187169631633004485802010286065785859126997463766174146393415956953955420331462802651895116793807457331575984608617370268786760294367778050024467339133243166988035407323238828184750105164133118953703648842269027047805274249060349208295475505400345716018407257453693814553117535421072655783561549987444748042732345788006187314934156604635297977945507535930479568720931672453654720838168585560604380197703076424608348987610134570939487700294617579206195254925575710903852517148852526567104534981341980339064152987634369542025608027761442191431892139390883454313176968510184010384447234894886952098194353190650655535461733581404554483788475252625394966586999205841765278012534103389646981864243003414679138061902805960785488801078970551694621522877309010446746249797999262712095168477956848258334140226647721084336243759374161053673404195473896419789542533503630186140095153476696147625565187382329246854735693580289601153679178730355315937836308224861517777054157757656175935851201669294311113886358215966761883032610416465171484697938542262168716140012237821377977413126897726671299202592201740877007695628347393220108815935628628192856357189338495885060385315817976067947984087836097596014973342057270460352179060564760328556927627349518220323614411258418242624771201203577638889597431823282787131460805353357449429762179678903456816988955351850447832561638070947695169908624710001974880920500952194363237871976487033922381154036347548862684595615975519376541011501406700122692747439388858994385973024541480106123590803627458528849356325158538438324249325266608758890831870070910023737710657698505643392885433765834259675065371500533351448990829388773735205145933304962653141514138612443793588507094468804548697535817021290849078734780681436632332281941582734567135644317153796781805819585246484008403290998194378171817730231700398973305049538735611626102399943325978012689343260558471027876490107092344388463401173555686590358524491937018104162620850429925869743581709813389404593447193749387762423240985283276226660494238512970945324558625210360082928664972417491914198896612955807677097959479530601311915901177394310420904907942444886851308684449370590902600612064942574471035354765785924270813041061854621988183009063458818703875585627491158737542106466795134648758677154383801852134828191581246259933516019893559516796893285220582479942103451271587716334522299541883968044883552975336128683722593539007920166694133909116875880398882886921600237325736158820716351627133281051818760210485218067552664867390890090719513805862673512431221569163790227732870541084203784152568328871804698795251307326634027851905941733892035854039567703561132935448258562828761061069822972142096199350933131217118789107876687204454887608941017479864713788246215395593333327556200943958043453791978228059039595992743691379377866494096404877784174833643268402628293240626008190808180439091455635193685606304508914228964521998779884934747772913279726602765840166789013649050874114212686196986204412696528298108704547986155954533802120115564697997678573892018624359932677768945406050821883822790983362716712449002676117849826437703300208184459000971723520433199470824209877151444975101705564302954282181967000920251561584417420593365814813490269311151709387226002645863056132560579256092733226557934628080568344392137368840565043430739657406101777937014142461549307074136080544210029560009566358897789926763051771878194370676149821756418659011616086540863539151303920131680576903417259645369235080641744656235152392905040947995318407486215121056183385456617665260639371365880252166622357613220194170137266496607325201077194793126528276330241380516490717456596485374835466919452358031530196916048099460681490403781982973236093008713576079862142542209641900436790547904993007837242158195453541837112936865843055384271762803527912882112930835157565659994474178843838156514843422985870424559243469329523282180350833372628379183021659183618155421715744846577842013432998259456688455826617197901218084948033244878725818377480552226815101137174536841787028027445244290547451823467491956418855124442133778352142386597992598820328708510933838682990657199461490629025742768603885051103263854454041918495886653854504057132362968106914681484786965916686184275679846004186876229805556296304595322792305161672159196867584952363529893578850774608153732145464298479231051167635774949462295256949766035947396243099534331040499420967788382700271447849406903707324910644415169605325656058677875741747211082743577431519406075798356362914332639781221894628744779811980722564671466405485013100965678631488009030374933887536418316513498254669467331611812336485439764932502617954935720430540218297487125110740401161140589991109306249231281311634054926257135672181862893278613883371802853505650359195274140086951092616754147679266803210923746708721360627833292238641361959412133927803611827632410600474097111104814000362334271451448333464167546635469973149475664342365949349684588455152415075637660508663282742479413606287604129064491382851945640264315322585862404314183866959063324506300039221319264762596269151090445769530144405461803785750303668621246227863975274666787012100339298487337501447560032210062235802934377495503203701273846816306102657030087227546296679688089058712767636106622572235222973920644309352432722810085997309513252863060110549791564479184500461804676240892892568091293059296064235702106152464620502324896659398732493396737695202399176089847457184353193664652912584806448019652016283879518949933675924148562613699594530728725453246329152911012876377060557060953137752775186792329213495524513308986796916512907384130216757323863757582008036357572800275449032795307990079944254110872569318801466793559583467643286887696661009739574996783659339784634695994895061049038364740950469522606385804675807306991229047408987916687211714752764471160440195271816950828973353714853092893704638442089329977112585684084660833993404568902678751600877546126798801546585652206121095349079670736553970257619943137663996060606110640695933082817187642604357342536175694378484849525010826648839515970049059838081210522111109194332395113605144645983421079905808209371646452312770402316007213854372346126726099787038565709199850759563461324846018840985019428768790226873455650051912154654406382925385127631766392205093834520430077301702994036261543400132276391091298832786392041230044555168405488980908077917463609243933491264116424009388074635660726233669584276458369826873481588196105857183576746200965052606592926354829149904576830721089324585707370166071739819448502884260396366074603118478622583105658087087030556759586134170074540296568763477417643105175103673286924555858208237203860178173940517513043799486882232004437804310317092103426167499800007301609481458637448877852227307633049538394434538277060876076354209844500830624763025357278103278346176697054428715531534001649707665719598504174819908720149087568603778359199471934335277294728553792578768483230110185936580071729118696761765505377503029303383070644891281141202550615089641100762382457448865518258105814034532012475472326908754750707857765973254284445935304499207001453874894822655644222369636554419422544133821222547749753549462482768053333698328415613869236344335855386847111143049824839899180316545863828935379913053522283343013795337295401625762322808113849949187614414132293376710656349252881452823950620902235787668465011666009738275366040544694165342223905210831458584703552935221992827276057482126606529138553034554974455147034493948686342945965843102419078592368022456076393678416627051855517870290407355730462063969245330779578224594971042018804300018388142900817303945050734278701312446686009277858181104091151172937487362788787490746528556543474888683106411005102302087510776891878152562273525155037953244485778727761700196485370355516765520911933934376286628461984402629525218367852236747510880978150709897841308624588152266096355140187449583692691779904712072649490573726428600521140358123107600669951853612486274675637589622529911649606687650826173417848478933729505673900787861792535144062104536625064046372881569823231750059626108092195521115085930295565496753886261297233991462835847604862762702730973920200143224870758233735491524608560821032888297418390647886992327369136004883743661522351705843770554521081551336126214291181561530175888257359489250710887926212864139244330938379733386780613179523731526677382085802470143352700924380326695174211950767088432634644274912755890774686358216216604274131517021245858605623363149316464691394656249747174195835421860774871105733845843368993964591374060338215935224359475162623918868530782282176398323730618020424656047752794310479618972429953302979249748168405289379104494700459086499187272734541350810198388186467360939257193051196864560185578245021823106588943798652243205067737996619695547244058592241795300682045179537004347245176289356677050849021310773662575169733552746230294303120359626095342357439724965921101065781782610874531887480318743082357369919515634095716270099244492974910548985151965866474014822510633536794973714251022934188258511737199449911509758374613010550506419772153192935487537119163026203032858865852848019350922587577559742527658401172134232364808402714335636754204637518255252494432965704386138786590196573880286840189408767281671413703366173265012057865391578070308871426151907500149257611292767519309672845397116021360630309054224396632067432358279788933232440577919927848463333977773765590187057480682867834796562414610289950848739969297075043275302997287229732793444298864641272534816060377970729829917302929630869580199631241330493935049332541235507105446118259114111645453471032988104784406778013807713146540009938630648126661433085820681139583831916954555825942689576984142889374346708410794631893253910696395578070602124597489829356461356078898347241997947856436204209461341238761319886535235831299686226894860840845665560687695450127448663140505473535174687300980632278046891224682146080672762770840240226615548502400895289165711761743902033758487784291128962324705919187469104200584832614067733375102719565399469716251724831223063391932870798380074848572651612343493327335666447335855643023528088392434827876088616494328939916639921048830784777704804572849145630335326507002958890626591549850940797276756712979501009822947622896189159144152003228387877348513097908101912926722710377889805396415636236416915498576840839846886168437540706512103906250612810766379904790887967477806973847317047525344215639038720123880632368803701794930895490077633152306354837425681665336160664198003018828712376748189833024683637148830925928337590227894258806008728603885916884973069394802051122176635913825152427867009440694235512020156837777885182467002565170850924962374772681369428435006293881442998790530105621737545918267997321773502936892806521002539626880749809264345801165571588670044350397650532347828732736884086354000274067678382196352222653929093980736739136408289872201777674716811819585613372158311905468293608323697611345028175783020293484598292500089568263027126329586629214765314223335179309338795135709534637718368409244442209631933129562030557551734006797374061416210792363342380564685009203716715264255637185388957141641977238742261059666739699717316816941543509528319355641770566862221521799115135563970714331289365755384464832620120642433801695586269856102246064606933079384785881436740700059976970364901927332882613532936311240365069865216063898725026723808740339674439783025829689425689674186433613497947524552629142652284241924308338810358005378702399954217211368655027534136221169314069466951318692810257479598560514500502171591331775160995786555198188619321128211070944228724044248115340605589595835581523201218460582056359269930347885113206862662758877144603599665610843072569650056306448918759946659677284717153957361210818084154727314266174893313417463266235422207260014601270120693463952056444554329166298666078308906811879009081529506362678207561438881578135113469536630387841209234694286873083932043233387277549680521030282154432472338884521534372725012858974769146080831440412586818154004918777228786980185345453700652665564917091542952275670922221747411206272065662298980603289167206874365494824610869736722554740481288924247185432360575341167285075755205713115669795458488739874222813588798584078313506054829055148278529489112190538319562422871948475940785939804790109419407067176443903273071213588738504999363883820550168340277749607027684488028191222063688863681104356952930065219552826152699127163727738841899328713056346468822739828876319864570983630891778648708667618548568004767255267541474285102814580740315299219781455775684368111018531749816701642664788409026268282444825802753209454991510451851771654631180490456798571325752811791365627815811128881656228587603087597496384943527567661216895926148503078536204527450775295063101248034180458405943292607985443562009370809182152392037179067812199228049606973823874331262673030679594396095495718957721791559730058869364684557667609245090608820221223571925453671519183487258742391941089044411595993276004450655620646116465566548759424736925233695599303035509581762617623184956190649483967300203776387436934399982943020914707361894793269276244518656023955905370512897816345542332011497599489627842432748378803270141867695262118097500640514975588965029300486760520801049153788541390942453169171998762894127722112946456829486028149318156024967788794981377721622935943781100444806079767242927624951078415344642915084276452000204276947069804177583220909702029165734725158290463091035903784297757265172087724474095226716630600546971638794317119687348468873818665675127929857501636341131462753049901913564682380432997069577015078933772865803571279091376742080565549362465$$"
      ],
      "text/plain": [
       "3.1415926535897932384626433832795028841971693993751058209749445923078164062862\n",
       "089986280348253421170679821480865132823066470938446095505822317253594081284811\n",
       "174502841027019385211055596446229489549303819644288109756659334461284756482337\n",
       "867831652712019091456485669234603486104543266482133936072602491412737245870066\n",
       "063155881748815209209628292540917153643678925903600113305305488204665213841469\n",
       "519415116094330572703657595919530921861173819326117931051185480744623799627495\n",
       "673518857527248912279381830119491298336733624406566430860213949463952247371907\n",
       "021798609437027705392171762931767523846748184676694051320005681271452635608277\n",
       "857713427577896091736371787214684409012249534301465495853710507922796892589235\n",
       "420199561121290219608640344181598136297747713099605187072113499999983729780499\n",
       "510597317328160963185950244594553469083026425223082533446850352619311881710100\n",
       "031378387528865875332083814206171776691473035982534904287554687311595628638823\n",
       "537875937519577818577805321712268066130019278766111959092164201989380952572010\n",
       "654858632788659361533818279682303019520353018529689957736225994138912497217752\n",
       "834791315155748572424541506959508295331168617278558890750983817546374649393192\n",
       "550604009277016711390098488240128583616035637076601047101819429555961989467678\n",
       "374494482553797747268471040475346462080466842590694912933136770289891521047521\n",
       "620569660240580381501935112533824300355876402474964732639141992726042699227967\n",
       "823547816360093417216412199245863150302861829745557067498385054945885869269956\n",
       "909272107975093029553211653449872027559602364806654991198818347977535663698074\n",
       "265425278625518184175746728909777727938000816470600161452491921732172147723501\n",
       "414419735685481613611573525521334757418494684385233239073941433345477624168625\n",
       "189835694855620992192221842725502542568876717904946016534668049886272327917860\n",
       "857843838279679766814541009538837863609506800642251252051173929848960841284886\n",
       "269456042419652850222106611863067442786220391949450471237137869609563643719172\n",
       "874677646575739624138908658326459958133904780275900994657640789512694683983525\n",
       "957098258226205224894077267194782684826014769909026401363944374553050682034962\n",
       "524517493996514314298091906592509372216964615157098583874105978859597729754989\n",
       "301617539284681382686838689427741559918559252459539594310499725246808459872736\n",
       "446958486538367362226260991246080512438843904512441365497627807977156914359977\n",
       "001296160894416948685558484063534220722258284886481584560285060168427394522674\n",
       "676788952521385225499546667278239864565961163548862305774564980355936345681743\n",
       "241125150760694794510965960940252288797108931456691368672287489405601015033086\n",
       "179286809208747609178249385890097149096759852613655497818931297848216829989487\n",
       "226588048575640142704775551323796414515237462343645428584447952658678210511413\n",
       "547357395231134271661021359695362314429524849371871101457654035902799344037420\n",
       "073105785390621983874478084784896833214457138687519435064302184531910484810053\n",
       "706146806749192781911979399520614196634287544406437451237181921799983910159195\n",
       "618146751426912397489409071864942319615679452080951465502252316038819301420937\n",
       "621378559566389377870830390697920773467221825625996615014215030680384477345492\n",
       "026054146659252014974428507325186660021324340881907104863317346496514539057962\n",
       "685610055081066587969981635747363840525714591028970641401109712062804390397595\n",
       "156771577004203378699360072305587631763594218731251471205329281918261861258673\n",
       "215791984148488291644706095752706957220917567116722910981690915280173506712748\n",
       "583222871835209353965725121083579151369882091444210067510334671103141267111369\n",
       "908658516398315019701651511685171437657618351556508849099898599823873455283316\n",
       "355076479185358932261854896321329330898570642046752590709154814165498594616371\n",
       "802709819943099244889575712828905923233260972997120844335732654893823911932597\n",
       "463667305836041428138830320382490375898524374417029132765618093773444030707469\n",
       "211201913020330380197621101100449293215160842444859637669838952286847831235526\n",
       "582131449576857262433441893039686426243410773226978028073189154411010446823252\n",
       "716201052652272111660396665573092547110557853763466820653109896526918620564769\n",
       "312570586356620185581007293606598764861179104533488503461136576867532494416680\n",
       "396265797877185560845529654126654085306143444318586769751456614068007002378776\n",
       "591344017127494704205622305389945613140711270004078547332699390814546646458807\n",
       "972708266830634328587856983052358089330657574067954571637752542021149557615814\n",
       "002501262285941302164715509792592309907965473761255176567513575178296664547791\n",
       "745011299614890304639947132962107340437518957359614589019389713111790429782856\n",
       "475032031986915140287080859904801094121472213179476477726224142548545403321571\n",
       "853061422881375850430633217518297986622371721591607716692547487389866549494501\n",
       "146540628433663937900397692656721463853067360965712091807638327166416274888800\n",
       "786925602902284721040317211860820419000422966171196377921337575114959501566049\n",
       "631862947265473642523081770367515906735023507283540567040386743513622224771589\n",
       "150495309844489333096340878076932599397805419341447377441842631298608099888687\n",
       "413260472156951623965864573021631598193195167353812974167729478672422924654366\n",
       "800980676928238280689964004824354037014163149658979409243237896907069779422362\n",
       "508221688957383798623001593776471651228935786015881617557829735233446042815126\n",
       "272037343146531977774160319906655418763979293344195215413418994854447345673831\n",
       "624993419131814809277771038638773431772075456545322077709212019051660962804909\n",
       "263601975988281613323166636528619326686336062735676303544776280350450777235547\n",
       "105859548702790814356240145171806246436267945612753181340783303362542327839449\n",
       "753824372058353114771199260638133467768796959703098339130771098704085913374641\n",
       "442822772634659470474587847787201927715280731767907707157213444730605700733492\n",
       "436931138350493163128404251219256517980694113528013147013047816437885185290928\n",
       "545201165839341965621349143415956258658655705526904965209858033850722426482939\n",
       "728584783163057777560688876446248246857926039535277348030480290058760758251047\n",
       "470916439613626760449256274204208320856611906254543372131535958450687724602901\n",
       "618766795240616342522577195429162991930645537799140373404328752628889639958794\n",
       "757291746426357455254079091451357111369410911939325191076020825202618798531887\n",
       "705842972591677813149699009019211697173727847684726860849003377024242916513005\n",
       "005168323364350389517029893922334517220138128069650117844087451960121228599371\n",
       "623130171144484640903890644954440061986907548516026327505298349187407866808818\n",
       "338510228334508504860825039302133219715518430635455007668282949304137765527939\n",
       "751754613953984683393638304746119966538581538420568533862186725233402830871123\n",
       "282789212507712629463229563989898935821167456270102183564622013496715188190973\n",
       "038119800497340723961036854066431939509790190699639552453005450580685501956730\n",
       "229219139339185680344903982059551002263535361920419947455385938102343955449597\n",
       "783779023742161727111723643435439478221818528624085140066604433258885698670543\n",
       "154706965747458550332323342107301545940516553790686627333799585115625784322988\n",
       "273723198987571415957811196358330059408730681216028764962867446047746491599505\n",
       "497374256269010490377819868359381465741268049256487985561453723478673303904688\n",
       "383436346553794986419270563872931748723320837601123029911367938627089438799362\n",
       "016295154133714248928307220126901475466847653576164773794675200490757155527819\n",
       "653621323926406160136358155907422020203187277605277219005561484255518792530343\n",
       "513984425322341576233610642506390497500865627109535919465897514131034822769306\n",
       "247435363256916078154781811528436679570611086153315044521274739245449454236828\n",
       "860613408414863776700961207151249140430272538607648236341433462351897576645216\n",
       "413767969031495019108575984423919862916421939949072362346468441173940326591840\n",
       "443780513338945257423995082965912285085558215725031071257012668302402929525220\n",
       "118726767562204154205161841634847565169998116141010029960783869092916030288400\n",
       "269104140792886215078424516709087000699282120660418371806535567252532567532861\n",
       "291042487761825829765157959847035622262934860034158722980534989650226291748788\n",
       "202734209222245339856264766914905562842503912757710284027998066365825488926488\n",
       "025456610172967026640765590429099456815065265305371829412703369313785178609040\n",
       "708667114965583434347693385781711386455873678123014587687126603489139095620099\n",
       "393610310291616152881384379099042317473363948045759314931405297634757481193567\n",
       "091101377517210080315590248530906692037671922033229094334676851422144773793937\n",
       "517034436619910403375111735471918550464490263655128162288244625759163330391072\n",
       "253837421821408835086573917715096828874782656995995744906617583441375223970968\n",
       "340800535598491754173818839994469748676265516582765848358845314277568790029095\n",
       "170283529716344562129640435231176006651012412006597558512761785838292041974844\n",
       "236080071930457618932349229279650198751872127267507981255470958904556357921221\n",
       "033346697499235630254947802490114195212382815309114079073860251522742995818072\n",
       "471625916685451333123948049470791191532673430282441860414263639548000448002670\n",
       "496248201792896476697583183271314251702969234889627668440323260927524960357996\n",
       "469256504936818360900323809293459588970695365349406034021665443755890045632882\n",
       "250545255640564482465151875471196218443965825337543885690941130315095261793780\n",
       "029741207665147939425902989695946995565761218656196733786236256125216320862869\n",
       "222103274889218654364802296780705765615144632046927906821207388377814233562823\n",
       "608963208068222468012248261177185896381409183903673672220888321513755600372798\n",
       "394004152970028783076670944474560134556417254370906979396122571429894671543578\n",
       "468788614445812314593571984922528471605049221242470141214780573455105008019086\n",
       "996033027634787081081754501193071412233908663938339529425786905076431006383519\n",
       "834389341596131854347546495569781038293097164651438407007073604112373599843452\n",
       "251610507027056235266012764848308407611830130527932054274628654036036745328651\n",
       "057065874882256981579367897669742205750596834408697350201410206723585020072452\n",
       "256326513410559240190274216248439140359989535394590944070469120914093870012645\n",
       "600162374288021092764579310657922955249887275846101264836999892256959688159205\n",
       "600101655256375678566722796619885782794848855834397518744545512965634434803966\n",
       "420557982936804352202770984294232533022576341807039476994159791594530069752148\n",
       "293366555661567873640053666564165473217043903521329543529169414599041608753201\n",
       "868379370234888689479151071637852902345292440773659495630510074210871426134974\n",
       "595615138498713757047101787957310422969066670214498637464595280824369445789772\n",
       "330048764765241339075920434019634039114732023380715095222010682563427471646024\n",
       "335440051521266932493419673977041595683753555166730273900749729736354964533288\n",
       "869844061196496162773449518273695588220757355176651589855190986665393549481068\n",
       "873206859907540792342402300925900701731960362254756478940647548346647760411463\n",
       "233905651343306844953979070903023460461470961696886885014083470405460742958699\n",
       "138296682468185710318879065287036650832431974404771855678934823089431068287027\n",
       "228097362480939962706074726455399253994428081137369433887294063079261595995462\n",
       "624629707062594845569034711972996409089418059534393251236235508134949004364278\n",
       "527138315912568989295196427287573946914272534366941532361004537304881985517065\n",
       "941217352462589548730167600298865925786628561249665523533829428785425340483083\n",
       "307016537228563559152534784459818313411290019992059813522051173365856407826484\n",
       "942764411376393866924803118364453698589175442647399882284621844900877769776312\n",
       "795722672655562596282542765318300134070922334365779160128093179401718598599933\n",
       "849235495640057099558561134980252499066984233017350358044081168552653117099570\n",
       "899427328709258487894436460050410892266917835258707859512983441729535195378855\n",
       "345737426085902908176515578039059464087350612322611200937310804854852635722825\n",
       "768203416050484662775045003126200800799804925485346941469775164932709504934639\n",
       "382432227188515974054702148289711177792376122578873477188196825462981268685817\n",
       "050740272550263329044976277894423621674119186269439650671515779586756482399391\n",
       "760426017633870454990176143641204692182370764887834196896861181558158736062938\n",
       "603810171215855272668300823834046564758804051380801633638874216371406435495561\n",
       "868964112282140753302655100424104896783528588290243670904887118190909494533144\n",
       "218287661810310073547705498159680772009474696134360928614849417850171807793068\n",
       "108546900094458995279424398139213505586422196483491512639012803832001097738680\n",
       "662877923971801461343244572640097374257007359210031541508936793008169980536520\n",
       "276007277496745840028362405346037263416554259027601834840306811381855105979705\n",
       "664007509426087885735796037324514146786703688098806097164258497595138069309449\n",
       "401515422221943291302173912538355915031003330325111749156969174502714943315155\n",
       "885403922164097229101129035521815762823283182342548326111912800928252561902052\n",
       "630163911477247331485739107775874425387611746578671169414776421441111263583553\n",
       "871361011023267987756410246824032264834641766369806637857681349204530224081972\n",
       "785647198396308781543221166912246415911776732253264335686146186545222681268872\n",
       "684459684424161078540167681420808850280054143613146230821025941737562389942075\n",
       "713627516745731891894562835257044133543758575342698699472547031656613991999682\n",
       "628247270641336222178923903176085428943733935618891651250424404008952719837873\n",
       "864805847268954624388234375178852014395600571048119498842390606136957342315590\n",
       "796703461491434478863604103182350736502778590897578272731305048893989009923913\n",
       "503373250855982655867089242612429473670193907727130706869170926462548423240748\n",
       "550366080136046689511840093668609546325002145852930950000907151058236267293264\n",
       "537382104938724996699339424685516483261134146110680267446637334375340764294026\n",
       "682973865220935701626384648528514903629320199199688285171839536691345222444708\n",
       "045923966028171565515656661113598231122506289058549145097157553900243931535190\n",
       "902107119457300243880176615035270862602537881797519478061013715004489917210022\n",
       "201335013106016391541589578037117792775225978742891917915522417189585361680594\n",
       "741234193398420218745649256443462392531953135103311476394911995072858430658361\n",
       "935369329699289837914941939406085724863968836903265564364216644257607914710869\n",
       "984315733749648835292769328220762947282381537409961545598798259891093717126218\n",
       "283025848112389011968221429457667580718653806506487026133892822994972574530332\n",
       "838963818439447707794022843598834100358385423897354243956475556840952248445541\n",
       "392394100016207693636846776413017819659379971557468541946334893748439129742391\n",
       "433659360410035234377706588867781139498616478747140793263858738624732889645643\n",
       "598774667638479466504074111825658378878454858148962961273998413442726086061872\n",
       "455452360643153710112746809778704464094758280348769758948328241239292960582948\n",
       "619196670918958089833201210318430340128495116203534280144127617285830243559830\n",
       "032042024512072872535581195840149180969253395075778400067465526031446167050827\n",
       "682772223534191102634163157147406123850425845988419907611287258059113935689601\n",
       "431668283176323567325417073420817332230462987992804908514094790368878687894930\n",
       "546955703072619009502076433493359106024545086453628935456862958531315337183868\n",
       "265617862273637169757741830239860065914816164049449650117321313895747062088474\n",
       "802365371031150898427992754426853277974311395143574172219759799359685252285745\n",
       "263796289612691572357986620573408375766873884266405990993505000813375432454635\n",
       "967504844235284874701443545419576258473564216198134073468541117668831186544893\n",
       "776979566517279662326714810338643913751865946730024434500544995399742372328712\n",
       "494834706044063471606325830649829795510109541836235030309453097335834462839476\n",
       "304775645015008507578949548931393944899216125525597701436858943585877526379625\n",
       "597081677643800125436502371412783467926101995585224717220177723700417808419423\n",
       "948725406801556035998390548985723546745642390585850216719031395262944554391316\n",
       "631345308939062046784387785054239390524731362012947691874975191011472315289326\n",
       "772533918146607300089027768963114810902209724520759167297007850580717186381054\n",
       "967973100167870850694207092232908070383263453452038027860990556900134137182368\n",
       "370991949516489600755049341267876436746384902063964019766685592335654639138363\n",
       "185745698147196210841080961884605456039038455343729141446513474940784884423772\n",
       "175154334260306698831768331001133108690421939031080143784334151370924353013677\n",
       "631084913516156422698475074303297167469640666531527035325467112667522460551199\n",
       "581831963763707617991919203579582007595605302346267757943936307463056901080114\n",
       "942714100939136913810725813781357894005599500183542511841721360557275221035268\n",
       "037357265279224173736057511278872181908449006178013889710770822931002797665935\n",
       "838758909395688148560263224393726562472776037890814458837855019702843779362407\n",
       "825052704875816470324581290878395232453237896029841669225489649715606981192186\n",
       "584926770403956481278102179913217416305810554598801300484562997651121241536374\n",
       "515005635070127815926714241342103301566165356024733807843028655257222753049998\n",
       "837015348793008062601809623815161366903341111386538510919367393835229345888322\n",
       "550887064507539473952043968079067086806445096986548801682874343786126453815834\n",
       "280753061845485903798217994599681154419742536344399602902510015888272164745006\n",
       "820704193761584547123183460072629339550548239557137256840232268213012476794522\n",
       "644820910235647752723082081063518899152692889108455571126603965034397896278250\n",
       "016110153235160519655904211844949907789992007329476905868577878720982901352956\n",
       "613978884860509786085957017731298155314951681467176959760994210036183559138777\n",
       "817698458758104466283998806006162298486169353373865787735983361613384133853684\n",
       "211978938900185295691967804554482858483701170967212535338758621582310133103877\n",
       "668272115726949518179589754693992642197915523385766231676275475703546994148929\n",
       "041301863861194391962838870543677743224276809132365449485366768000001065262485\n",
       "473055861598999140170769838548318875014293890899506854530765116803337322265175\n",
       "662207526951791442252808165171667766727930354851542040238174608923283917032754\n",
       "257508676551178593950027933895920576682789677644531840404185540104351348389531\n",
       "201326378369283580827193783126549617459970567450718332065034556644034490453627\n",
       "560011250184335607361222765949278393706478426456763388188075656121689605041611\n",
       "390390639601620221536849410926053876887148379895599991120991646464411918568277\n",
       "004574243434021672276445589330127781586869525069499364610175685060167145354315\n",
       "814801054588605645501332037586454858403240298717093480910556211671546848477803\n",
       "944756979804263180991756422809873998766973237695737015808068229045992123661689\n",
       "025962730430679316531149401764737693873514093361833216142802149763399189835484\n",
       "875625298752423873077559555955465196394401821840998412489826236737714672260616\n",
       "336432964063357281070788758164043814850188411431885988276944901193212968271588\n",
       "841338694346828590066640806314077757725705630729400492940302420498416565479736\n",
       "705485580445865720227637840466823379852827105784319753541795011347273625774080\n",
       "213476826045022851579795797647467022840999561601569108903845824502679265942055\n",
       "503958792298185264800706837650418365620945554346135134152570065974881916341359\n",
       "556719649654032187271602648593049039787489589066127250794828276938953521753621\n",
       "850796297785146188432719223223810158744450528665238022532843891375273845892384\n",
       "422535472653098171578447834215822327020690287232330053862163479885094695472004\n",
       "795231120150432932266282727632177908840087861480221475376578105819702226309717\n",
       "495072127248479478169572961423658595782090830733233560348465318730293026659645\n",
       "013718375428897557971449924654038681799213893469244741985097334626793321072686\n",
       "870768062639919361965044099542167627840914669856925715074315740793805323925239\n",
       "477557441591845821562518192155233709607483329234921034514626437449805596103307\n",
       "994145347784574699992128599999399612281615219314888769388022281083001986016549\n",
       "416542616968586788372609587745676182507275992950893180521872924610867639958916\n",
       "145855058397274209809097817293239301067663868240401113040247007350857828724627\n",
       "134946368531815469690466968693925472519413992914652423857762550047485295476814\n",
       "795467007050347999588867695016124972282040303995463278830695976249361510102436\n",
       "555352230690612949388599015734661023712235478911292547696176005047974928060721\n",
       "268039226911027772261025441492215765045081206771735712027180242968106203776578\n",
       "837166909109418074487814049075517820385653909910477594141321543284406250301802\n",
       "757169650820964273484146957263978842560084531214065935809041271135920041975985\n",
       "136254796160632288736181367373244506079244117639975974619383584574915988097667\n",
       "447093006546342423460634237474666080431701260052055928493695941434081468529815\n",
       "053947178900451835755154125223590590687264878635752541911288877371766374860276\n",
       "606349603536794702692322971868327717393236192007774522126247518698334951510198\n",
       "642698878471719396649769070825217423365662725928440620430214113719922785269984\n",
       "698847702323823840055655517889087661360130477098438611687052310553149162517283\n",
       "732728676007248172987637569816335415074608838663640693470437206688651275688266\n",
       "149730788657015685016918647488541679154596507234287730699853713904300266530783\n",
       "987763850323818215535597323530686043010675760838908627049841888595138091030423\n",
       "595782495143988590113185835840667472370297149785084145853085781339156270760356\n",
       "390763947311455495832266945702494139831634332378975955680856836297253867913275\n",
       "055542524491943589128405045226953812179131914513500993846311774017971512283785\n",
       "460116035955402864405902496466930707769055481028850208085800878115773817191741\n",
       "776017330738554758006056014337743299012728677253043182519757916792969965041460\n",
       "706645712588834697979642931622965520168797300035646304579308840327480771811555\n",
       "330909887025505207680463034608658165394876951960044084820659673794731680864156\n",
       "456505300498816164905788311543454850526600698230931577765003780704661264706021\n",
       "457505793270962047825615247145918965223608396645624105195510522357239739512881\n",
       "816405978591427914816542632892004281609136937773722299983327082082969955737727\n",
       "375667615527113922588055201898876201141680054687365580633471603734291703907986\n",
       "396522961312801782679717289822936070288069087768660593252746378405397691848082\n",
       "041021944719713869256084162451123980620113184541244782050110798760717155683154\n",
       "078865439041210873032402010685341947230476666721749869868547076781205124736792\n",
       "479193150856444775379853799732234456122785843296846647513336573692387201464723\n",
       "679427870042503255589926884349592876124007558756946413705625140011797133166207\n",
       "153715436006876477318675587148783989081074295309410605969443158477539700943988\n",
       "394914432353668539209946879645066533985738887866147629443414010498889931600512\n",
       "076781035886116602029611936396821349607501116498327856353161451684576956871090\n",
       "029997698412632665023477167286573785790857466460772283415403114415294188047825\n",
       "438761770790430001566986776795760909966936075594965152736349811896413043311662\n",
       "774712338817406037317439705406703109676765748695358789670031925866259410510533\n",
       "584384656023391796749267844763708474978333655579007384191473198862713525954625\n",
       "181604342253729962863267496824058060296421146386436864224724887283434170441573\n",
       "482481833301640566959668866769563491416328426414974533349999480002669987588815\n",
       "935073578151958899005395120853510357261373640343675347141048360175464883004078\n",
       "464167452167371904831096767113443494819262681110739948250607394950735031690197\n",
       "318521195526356325843390998224986240670310768318446607291248747540316179699411\n",
       "397387765899868554170318847788675929026070043212666179192235209382278788809886\n",
       "335991160819235355570464634911320859189796132791319756490976000139962344455350\n",
       "143464268604644958624769094347048293294140411146540923988344435159133201077394\n",
       "411184074107684981066347241048239358274019449356651610884631256785297769734684\n",
       "303061462418035852933159734583038455410337010916767763742762102137013548544509\n",
       "263071901147318485749233181672072137279355679528443925481560913728128406333039\n",
       "373562420016045664557414588166052166608738748047243391212955877763906969037078\n",
       "828527753894052460758496231574369171131761347838827194168606625721036851321566\n",
       "478001476752310393578606896111259960281839309548709059073861351914591819510297\n",
       "327875571049729011487171897180046961697770017913919613791417162707018958469214\n",
       "343696762927459109940060084983568425201915593703701011049747339493877885989417\n",
       "433031785348707603221982970579751191440510994235883034546353492349826883624043\n",
       "327267415540301619505680654180939409982020609994140216890900708213307230896621\n",
       "197755306659188141191577836272927461561857103721724710095214236964830864102592\n",
       "887457999322374955191221951903424452307535133806856807354464995127203174487195\n",
       "403976107308060269906258076020292731455252078079914184290638844373499681458273\n",
       "372072663917670201183004648190002413083508846584152148991276106513741539435657\n",
       "211390328574918769094413702090517031487773461652879848235338297260136110984514\n",
       "841823808120540996125274580881099486972216128524897425555516076371675054896173\n",
       "016809613803811914361143992106380050832140987604599309324851025168294467260666\n",
       "138151745712559754953580239983146982203613380828499356705575524712902745397762\n",
       "140493182014658008021566536067765508783804304134310591804606800834591136640834\n",
       "887408005741272586704792258319127415739080914383138456424150940849133918096840\n",
       "251163991936853225557338966953749026620923261318855891580832455571948453875628\n",
       "786128859004106006073746501402627824027346962528217174941582331749239683530136\n",
       "178653673760642166778137739951006589528877427662636841830680190804609849809469\n",
       "763667335662282915132352788806157768278159588669180238940333076441912403412022\n",
       "316368577860357276941541778826435238131905028087018575047046312933353757285386\n",
       "605888904583111450773942935201994321971171642235005644042979892081594307167019\n",
       "857469273848653833436145794634175922573898588001698014757420542995801242958105\n",
       "456510831046297282937584161162532562516572498078492099897990620035936509934721\n",
       "582965174135798491047111660791587436986541222348341887722929446335178653856731\n",
       "962559852026072947674072616767145573649812105677716893484917660771705277187601\n",
       "199908144113058645577910525684304811440261938402322470939249802933550731845890\n",
       "355397133088446174107959162511714864874468611247605428673436709046678468670274\n",
       "091881014249711149657817724279347070216688295610877794405048437528443375108828\n",
       "264771978540006509704033021862556147332117771174413350281608840351781452541964\n",
       "320309576018694649088681545285621346988355444560249556668436602922195124830910\n",
       "605377201980218310103270417838665447181260397190688462370857518080035327047185\n",
       "659499476124248110999288679158969049563947624608424065930948621507690314987020\n",
       "673533848349550836366017848771060809804269247132410009464014373603265645184566\n",
       "792456669551001502298330798496079949882497061723674493612262229617908143114146\n",
       "609412341593593095854079139087208322733549572080757165171876599449856937956238\n",
       "755516175754380917805280294642004472153962807463602113294255916002570735628126\n",
       "387331060058910652457080244749375431841494014821199962764531068006631183823761\n",
       "639663180931444671298615527598201451410275600689297502463040173514891945763607\n",
       "893528555053173314164570504996443890936308438744847839616840518452732884032345\n",
       "202470568516465716477139323775517294795126132398229602394548579754586517458787\n",
       "713318138752959809412174227300352296508089177705068259248822322154938048371454\n",
       "781647213976820963320508305647920482085920475499857320388876391601995240918938\n",
       "945576768749730856955958010659526503036266159750662225084067428898265907510637\n",
       "563569968211510949669744580547288693631020367823250182323708459790111548472087\n",
       "618212477813266330412076216587312970811230758159821248639807212407868878114501\n",
       "655825136178903070860870198975889807456643955157415363193191981070575336633738\n",
       "038272152798849350397480015890519420879711308051233933221903466249917169150948\n",
       "541401871060354603794643379005890957721180804465743962806186717861017156740967\n",
       "662080295766577051291209907944304632892947306159510430902221439371849560634056\n",
       "189342513057268291465783293340524635028929175470872564842600349629611654138230\n",
       "077313327298305001602567240141851520418907011542885799208121984493156999059182\n",
       "011819733500126187728036812481995877070207532406361259313438595542547781961142\n",
       "935163561223496661522614735399674051584998603552953329245752388810136202347624\n",
       "669055816438967863097627365504724348643071218494373485300606387644566272186661\n",
       "701238127715621379746149861328744117714552444708997144522885662942440230184791\n",
       "205478498574521634696448973892062401943518310088283480249249085403077863875165\n",
       "911302873958787098100772718271874529013972836614842142871705531796543076504534\n",
       "324600536361472618180969976933486264077435199928686323835088756683595097265574\n",
       "815431940195576850437248001020413749831872259677387154958399718444907279141965\n",
       "845930083942637020875635398216962055324803212267498911402678528599673405242031\n",
       "091797899905718821949391320753431707980023736590985375520238911643467185582906\n",
       "853711897952626234492483392496342449714656846591248918556629589329909035239233\n",
       "333647435203707701010843880032907598342170185542283861617210417603011645918780\n",
       "539367447472059985023582891833692922337323999480437108419659473162654825748099\n",
       "482509991833006976569367159689364493348864744213500840700660883597235039532340\n",
       "179582557036016936990988671132109798897070517280755855191269930673099250704070\n",
       "245568507786790694766126298082251633136399521170984528092630375922426742575599\n",
       "892892783704744452189363203489415521044597261883800300677617931381399162058062\n",
       "701651024458869247649246891924612125310275731390840470007143561362316992371694\n",
       "848132554200914530410371354532966206392105479824392125172540132314902740585892\n",
       "063217589494345489068463993137570910346332714153162232805522972979538018801628\n",
       "590735729554162788676498274186164218789885741071649069191851162815285486794173\n",
       "638906653885764229158342500673612453849160674137340173572779956341043326883569\n",
       "507814931378007362354180070619180267328551191942676091221035987469241172837493\n",
       "126163395001239599240508454375698507957046222664619000103500490183034153545842\n",
       "833764378111988556318777792537201166718539541835984438305203762819440761594106\n",
       "820716970302285152250573126093046898423433152732131361216582808075212631547730\n",
       "604423774753505952287174402666389148817173086436111389069420279088143119448799\n",
       "417154042103412190847094080254023932942945493878640230512927119097513536000921\n",
       "971105412096683111516328705423028470073120658032626417116165957613272351566662\n",
       "536672718998534199895236884830999302757419916463841427077988708874229277053891\n",
       "227172486322028898425125287217826030500994510824783572905691988555467886079462\n",
       "805371227042466543192145281760741482403827835829719301017888345674167811398954\n",
       "750448339314689630763396657226727043393216745421824557062524797219978668542798\n",
       "977992339579057581890622525473582205236424850783407110144980478726691990186438\n",
       "822932305382318559732869780922253529591017341407334884761005564018242392192695\n",
       "062083183814546983923664613639891012102177095976704908305081854704194664371312\n",
       "299692358895384930136356576186106062228705599423371631021278457446463989738188\n",
       "566746260879482018647487672727222062676465338099801966883680994159075776852639\n",
       "865146253336312450536402610569605513183813174261184420189088853196356986962795\n",
       "036738424313011331753305329802016688817481342988681585577810343231753064784983\n",
       "210629718425184385534427620128234570716988530518326179641178579608888150329602\n",
       "290705614476220915094739035946646916235396809201394578175891088931992112260073\n",
       "928149169481615273842736264298098234063200244024495894456129167049508235812487\n",
       "391799648641133480324757775219708932772262349486015046652681439877051615317026\n",
       "696929704928316285504212898146706195331970269507214378230476875280287354126166\n",
       "391708245925170010714180854800636923259462019002278087409859771921805158532147\n",
       "392653251559035410209284665925299914353791825314545290598415817637058927906909\n",
       "896911164381187809435371521332261443625314490127454772695739393481546916311624\n",
       "928873574718824071503995009446731954316193855485207665738825139639163576723151\n",
       "005556037263394867208207808653734942440115799667507360711159351331959197120948\n",
       "964717553024531364770942094635696982226673775209945168450643623824211853534887\n",
       "989395673187806606107885440005508276570305587448541805778891719207881423351138\n",
       "662929667179643468760077047999537883387870348718021842437342112273940255717690\n",
       "819603092018240188427057046092622564178375265263358324240661253311529423457965\n",
       "569502506810018310900411245379015332966156970522379210325706937051090830789479\n",
       "999004999395322153622748476603613677697978567386584670936679588583788795625946\n",
       "464891376652199588286933801836011932368578558558195556042156250883650203322024\n",
       "513762158204618106705195330653060606501054887167245377942831338871631395596905\n",
       "832083416898476065607118347136218123246227258841990286142087284956879639325464\n",
       "285343075301105285713829643709990356948885285190402956047346131138263878897551\n",
       "788560424998748316382804046848618938189590542039889872650697620201995548412650\n",
       "005394428203930127481638158530396439925470201672759328574366661644110962566337\n",
       "305409219519675148328734808957477775278344221091073111351828046036347198185655\n",
       "572957144747682552857863349342858423118749440003229690697758315903858039353521\n",
       "358860079600342097547392296733310649395601812237812854584317605561733861126734\n",
       "780745850676063048229409653041118306671081893031108871728167519579675347188537\n",
       "229309616143204006381322465841111157758358581135018569047815368938137718472814\n",
       "751998350504781297718599084707621974605887423256995828892535041937958260616211\n",
       "842368768511418316068315867994601652057740529423053601780313357263267054790338\n",
       "401257305912339601880137825421927094767337191987287385248057421248921183470876\n",
       "629667207272325650565129333126059505777727542471241648312832982072361750574673\n",
       "870128209575544305968395555686861188397135522084452852640081252027665557677495\n",
       "969626612604565245684086139238265768583384698499778726706555191854468698469478\n",
       "495734622606294219624557085371272776523098955450193037732166649182578154677292\n",
       "005212667143463209637891852323215018976126034373684067194193037746880999296877\n",
       "582441047878123266253181845960453853543839114496775312864260925211537673258866\n",
       "722604042523491087026958099647595805794663973419064010036361904042033113579336\n",
       "542426303561457009011244800890020801478056603710154122328891465722393145076071\n",
       "670643556827437743965789067972687438473076346451677562103098604092717090951280\n",
       "863090297385044527182892749689212106670081648583395537735919136950153162018908\n",
       "887484210798706899114804669270650940762046502772528650728905328548561433160812\n",
       "693005693785417861096969202538865034577183176686885923681488475276498468821949\n",
       "739729707737187188400414323127636504814531122850990020742409255859252926103021\n",
       "067368154347015252348786351643976235860419194129697690405264832347009911154242\n",
       "601273438022089331096686367898694977994001260164227609260823493041180643829138\n",
       "347354679725399262338791582998486459271734059225620749105308531537182911681637\n",
       "219395188700957788181586850464507699343940987433514431626330317247747486897918\n",
       "209239480833143970840673084079589358108966564775859905563769525232653614424780\n",
       "230826811831037735887089240613031336477371011628214614661679404090518615260360\n",
       "092521947218890918107335871964142144478654899528582343947050079830388538860831\n",
       "035719306002771194558021911942899922722353458707566246926177663178855144350218\n",
       "287026685610665003531050216318206017609217984684936863161293727951873078972637\n",
       "353717150256378733579771808184878458866504335824377004147710414934927438457587\n",
       "107159731559439426412570270965125108115548247939403597681188117282472158250109\n",
       "496096625393395380922195591918188552678062149923172763163218339896938075616855\n",
       "911752998450132067129392404144593862398809381240452191484831646210147389182510\n",
       "109096773869066404158973610476436500068077105656718486281496371118832192445663\n",
       "945814491486165500495676982690308911185687986929470513524816091743243015383684\n",
       "707292898982846022237301452655679898627767968091469798378268764311598832109043\n",
       "715611299766521539635464420869197567370005738764978437686287681792497469438427\n",
       "465256316323005551304174227341646455127812784577772457520386543754282825671412\n",
       "885834544435132562054464241011037955464190581168623059644769587054072141985212\n",
       "106734332410756767575818456990693046047522770167005684543969234041711089888993\n",
       "416350585157887353430815520811772071880379104046983069578685473937656433631979\n",
       "786803671873079693924236321448450354776315670255390065423117920153464977929066\n",
       "241508328858395290542637687668968805033317227800185885069736232403894700471897\n",
       "619347344308437443759925034178807972235859134245813144049847701732361694719765\n",
       "715353197754997162785663119046912609182591249890367654176979903623755286526375\n",
       "733763526969344354400473067198868901968147428767790866979688522501636949856730\n",
       "217523132529265375896415171479559538784278499866456302878831962099830494519874\n",
       "396369070682762657485810439112232618794059941554063270131989895703761105323606\n",
       "298674803779153767511583043208498720920280929752649812569163425000522908872646\n",
       "925284666104665392171482080130502298052637836426959733707053922789153510568883\n",
       "938113249757071331029504430346715989448786847116438328050692507766274500122003\n",
       "526203709466023414648998390252588830148678162196775194583167718762757200505439\n",
       "794412459900771152051546199305098386982542846407255540927403132571632640792934\n",
       "183342147090412542533523248021932277075355546795871638358750181593387174236061\n",
       "551171013123525633485820365146141870049205704372018261733194715700867578539336\n",
       "078622739558185797587258744102542077105475361294047460100094095444959662881486\n",
       "915903899071865980563617137692227290764197755177720104276496949611056220592502\n",
       "420217704269622154958726453989227697660310524980855759471631075870133208861463\n",
       "266412591148633881220284440694169488261529577625325019870359870674380469821942\n",
       "056381255833436421949232275937221289056420943082352544084110864545369404969271\n",
       "494003319782861318186188811118408257865928757426384450059944229568586460481033\n",
       "015388911499486935436030221810943466764000022362550573631294626296096198760564\n",
       "259963946138692330837196265954739234624134597795748524647837980795693198650815\n",
       "977675350553918991151335252298736112779182748542008689539658359421963331502869\n",
       "561192012298889887006079992795411188269023078913107603617634779489432032102773\n",
       "359416908650071932804017163840644987871753756781185321328408216571107549528294\n",
       "974936214608215583205687232185574065161096274874375098092230211609982633033915\n",
       "469494644491004515280925089745074896760324090768983652940657920198315265410658\n",
       "136823791984090645712468948470209357761193139980246813405200394781949866202624\n",
       "008902150166163813538381515037735022966074627952910384068685569070157516624192\n",
       "987244482719429331004854824454580718897633003232525821581280327467962002814762\n",
       "431828622171054352898348208273451680186131719593324711074662228508710666117703\n",
       "465352839577625997744672185715816126411143271794347885990892808486694914139097\n",
       "716736900277758502686646540565950394867841110790116104008572744562938425494167\n",
       "594605487117235946429105850909950214958793112196135908315882620682332156153086\n",
       "833730838173279328196983875087083483880463884784418840031847126974543709373298\n",
       "362402875197920802321878744882872843727378017827008058782410749357514889978911\n",
       "739746129320351081432703251409030487462262942344327571260086642508333187688650\n",
       "756429271605525289544921537651751492196367181049435317858383453865255656640657\n",
       "251363575064353236508936790431702597878177190314867963840828810209461490079715\n",
       "137717099061954969640070867667102330048672631475510537231757114322317411411680\n",
       "622864206388906210192355223546711662137499693269321737043105987225039456574924\n",
       "616978260970253359475020913836673772894438696400028110344026084712899000746807\n",
       "764844088711341352503367877316797709372778682166117865344231732264637847697875\n",
       "144332095340001650692130546476890985050203015044880834261845208730530973189492\n",
       "916425322933612431514306578264070283898409841602950309241897120971601649265613\n",
       "413433422298827909921786042679812457285345801338260995877178113102167340256562\n",
       "744007296834066198480676615805021691833723680399027931606420436812079900316264\n",
       "449146190219458229690992122788553948783538305646864881655562294315673128274390\n",
       "826450611628942803501661336697824051770155219626522725455850738640585299830379\n",
       "180350432876703809252167907571204061237596327685674845079151147313440001832570\n",
       "344920909712435809447900462494313455028900680648704293534037436032625820535790\n",
       "118395649089354345101342969617545249573960621490288728932792520696535386396443\n",
       "225388327522499605986974759882329916263545973324445163755334377492928990581175\n",
       "786355555626937426910947117002165411718219750519831787137106051063795558588905\n",
       "568852887989084750915764639074693619881507814685262133252473837651192990156109\n",
       "189777922008705793396463827490680698769168197492365624226087154176100430608904\n",
       "377976678519661891404144925270480881971498801542057787006521594009289777601330\n",
       "756847966992955433656139847738060394368895887646054983871478968482805384701730\n",
       "871117761159663505039979343869339119789887109156541709133082607647406305711411\n",
       "098839388095481437828474528838368079418884342666222070438722887413947801017721\n",
       "392281911992365405516395893474263953824829609036900288359327745855060801317988\n",
       "407162446563997948275783650195514221551339281978226984278638391679715091262410\n",
       "548725700924070045488485692950448110738087996547481568913935380943474556972128\n",
       "919827177020766613602489581468119133614121258783895577357194986317210844398901\n",
       "423948496659251731388171602663261931065366535041473070804414939169363262373767\n",
       "777095850313255990095762731957308648042467701212327020533742667053142448208168\n",
       "130306397378736642483672539837487690980602182785786216512738563513290148903509\n",
       "883270617258932575363993979055729175160097615459044771692265806315111028038436\n",
       "017374742152476085152099016158582312571590733421736576267142390478279587281505\n",
       "095633092802668458937649649770232973641319060982740633531089792464242134583740\n",
       "901169391964250459128813403498810635400887596820054408364386516617880557608956\n",
       "896727531538081942077332597917278437625661184319891025007491829086475149794003\n",
       "160703845549465385946027452447466812314687943441610993338908992638411847425257\n",
       "044572517459325738989565185716575961481266020310797628254165590506042479114016\n",
       "957900338356574869252800743025623419498286467914476322774005529460903940177536\n",
       "335655471931000175430047504719144899841040015867946179241610016454716551337074\n",
       "073950260442769538553834397550548871099785205401175169747581344926079433689543\n",
       "783221172450687344231989878844128542064742809735625807066983106979935260693392\n",
       "135685881391214807354728463227784908087002467776303605551232386656295178853719\n",
       "673034634701222939581606792509153217489030840886516061119011498443412350124646\n",
       "928028805996134283511884715449771278473361766285062169778717743824362565711779\n",
       "450064477718370221999106695021656757644044997940765037999954845002710665987813\n",
       "603802314126836905783190460792765297277694043613023051787080546511542469395265\n",
       "127101052927070306673024447125973939950514628404767431363739978259184541176413\n",
       "327906460636584152927019030276017339474866960348694976541752429306040727005059\n",
       "039503148522921392575594845078867977925253931765156416197168443524369794447355\n",
       "964260633391055126826061595726217036698506473281266724521989060549880280782881\n",
       "429796336696744124805982192146339565745722102298677599746738126069367069134081\n",
       "559412016115960190237753525556300606247983261249881288192937343476862689219239\n",
       "777833910733106588256813777172328315329082525092733047850724977139448333892552\n",
       "081175608452966590553940965568541706001179857293813998258319293679100391844099\n",
       "286575605993598910002969864460974714718470101531283762631146774209145574041815\n",
       "908800064943237855839308530828305476076799524357391631221886057549673832243195\n",
       "650655460852881201902363644712703748634421727257879503428486312944916318475347\n",
       "531435041392096108796057730987201352484075057637199253650470908582513936863463\n",
       "863368042891767107602111159828875539940120076013947033661793715396306139863655\n",
       "492213741597905119083588290097656647300733879314678913181465109316761575821351\n",
       "424860442292445304113160652700974330088499034675405518640677342603583409608605\n",
       "533747362760935658853109760994238347382222087292464497684560579562516765574088\n",
       "410321731345627735856052358236389532038534024842273371639123973215995440828421\n",
       "666636023296545694703577184873442034227706653837387506169212768015766181095420\n",
       "097708363604361110592409117889540338021426523948929686439808926114635414571535\n",
       "194342850721353453018315875628275733898268898523557799295727645229391567477566\n",
       "676051087887648453493636068278050564622813598885879259940946446041705204470046\n",
       "315137975431737187756039815962647501410906658866162180038266989961965580587208\n",
       "639721176995219466789857011798332440601811575658074284182910615193917630059194\n",
       "314434605154047710570054339000182453117733718955857603607182860506356479979004\n",
       "139761808955363669603162193113250223851791672055180659263518036251214575926238\n",
       "369348222665895576994660491938112486609099798128571823494006615552196112207203\n",
       "092277646200999315244273589488710576623894693889446495093960330454340842102462\n",
       "401048723328750081749179875543879387381439894238011762700837196053094383940063\n",
       "756116458560943129517597713935396074322792489221267045808183313764165818269562\n",
       "105872892447740035947009268662659651422050630078592002488291860839743732353849\n",
       "083964326147000532423540647042089499210250404726781059083644007466380020870126\n",
       "664209457181702946752278540074508552377720890581683918446592829417018288233014\n",
       "971554235235911774818628592967605048203864343108779562892925405638946621948268\n",
       "711042828163893975711757786915430165058602965217459581988878680408110328432739\n",
       "867198621306205559855266036405046282152306154594474489908839081999738747452969\n",
       "810776201487134000122535522246695409315213115337915798026979555710508507473874\n",
       "750758068765376445782524432638046143042889235934852961058269382103498000405248\n",
       "407084403561167817170512813378805705643450616119330424440798260377951198548694\n",
       "559152051960093041271007277849301555038895360338261929343797081874320949914159\n",
       "593396368110627557295278004254863060054523839151068998913578820019411786535682\n",
       "149118528207852130125518518493711503422159542244511900207393539627400208110465\n",
       "530207932867254740543652717595893500716336076321614725815407642053020045340183\n",
       "572338292661915308354095120226329165054426123619197051613839357326693760156914\n",
       "429944943744856809775696303129588719161129294681884936338647392747601226964158\n",
       "848900965717086160598147204467428664208765334799858222090619802173211614230419\n",
       "477754990738738567941189824660913091691772274207233367635032678340586301930193\n",
       "242996397204445179288122854478211953530898910125342975524727635730226281382091\n",
       "807439748671453590778633530160821559911314144205091447293535022230817193663509\n",
       "346865858656314855575862447818620108711889760652969899269328178705576435143382\n",
       "060141077329261063431525337182243385263520217735440715281898137698755157574546\n",
       "939727150488469793619500477720970561793913828989845327426227288647108883270173\n",
       "723258818244658436249580592560338105215606206155713299156084892064340303395262\n",
       "263451454283678698288074251422567451806184149564686111635404971897682154227722\n",
       "479474033571527436819409892050113653400123846714296551867344153741615042563256\n",
       "713430247655125219218035780169240326699541746087592409207004669340396510178134\n",
       "857835694440760470232540755557764728450751826890418293966113310160131119077398\n",
       "632462778219023650660374041606724962490137433217246454097412995570529142438208\n",
       "076098364823465973886691349919784013108015581343979194852830436739012482082444\n",
       "814128095443773898320059864909159505322857914576884962578665885999179867520554\n",
       "558099004556461178755249370124553217170194282884617402736649978475508294228020\n",
       "232901221630102309772151569446427909802190826689868834263071609207914085197695\n",
       "235553488657743425277531197247430873043619511396119080030255878387644206085044\n",
       "730631299277888942729189727169890575925244679660189707482960949190648764693702\n",
       "750773866432391919042254290235318923377293166736086996228032557185308919284403\n",
       "805071030064776847863243191000223929785255372375566213644740096760539439838235\n",
       "764606992465260089090624105904215453927904411529580345334500256244101006359530\n",
       "039598864466169595626351878060688513723462707997327233134693971456285542615467\n",
       "650632465676620279245208581347717608521691340946520307673391841147504140168924\n",
       "121319826881568664561485380287539331160232292555618941042995335640095786495340\n",
       "935115266454024418775949316930560448686420862757201172319526405023099774567647\n",
       "838488973464317215980626787671838005247696884084989185086149003432403476742686\n",
       "245952395890358582135006450998178244636087317754378859677672919526111213859194\n",
       "725451400301180503437875277664402762618941017576872680428176623860680477885242\n",
       "887430259145247073950546525135339459598789619778911041890292943818567205070964\n",
       "606263541732944649576612651953495701860015412623962286413897796733329070567376\n",
       "962156498184506842263690367849555970026079867996261019039331263768556968767029\n",
       "295371162528005543100786408728939225714512481135778627664902425161990277471090\n",
       "335933309304948380597856628844787441469841499067123764789582263294904679812089\n",
       "984857163571087831191848630254501620929805829208334813638405421720056121989353\n",
       "669371336733392464416125223196943471206417375491216357008573694397305979709719\n",
       "726666642267431117762176403068681310351899112271339724036887000996862922546465\n",
       "006385288620393800504778276912835603372548255793912985251506829969107754257647\n",
       "488325341412132800626717094009098223529657957997803018282428490221470748111124\n",
       "018607613415150387569830918652780658896682362523937845272634530420418802508442\n",
       "363190383318384550522367992357752929106925043261446950109861088899914658551881\n",
       "873582528164302520939285258077969737620845637482114433988162710031703151334402\n",
       "309526351929588680690821355853680161000213740851154484912685841268695899174149\n",
       "133820578492800698255195740201818105641297250836070356851055331787840829000041\n",
       "552511865779453963317538532092149720526607831260281961164858098684587525129997\n",
       "404092797683176639914655386108937587952214971731728131517932904431121815871023\n",
       "518740757222100123768721944747209349312324107065080618562372526732540733324875\n",
       "754482967573450019321902199119960797989373383673242576103938985349278777473980\n",
       "508080015544764061053522202325409443567718794565430406735896491017610775948364\n",
       "540823486130254718476485189575836674399791508512858020607820554462991723202028\n",
       "222914886959399729974297471155371858924238493855858595407438104882624648788053\n",
       "304271463011941589896328792678327322456103852197011130466587100500083285177311\n",
       "776489735230926661234588873102883515626446023671996644554727608310118788389151\n",
       "149340939344750073025855814756190881398752357812331342279866503522725367171230\n",
       "756861045004548970360079569827626392344107146584895780241408158405229536937499\n",
       "710665594894459246286619963556350652623405339439142111271810691052290024657423\n",
       "604130093691889255865784668461215679554256605416005071276641766056874274200329\n",
       "577160643448606201239821698271723197826816628249938714995449137302051843669076\n",
       "723577400053932662622760323659751718925901801104290384274185507894887438832703\n",
       "063283279963007200698012244365116394086922220745320244624121155804354542064215\n",
       "121585056896157356414313068883443185280853975927734433655384188340303517822946\n",
       "253702015782157373265523185763554098954033236382319219892171177449469403678296\n",
       "185920803403867575834111518824177439145077366384071880489358256868542011645031\n",
       "357633355509440319236720348651010561049872726472131986543435450409131859513145\n",
       "181276437310438972507004981987052176272494065214619959232142314439776546708351\n",
       "714749367986186552791715824080651063799500184295938799158350171580759883784962\n",
       "257398512129810326379376218322456594236685376799113140108043139732335449090824\n",
       "910499143325843298821033984698141715756010829706583065211347076803680695322971\n",
       "990599904451209087275776225351040902392888779424630483280319132710495478599180\n",
       "196967835321464441189260631526618167443193550817081875477050802654025294109218\n",
       "264858213857526688155584113198560022135158887210365696087515063187533002942118\n",
       "682221893775546027227291290504292259787710667873840000616772154638441292371193\n",
       "521828499824350920891801685572798156421858191197490985730570332667646460728757\n",
       "430565372602768982373259745084479649545648030771598153955827779139373601717422\n",
       "996027353102768719449444917939785144631597314435351850491413941557329382048542\n",
       "123508173912549749819308714396615132942045919380106231421774199184060180347949\n",
       "887691051557905554806953878540066453375981862846419905220452803306263695626490\n",
       "910827627115903856995051246529996062855443838330327638599800792922846659503551\n",
       "211245284087516229060262011857775313747949362055496401073001348853150735487353\n",
       "905602908933526400713274732621960311773433943673385759124508149335736911664541\n",
       "281788171454023054750667136518258284898099512139193995633241336556777098003081\n",
       "910272040997148687418134667006094051021462690280449159646545330107754695413088\n",
       "714165312544813061192407821188690056027781824235022696189344352547633573536485\n",
       "619363254417756613981703930632872166905722259745209192917262199844409646158269\n",
       "456380239502837121686446561785235565164127712826918688615572716201474934052276\n",
       "946595712198314943381622114006936307430444173284786101777743837977037231795255\n",
       "434107223445512555589998646183876764903972461167959018100035098928641204195163\n",
       "551108763204267612979826529425882951141275841262732790798807559751851576841264\n",
       "742209479721843309352972665210015662514552994745127631550917636730259462132930\n",
       "190402837954246323258550301096706922720227074863419005438302650681214142135057\n",
       "154175057508639907673946335146209082888934938376439399256900604067311422093312\n",
       "195936202982972351163259386772241477911629572780752395056251581603133359382311\n",
       "500518626890530658368129988108663263271980611271548858798093487912913707498230\n",
       "575929091862939195014721197586067270092547718025750337730799397134539532646195\n",
       "269996596385654917590458333585799102012713204583903200853878881633637685182083\n",
       "727885131175227769609787962142372162545214591281831798216044111311671406914827\n",
       "170981015457781939202311563871950805024679725792497605772625913328559726371211\n",
       "201905720771409148645074094926718035815157571514050397610963846755569298970383\n",
       "547314100223802583468767350129775413279532060971154506484212185936490997917766\n",
       "874774481882870632315515865032898164228288232746866106592732197907162384642153\n",
       "489852476216789050260998045266483929542357287343977680495774091449538391575565\n",
       "485459058976495198513801007958010783759945775299196700547602252552034453988712\n",
       "538780171960718164078124847847257912407824544361682345239570689514272269750431\n",
       "873633263011103053423335821609333191218806608268341428910415173247216053355849\n",
       "993224548730778822905252324234861531520976938461042582849714963475341837562003\n",
       "014915703279685301868631572488401526639835689563634657435321783493199825542117\n",
       "308467745297085839507616458229630324424328237737450517028560698067889521768198\n",
       "156710781633405266759539424926280756968326107495323390536223090807081455919837\n",
       "355377748742029039018142937311529334644468151212945097596534306284215319445727\n",
       "118614900017650558177095302468875263250119705209476159416768727784472000192789\n",
       "137251841622857783792284439084301181121496366424659033634194540657183544771912\n",
       "446621259392656620306888520055599121235363718226922531781458792593750441448933\n",
       "981608657900876165024635197045828895481793756681046474614105142498870252139936\n",
       "870509372305447734112641354892806841059107716677821238332810262185587751312721\n",
       "179344448201440425745083063944738363793906283008973306241380614589414227694747\n",
       "931665717623182472168350678076487573420491557628217583972975134478990696589532\n",
       "548940335615613167403276472469212505759116251529654568544633498114317670257295\n",
       "661844775487469378464233737238981920662048511894378868224807279352022501796545\n",
       "343757274163910791972952950812942922205347717304184477915673991738418311710362\n",
       "524395716152714669005814700002633010452643547865903290733205468338872078735444\n",
       "762647925297690170912007874183736735087713376977683496344252419949951388315074\n",
       "877537433849458259765560996555954318040920178497184685497370696212088524377013\n",
       "853757681416632722412634423982152941645378000492507262765150789085071265997036\n",
       "708726692764308377229685985169122305037462744310852934305273078865283977335246\n",
       "017463527703205938179125396915621063637625882937571373840754406468964783100704\n",
       "580613446731271591194608435935825987782835266531151065041623295329047772174083\n",
       "559349723758552138048305090009646676088301540612824308740645594431853413755220\n",
       "166305812111033453120745086824339432159043594430312431227471385842030390106070\n",
       "940315235556172767994160020393975099897629335325855575624808996691829864222677\n",
       "502360193257974726742578211119734709402357457222271212526852384295874273501563\n",
       "660093188045493338989741571490544182559738080871565281430102670460284316819230\n",
       "392535297795765862414392701549740879273131051636119137577008929564823323648298\n",
       "263024607975875767745377160102490804624301856524161756655600160859121534556267\n",
       "602192689982855377872583145144082654583484409478463178777374794653580169960779\n",
       "405568701192328608041130904629350871827125934668712766694873899824598527786499\n",
       "569165464029458935064964335809824765965165142090986755203808309203230487342703\n",
       "468288751604071546653834619611223013759451579252696743642531927390036038608236\n",
       "450762698827497618723575476762889950752114804852527950845033958570838130476937\n",
       "881321123674281319487950228066320170022460331989671970649163741175854851878484\n",
       "012054844672588851401562725019821719066960812627785485964818369621410721714214\n",
       "986361918774754509650308957099470934337856981674465828267911940611956037845397\n",
       "855839240761276344105766751024307559814552786167815949657062559755074306521085\n",
       "301597908073343736079432866757890533483669555486803913433720156498834220893399\n",
       "971641479746938696905480089193067138057171505857307148815649920714086758259602\n",
       "876056459782423770242469805328056632787041926768467116266879463486950464507420\n",
       "219373945259262668613552940624781361206202636498199999498405143868285258956342\n",
       "264328707663299304891723400725471764188685351372332667877921738347541480022803\n",
       "392997357936152412755829569276837231234798989446274330454566790062032420516396\n",
       "282588443085438307201495672106460533238537203143242112607424485845094580494081\n",
       "820927639140008540422023556260218564348994145439950410980591817948882628052066\n",
       "441086319001688568155169229486203010738897181007709290590480749092427141018933\n",
       "542818429995988169660993836961644381528877214085268088757488293258735809905670\n",
       "755817017949161906114001908553744882726200936685604475596557476485674008177381\n",
       "703307380305476973609786543859382187220583902344443508867499866506040645874346\n",
       "005331827436296177862518081893144363251205107094690813586440519229512932450078\n",
       "833398788429339342435126343365204385812912834345297308652909783300671261798130\n",
       "316794385535726296998740359570458452230856390098913179475948752126397078375944\n",
       "861139451960286751210561638976008880092746115860800207803341591451797073036835\n",
       "196977766076373785333012024120112046988609209339085365773222392412449051532780\n",
       "950955866459477634482269986074813297302630975028812103517723124465095349653693\n",
       "090018637764094094349837313251321862080214809922685502948454661814715557444709\n",
       "669530177690434272031892770604717784527939160472281534379803539679861424370956\n",
       "683221491465438014593829277393396032754048009552231816667380357183932757077142\n",
       "046723838624617803976292377131209580789363841447929802588065522129262093623930\n",
       "637313496640186619510811583471173312025805866727639992763579078063818813069156\n",
       "366274125431259589936119647626101405563503399523140323113819656236327198961837\n",
       "254845333702062563464223952766943568376761368711962921818754576081617053031590\n",
       "728828700712313666308722754918661395773730546065997437810987649802414011242142\n",
       "773668082751390959313404155826266789510846776118665957660165998178089414985754\n",
       "976284387856100263796543178313634025135814161151902096499133548733131115022700\n",
       "681930135929595971640197196053625033558479980963488718039111612813595968565478\n",
       "868325856437896173159762002419621552896297904819822199462269487137462444729093\n",
       "456470028537694958859591606789282491054412515996300781368367490209374915732896\n",
       "270028656829344431342347351239298259166739503425995868970697267332582735903121\n",
       "288746660451461487850346142827765991608090398652575717263081833494441820193533\n",
       "385071292345774375579344062178711330063106003324053991693682603746176638565758\n",
       "877580201229366353270267100681261825172914608202541892885935244491070138206211\n",
       "553827793565296914576502048643282865557934707209634807372692141186895467322767\n",
       "751335690190153723669036865389161291688887876407525493494249733427181178892759\n",
       "931596719354758988097924525262363659036320070854440784544797348291802082044926\n",
       "670634420437555325050527522833778887040804033531923407685630109347772125639088\n",
       "640413101073817853338316038135280828119040832564401842053746792992622037698718\n",
       "018061122624490909242641985820861751177113789051609140381575003366424156095216\n",
       "328197122335023167422600567941281406217219641842705784328959802882335059828208\n",
       "196666249035857789940333152274817776952843681630088531769694783690580671064828\n",
       "083598046698841098135158654906933319522394363287923990534810987830274500172065\n",
       "433699066117784554364687723631844464768069142828004551074686645392805399409108\n",
       "754939166095731619715033166968309929466349142798780842257220697148875580637480\n",
       "308862995118473187124777291910070227588893486939456289515802965372150409603107\n",
       "761289831263589964893410247036036645058687287589051406841238124247386385427908\n",
       "282733827973326885504935874303160274749063129572349742611221517417153133618622\n",
       "410913869500688835898962349276317316478340077460886655598733382113829928776911\n",
       "495492184192087771606068472874673681886167507221017261103830671787856694812948\n",
       "785048943063086169948798703160515884108282351274153538513365895332948629494495\n",
       "061868514779105804696039069372662670386512905201137810858616188886947957607413\n",
       "585534585151768051973334433495230120395770739623771316030242887200537320998253\n",
       "008977618973129817881944671731160647231476248457551928732782825127182446807824\n",
       "215216469567819294098238926284943760248852279003620219386696482215628093605373\n",
       "178040863727268426696421929946819214908701707533361094791381804063287387593848\n",
       "269535583077395761447997270003472880182785281389503217986345216111066608839314\n",
       "053226944905455527867894417579202440021450780192099804461382547805858048442416\n",
       "404775031536054906591430078158372430123137511562284015838644270890718284816757\n",
       "527123846782459534334449622010096071051370608461801187543120725491334994247617\n",
       "115633321408934609156561550600317384218701570226103101916603887064661438897736\n",
       "318780940711527528174689576401581047016965247557740891644568677717158500583269\n",
       "943401677202156767724068128366565264122982439465133197359199709403275938502669\n",
       "557470231813203243716420586141033606524536939160050644953060161267822648942437\n",
       "397166717661231048975031885732165554988342121802846912529086101485527815277625\n",
       "623750456375769497734336846015607727035509629049392487088406281067943622418704\n",
       "747008368842671022558302403599841645951122485272633632645114017395248086194635\n",
       "840783753556885622317115520947223065437092606797351000565549381224575483728545\n",
       "711797393615756167641692895805257297522338558611388322171107362265816218842443\n",
       "178857488798109026653793426664216990914056536432249301334867988154886628665052\n",
       "346997235574738424830590423677143278792316422403877764330192600192284778313837\n",
       "632536121025336935812624086866699738275977365682227907215832478888642369346396\n",
       "164363308730139814211430306008730666164803678984091335926293402304324974926887\n",
       "831643602681011309570716141912830686577323532639653677390317661361315965553584\n",
       "999398600565155921936759977717933019744688148371103206503693192894521402650915\n",
       "465184309936553493337183425298433679915939417466223900389527673813330617747629\n",
       "574943868716978453767219493506590875711917720875477107189937960894774512654757\n",
       "501871194870738736785890200617373321075693302216320628432065671192096950585761\n",
       "173961632326217708945426214609858410237813215817727602222738133495410481003073\n",
       "275107799948991977963883530734443457532975914263768405442264784216063122769646\n",
       "967156473999043715903323906560726644116438605404838847161912109008701019130726\n",
       "071044114143241976796828547885524779476481802959736049439700479596040292746299\n",
       "203572099761950140348315380947714601056333446998820822120587281510729182971211\n",
       "917876424880354672316916541852256729234429187128163232596965413548589577133208\n",
       "339911288775917226115273379010341362085614577992398778325083550730199818459025\n",
       "958355989260553299673770491722454935329683300002230181517226575787524058832249\n",
       "085821280089747909326100762578770428656006996176212176845478996440705066241710\n",
       "213327486796237430229155358200780141165348065647488230615003392068983794766255\n",
       "036549822805329662862117930628430170492402301985719978948836897183043805182174\n",
       "419147660429752437251683435411217038631379411422095295885798060152938752753799\n",
       "030938871683572095760715221900279379292786303637268765822681241993384808166021\n",
       "603722154710143007377537792699069587121289288019052031601285861825494413353820\n",
       "784883465311632650407642428390870121015194231961652268422003711230464300673442\n",
       "064747718021353070124098860353399152667923871101706221865883573781210935179775\n",
       "604425634694999787251125440854522274810914874307259869602040275941178942581281\n",
       "882159952359658979181144077653354321757595255536158128001163846720319346507296\n",
       "807990793963714961774312119402021297573125165253768017359101557338153772001952\n",
       "444543620071848475663415407442328621060997613243487548847434539665981338717466\n",
       "093020535070271952983943271425371155766600025784423031073429551533945060486222\n",
       "764966687624079324353192992639253731076892135352572321080889819339168668278948\n",
       "281170472624501948409700975760920983724090074717973340788141825195842598096241\n",
       "747610138252643955135259311885045636264188300338539652435997416931322894719878\n",
       "308427600401368074703904097238473945834896186539790594118599310356168436869219\n",
       "485382055780395773881360679549900085123259442529724486666766834641402189915944\n",
       "565309423440650667851948417766779470472041958822043295380326310537494883122180\n",
       "391279678446100139726753892195119117836587662528083690053249004597410947068772\n",
       "912328214304635337283519953648274325833119144459017809607782883583730111857543\n",
       "659958982724531925310588115026307542571493943024453931870179923608166611305426\n",
       "253995833897942971602070338767815033010280120095997252222280801423571094760351\n",
       "925544434929986767817891045559063015953809761875920358937341978962358931125983\n",
       "902598310267193304189215109689156225069659119828323455503059081730735195503721\n",
       "665870288053992138576037035377105178021280129566841984140362872725623214428754\n",
       "302210909472721073474134975514190737043318276626177275996888826027225247133683\n",
       "353452816692779591328861381766349857728936900965749562287103024362590772412219\n",
       "094300871755692625758065709912016659622436080242870024547362036394841255954881\n",
       "727272473653467783647201918303998717627037515724649922289467932322693619177641\n",
       "614618795613956699567783068290316589699430767333508234990790624100202506134057\n",
       "344300695745474682175690441651540636584680463692621274211075399042188716127617\n",
       "787014258864825775223889184599523376292377915585744549477361295525952226578636\n",
       "462118377598473700347971408206994145580719080213590732269233100831759510659019\n",
       "121294795408603640757358750205890208704579670007055262505811420663907459215273\n",
       "309406823649441590891009220296680523325266198911311842016291631076894084723564\n",
       "366808182168657219688268358402785500782804043453710183651096951782335743030504\n",
       "852653738073531074185917705610397395062640355442275156101107261779370634723804\n",
       "990666922161971194259120445084641746383589938239946517395509000859479990136026\n",
       "674261494290066467115067175422177038774507673563742154782905911012619157555870\n",
       "238957001405117822646989944917908301795475876760168094100135837613578591356924\n",
       "455647764464178667115391951357696104864922490083446715486383054477914330097680\n",
       "486878348184672733758436892724310447406807685278625585165092088263813233623148\n",
       "733336714764520450876627614950389949504809560460989604329123358348859990294526\n",
       "400284994280878624039811814884767301216754161106629995553668193123287425702063\n",
       "738352020086863691311733469731741219153633246745325630871347302792174956227014\n",
       "687325867891734558379964351358800959350877556356248810493852999007675135513527\n",
       "792412429277488565888566513247302514710210575352516511814850902750476845518252\n",
       "096331899068527614435138213662152368890578786699432288816028377482035506016029\n",
       "894009119713850179871683633744139275973644017007014763706655703504338121113576\n",
       "415018451821413619823495159601064752712575935185304332875537783057509567425442\n",
       "684712219618709178560783936144511383335649103256405733898667178123972237519316\n",
       "430617013859539474367843392670986712452211189690840236327411496601243483098929\n",
       "941738030588417166613073040067588380432111555379440605497721705942821514886165\n",
       "672771240903387727745629097110134885184374118695655449745736845218066982911045\n",
       "058004299887953899027804383596282409421860556287788428802127553884803728640019\n",
       "441614257499904272009595204654170598104989967504511936471172772220436102614079\n",
       "750809686975176600237187748348016120310234680567112644766123747627852190241202\n",
       "569943534716226660893675219833111813511146503854895025120655772636145473604426\n",
       "859498074396932331297127377157347099713952291182653485155587137336629120242714\n",
       "302503763269501350911612952993785864681307226486008270881333538193703682598867\n",
       "893321238327053297625857382790097826460545598555131836688844628265133798491667\n",
       "839409761353766251798258249663458771950124384040359140849209733754642474488176\n",
       "184070023569580177410177696925077814893386672557898564589851056891960924398841\n",
       "569280696983352240225634570497312245269354193837004843183357196516626721575524\n",
       "193401933099018319309196582920969656247667683659647019595754739345514337413708\n",
       "761517323677204227385674279170698204549953095918872434939524094441678998846319\n",
       "845504852393662972079777452814399418256789457795712552426826089940863317371538\n",
       "896262889629402112108884427376568624527612130371017300785135715404533041507959\n",
       "447776143597437803742436646973247138410492124314138903579092416036406314038149\n",
       "831481905251720937103964026808994832572297954564042701757722904173234796073618\n",
       "787889913318305843069394825961318713816423467218730845133877219086975104942843\n",
       "769325024981656673816260615941768252509993741672883951744066932549653403101452\n",
       "225316189009235376486378482881344209870048096227171226407489571939002918573307\n",
       "460104360729190945767994614929290427981687729426487729952858434647775386906950\n",
       "148984133924540394144680263625402118614317031251117577642829914644533408920976\n",
       "961699098372652361768745605894704968170136974909523072082682887890730190018253\n",
       "425805343421705928713931737993142410852647390948284596418093614138475831136130\n",
       "576108462366837237695913492615824516221552134879244145041756848064120636520170\n",
       "386330129532777699023118648020067556905682295016354931992305914246396217025329\n",
       "747573114094220180199368035026495636955866425906762685687372110339156793839895\n",
       "765565193177883000241613539562437777840801748819373095020699900890899328088397\n",
       "430367736595524891300156633294077907139615464534088791510300651321934486673248\n",
       "275907946807879819425019582622320395131252014109960531260696555404248670549986\n",
       "786923021746989009547850725672978794769888831093487464426400718183160331655511\n",
       "534276155622405474473378049246214952133258527698847336269182649174338987824789\n",
       "278468918828054669982303689939783413747587025805716349413568433929396068192061\n",
       "773331791738208562436433635359863494496890781064019674074436583667071586924521\n",
       "182997893804077137501290858646578905771426833582768978554717687184427726120509\n",
       "266486102051535642840632368481807287940717127966820060727559555904040233178749\n",
       "447346454760628189541512139162918444297651066947969354016866010055196077687335\n",
       "396511614930937570968554559381513789569039251014953265628147011998326992200066\n",
       "392875374713135236421589265126204072887716578358405219646054105435443642166562\n",
       "244565042999010256586927279142752931172082793937751326106052881235373451068372\n",
       "939893580871243869385934389175713376300720319760816604464683937725806909237297\n",
       "523486702916910426369262090199605204121024077648190316014085863558427609537086\n",
       "558164273995349346546314504040199528537252004957805254656251154109252437991326\n",
       "262713609099402902262062836752132305065183934057450112099341464918433323646569\n",
       "371725914489324159006242020612885732926133596808726500045628284557574596592120\n",
       "530341310111827501306961509835515632004310784601906565493806542525229161991819\n",
       "959602752327702249855738824899882707465936355768582560518068964285376850772012\n",
       "220347920993936179268206590142165615925306737944568949070853263568196831861772\n",
       "268249911472615732035807646298116244013316737892788689229032593349861797021994\n",
       "981925739617673075834417098559222170171825712777534491508205278430904619460835\n",
       "217402005838672849709411023266953921445461066215006410674740207009189911951376\n",
       "466904481267253691537162290791385403937560077835153374167747942100384002308951\n",
       "850994548779039346122220865060160500351776264831611153325587705073541279249909\n",
       "859373473787081194253055121436979749914951860535920403830235716352727630874693\n",
       "219622190064260886183676103346002255477477813641012691906569686495012688376296\n",
       "907233961276287223041141813610060264044030035996988919945827397624114613744804\n",
       "059697062576764723766065541618574690527229238228275186799156983390747671146103\n",
       "022776606020061246876477728819096791613354019881402757992174167678799231603963\n",
       "569492851513633647219540611171767387372555728522940054361785176502307544693869\n",
       "307873499110352182532929726044553210797887711449898870911511237250604238753734\n",
       "841257086064069052058452122754533848008205302450456517669518576913200042816758\n",
       "054924811780519832646032445792829730129105318385636821206215531288668564956512\n",
       "613892261367064093953334570526986959692350353094224543865278677673027540402702\n",
       "246384483553239914751363441044050092330361271496081355490531539021002299595756\n",
       "583705381261965683144286057956696622154721695620870013727768536960840704833325\n",
       "132793112232507148630206951245395003735723346807094656483089209801534878705633\n",
       "491092366057554050864111521441481434630437273271045027768661953107858323334857\n",
       "840297160925215326092558932655600672124359464255065996771770388445396181632879\n",
       "614460817789272171836908880126778207430106422524634807454300476492885553409062\n",
       "185153654355474125476152769772667769772777058315801412185688011705028365275543\n",
       "214803488004442979998062157904564161957212784508928489806426497427090579129069\n",
       "217807298769477975112447305991406050629946894280931034216416629935614828130998\n",
       "870745292716048433630818404126469637925843094185442216359084576146078558562473\n",
       "814931427078266215185541603870206876980461747400808324343665382354555109449498\n",
       "431093494759944672673665352517662706772194183191977196378015702169933675083760\n",
       "057163454643671776723387588643405644871566964321041282595645349841388412890420\n",
       "682047007615596916843038999348366793542549210328113363184722592305554383058206\n",
       "941675629992013373175489122037230349072681068534454035993561823576312837767640\n",
       "631013125335212141994611869350833176587852047112364331226765129964171325217513\n",
       "553261867681942338790365468908001827135283584888444111761234101179918709236507\n",
       "184857856221021104009776994453121795022479578069506532965940383987369907240797\n",
       "679040826794007618729547835963492793904576973661643405359792219285870574957481\n",
       "696694062334272619733518136626063735982575552496509807260123668283605928341855\n",
       "848026958413772558970883789942910549800331113884603401939166122186696058491571\n",
       "485733568286149500019097591125218800396419762163559375743718011480559442298730\n",
       "418196808085647265713547612831629200449880315402105530597076666362749328308916\n",
       "880932359290081787411985738317192616728834918402429721290434965526942726402559\n",
       "641463525914348400675867690350382320572934132981593533044446496829441367323442\n",
       "158380761694831219333119819061096142952201536170298575105594326461468505452684\n",
       "975764807808009221335811378197749271768545075538328768874474591593731162470601\n",
       "091244609829424841287520224462594477638749491997840446829257360968534549843266\n",
       "536862844489365704111817793806441616531223600214918768769467398407517176307516\n",
       "849856359201486892943105940202457969622924566644881967576294349535326382171613\n",
       "395757790766370764569570259738800438415805894336137106551859987600754924187211\n",
       "714889295221737721146081154344982665479872580056674724051122007383459271575727\n",
       "715218589946948117940644466399432370044291140747218180224825837736017346685300\n",
       "744985564715420036123593397312914458591522887408719508708632218837288262822884\n",
       "631843717261903305777147651564143822306791847386039147683108141358275755853643\n",
       "597721650028277803713422869688787349795096031108899196143386664068450697420787\n",
       "700280509367203387232629637856038653216432348815557557018469089074647879122436\n",
       "375556668678067610544955017260791142930831285761254481944449473244819093795369\n",
       "008206384631678225064809531810406570254327604385703505922818919878065865412184\n",
       "299217273720955103242251079718077833042609086794273428955735559252723805511440\n",
       "438001239041687716445180226491681641927401106451622431101700056691121733189423\n",
       "400547959684669804298017362570406733282129962153684881404102194463424646220745\n",
       "575643960452985313071409084608499653767803793201899140865814662175319337665970\n",
       "114330608625009829566917638846056762972931464911493704624469351984039534449135\n",
       "141193667933301936617663652555149174982307987072280860859626112660504289296966\n",
       "535652516688885572112276802772743708917389639772257564890533401038855931125679\n",
       "991516589025016486961427207005916056166159702451989051832969278935550303934681\n",
       "219761582183980483960562523091462638447386296039848924386187298507775928792722\n",
       "068554807210497817653286210187476766897248841139560349480376727036316921007350\n",
       "834073865261684507482496448597428134936480372426116704266870831925040997615319\n",
       "076855770327421785010006441984124207396400139603601583810565928413684574119102\n",
       "736420274163723488214524101347716529603128408658419787951116511529827814620379\n",
       "139855006399960326591248525308493690313130100799977191362230866011099929142871\n",
       "249388541612038020411340188887219693477904497527454288072803509305828754420755\n",
       "134816660927879353566521255620139988249628478726214432362853676502591450468377\n",
       "635282587652139156480972141929675549384375582600253168536356731379262475878049\n",
       "445944183429172756988376226261846365452743497662411138451305481449836311789784\n",
       "489732076719508784158618879692955819733250699951402601511675529750575437810242\n",
       "238957925786562128432731202200716730574069286869363930186765958251326499145950\n",
       "260917069347519408975357464016830811798846452473618956056479426358070562563281\n",
       "189269663026479535951097127659136233180866921535788607812759910537171402204506\n",
       "186075374866306350591483916467656723205714516886170790984695932236724946737583\n",
       "099607042589220481550799132752088583781117685214269334786921895240622657921043\n",
       "620348852926267984013953216458791151579050460579710838983371864038024417511347\n",
       "226472547010794793996953554669619726763255229914654933499663234185951450360980\n",
       "344092212206712567698723427940708857070474293173329188523896721971353924492426\n",
       "178641188637790962814486917869468177591717150669111480020759432012061969637795\n",
       "103227089029566085562225452602610460736131368869009281721068198618553780982018\n",
       "471154163630326265699283424155023600978046417108525537612728905335045506135684\n",
       "143775854429677977014660294387687225115363801191758154028120818255606485410787\n",
       "933598921064427244898618961629413418001295130683638609294100083136673372153008\n",
       "352696235737175330738653338204842190308186449184093723944033405244909554558016\n",
       "406460761581010301767488475017661908692946098769201691202181688291040870709560\n",
       "951470416921147027413390052253340834812870353031023919699978597413908593605433\n",
       "599697075604460134242453682496098772581311024732798562072126572499003468293886\n",
       "872304895562253204463602639854225258416464324271611419817802482595563544907219\n",
       "226583863662663750835944314877635156145710745528016159677048442714194435183275\n",
       "698407552677926411261765250615965235457187956673170913319358761628255920783080\n",
       "185206890151504713340386100310055914817852110384754542933389188444120517943969\n",
       "970194112695119526564919594189975418393234647424290702718875223534393673633663\n",
       "200307232747037407123982562024662651974090199762452056198557625760008708173083\n",
       "288344381831070054514493545885422678578551915372292379555494333410174420169600\n",
       "090696415612732297770221217951868376359082255128816470021992348864043959153018\n",
       "464004714321186360622527011541122283802778538911098490201342741014121559769965\n",
       "438877197485376431158229838533123071751132961904559007938064276695819014842627\n",
       "991221792947987348901868471676503827328552059082984529806259250352128451925927\n",
       "986593506132961946796252373972565584157853744567558998032405492186962888490332\n",
       "560851455344391660226257775512916200772796852629387937530454181080729285891989\n",
       "715381797343496187232927614747850192611450413274873242970583408471112333746274\n",
       "617274626582415324271059322506255302314738759251724787322881491455915605036334\n",
       "575424233779160374952502493022351481961381162563911415610326844958072508273431\n",
       "765944054098269765269344579863479709743124498271933113863873159636361218623497\n",
       "261409556079920628316999420072054811525353393946076850019909886553861433495781\n",
       "650089961649079678142901148387645682174914075623767618453775144031475411206760\n",
       "160726460556859257799322070337333398916369504346690694828436629980037414527627\n",
       "716547623825546170883189810868806847853705536480469350958818025360529740793538\n",
       "676511195079373282083146268960071075175520614433784114549950136432446328193346\n",
       "389050936545714506900864483440180428363390513578157273973334537284263372174065\n",
       "775771079830517555721036795976901889958494130195999573017901240193908681356585\n",
       "539661941371794487632079868800371607303220547423572266896801882123424391885984\n",
       "168972277652194032493227314793669234004848976059037958094696041754279613782553\n",
       "781223947646147832926976545162290281701100437846038756544151739433960048915318\n",
       "817576650500951697402415644771293656614253949368884230517400129920556854289853\n",
       "897942669956777027089146513736892206104415481662156804219838476730871787590279\n",
       "209175900695273456682026513373111518000181434120962601658629821076663523361774\n",
       "007837783423709152644063054071807843358061072961105550020415131696373046849213\n",
       "356837265400307509829089364612047891114753037049893952833457824082817386441322\n",
       "710002968311940203323456420826473276233830294639378998375836554559919340866235\n",
       "090967961134004867027123176526663710778725111860354037554487418693519733656621\n",
       "772359229396776463251562023487570113795712096237723431370212031004965152111976\n",
       "013176419408203437348512852602913334915125083119802850177855710725373149139215\n",
       "709105130965059885999931560863655477403551898166733535880048214665099741433761\n",
       "182777723351910741217572841592580872591315074606025634903777263373914461377038\n",
       "021318347447301113032670296917335047701632106616227830027269283365584011791419\n",
       "447808748253360714403296252285775009808599609040936312635621328162071453406104\n",
       "224112083010008587264252112262480142647519426184325853386753874054743491072710\n",
       "049754281159466017136122590440158991600229827801796035194080046513534752698777\n",
       "609527839984368086908989197839693532179980139135442552717910225397010810632143\n",
       "048511378291498511381969143043497500189980681644412123273328307192824362406733\n",
       "196554692677851193152775113446468905504248113361434984604849051258345683266441\n",
       "528489713972376040328212660253516693914082049947320486021627759791771234751097\n",
       "502403078935759937715095021751693555827072533911892334070223832077585802137174\n",
       "778378778391015234132098489423459613692340497998279304144463162707214796117456\n",
       "975719681239291913740982925805561955207434243295982898980529233366415419256367\n",
       "380689494201471241340525072204061794355252555225008748790086568314542835167750\n",
       "542294803274783044056438581591952666758282929705226127628711040134801787224801\n",
       "789684052407924360582742467443076721645270313451354167649668901274786801010295\n",
       "133862698649748212118629040337691568576240699296372493097201628707200189835423\n",
       "690364149270236961938547372480329855045112089192879829874467864129159417531675\n",
       "602533435310626745254507114181483239880607297140234725520713490798398982355268\n",
       "723950909365667878992383712578976248755990443228895388377317348941122757071410\n",
       "959790047919301046740750411435381782464630795989555638991884773781341347070246\n",
       "747362112048986226991888517456251732519341352038115863350123913054441910073628\n",
       "447567514161050410973505852762044489190978901984315485280533985777844313933883\n",
       "994310444465669244550885946314081751220331390681596592510546858013133838152176\n",
       "418210433429788826119630443111388796258746090226130900849975430395771243230616\n",
       "906262919403921439740270894777663702488155499322458825979020631257436910946393\n",
       "252806241642476868495455324938017639371615636847859823715902385421265840615367\n",
       "228607131702674740131145261063765383390315921943469817605358380310612887852051\n",
       "546933639241088467632009567089718367490578163085158138161966882222047570437590\n",
       "614338040725853862083565176998426774523195824182683698270160237414938363496629\n",
       "351576854061397342746470899685618170160551104880971554859118617189668025973541\n",
       "705423985135560018720335079060946421271143993196046527424050882225359773481519\n",
       "135438571253258540493946010865793798058620143366078825219717809025817370870916\n",
       "460452727977153509910340736425020386386718220522879694458387652947951048660717\n",
       "390229327455426785669776865939923416834122274663015062155320502655341460995249\n",
       "356050854921756549134830958906536175693817637473644183378974229700703545206663\n",
       "170929607591989627732423090252397443861014263098687733913882518684316501027964\n",
       "911497737582888913450341148865948670215492101084328080783428089417298008983297\n",
       "536940644969903125399863919581601468995220880662285408414864274786281975546629\n",
       "278814621607171381880180840572084715868906836919393381864278454537956719272397\n",
       "972364651667592011057995663962598535512763558768140213409829016296873429850792\n",
       "471846056874828331381259161962476156902875901072733103299140623864608333378638\n",
       "257926302391590003557609032477281338887339178096966601469615031754226751125993\n",
       "315529674213336300222964906480934582008181061802100227664580400278213336758573\n",
       "019011371754672763059044353131319036092489097246427928455549913490005180295707\n",
       "082919052556781889913899625138662319380053611346224294610248954072404857123256\n",
       "628888931722116432947816190554868054943441034090680716088028227959686950133643\n",
       "814268252170472870863010137301155236861416908375675747637239763185757038109443\n",
       "390564564468524183028148107998376918512127201935044041804604721626939445788377\n",
       "090105974693219720558114078775989772072009689382249303236830515862657281114637\n",
       "996983137517937623215111252349734305240622105244234353732905655163406669506165\n",
       "892878218707756794176080712973781335187117931650033155523822487730653444179453\n",
       "415395202424449703410120874072188109388268167512042299404948179449472732894770\n",
       "111574139441228455521828424922240658752689172272780607116754046973008037039618\n",
       "787796694882555614674384392570115829546661358678671897661297311267200072971553\n",
       "613027503556167817765442287442114729881614802705243806817653573275578602505847\n",
       "084013208837932816008769081300492491473682517035382219619039014999523495387105\n",
       "997351143478292339499187936608692301375596368532373806703591144243268561512109\n",
       "404259582639301678017128669239283231057658851714020211196957064799814031505633\n",
       "045141564414623163763809904402816256917576489142569714163598439317433270237812\n",
       "336938043012892626375382667795034169334323607500248175741808750388475094939454\n",
       "896209740485442635637164995949920980884294790363666297526003243856352945844728\n",
       "944547166209297495496616877414120882130477022816116456044007236351581149729739\n",
       "218966737382647204722642221242016560150284971306332795814302516013694825567014\n",
       "780935790889657134926158161346901806965089556310121218491805847922720691871696\n",
       "316330044858020102860657858591269974637661741463934159569539554203314628026518\n",
       "951167938074573315759846086173702687867602943677780500244673391332431669880354\n",
       "073232388281847501051641331189537036488422690270478052742490603492082954755054\n",
       "003457160184072574536938145531175354210726557835615499874447480427323457880061\n",
       "873149341566046352979779455075359304795687209316724536547208381685855606043801\n",
       "977030764246083489876101345709394877002946175792061952549255757109038525171488\n",
       "525265671045349813419803390641529876343695420256080277614421914318921393908834\n",
       "543131769685101840103844472348948869520981943531906506555354617335814045544837\n",
       "884752526253949665869992058417652780125341033896469818642430034146791380619028\n",
       "059607854888010789705516946215228773090104467462497979992627120951684779568482\n",
       "583341402266477210843362437593741610536734041954738964197895425335036301861400\n",
       "951534766961476255651873823292468547356935802896011536791787303553159378363082\n",
       "248615177770541577576561759358512016692943111138863582159667618830326104164651\n",
       "714846979385422621687161400122378213779774131268977266712992025922017408770076\n",
       "956283473932201088159356286281928563571893384958850603853158179760679479840878\n",
       "360975960149733420572704603521790605647603285569276273495182203236144112584182\n",
       "426247712012035776388895974318232827871314608053533574494297621796789034568169\n",
       "889553518504478325616380709476951699086247100019748809205009521943632378719764\n",
       "870339223811540363475488626845956159755193765410115014067001226927474393888589\n",
       "943859730245414801061235908036274585288493563251585384383242493252666087588908\n",
       "318700709100237377106576985056433928854337658342596750653715005333514489908293\n",
       "887737352051459333049626531415141386124437935885070944688045486975358170212908\n",
       "490787347806814366323322819415827345671356443171537967818058195852464840084032\n",
       "909981943781718177302317003989733050495387356116261023999433259780126893432605\n",
       "584710278764901070923443884634011735556865903585244919370181041626208504299258\n",
       "697435817098133894045934471937493877624232409852832762266604942385129709453245\n",
       "586252103600829286649724174919141988966129558076770979594795306013119159011773\n",
       "943104209049079424448868513086844493705909026006120649425744710353547657859242\n",
       "708130410618546219881830090634588187038755856274911587375421064667951346487586\n",
       "771543838018521348281915812462599335160198935595167968932852205824799421034512\n",
       "715877163345222995418839680448835529753361286837225935390079201666941339091168\n",
       "758803988828869216002373257361588207163516271332810518187602104852180675526648\n",
       "673908900907195138058626735124312215691637902277328705410842037841525683288718\n",
       "046987952513073266340278519059417338920358540395677035611329354482585628287610\n",
       "610698229721420961993509331312171187891078766872044548876089410174798647137882\n",
       "462153955933333275562009439580434537919782280590395959927436913793778664940964\n",
       "048777841748336432684026282932406260081908081804390914556351936856063045089142\n",
       "289645219987798849347477729132797266027658401667890136490508741142126861969862\n",
       "044126965282981087045479861559545338021201155646979976785738920186243599326777\n",
       "689454060508218838227909833627167124490026761178498264377033002081844590009717\n",
       "235204331994708242098771514449751017055643029542821819670009202515615844174205\n",
       "933658148134902693111517093872260026458630561325605792560927332265579346280805\n",
       "683443921373688405650434307396574061017779370141424615493070741360805442100295\n",
       "600095663588977899267630517718781943706761498217564186590116160865408635391513\n",
       "039201316805769034172596453692350806417446562351523929050409479953184074862151\n",
       "210561833854566176652606393713658802521666223576132201941701372664966073252010\n",
       "771947931265282763302413805164907174565964853748354669194523580315301969160480\n",
       "994606814904037819829732360930087135760798621425422096419004367905479049930078\n",
       "372421581954535418371129368658430553842717628035279128821129308351575656599944\n",
       "741788438381565148434229858704245592434693295232821803508333726283791830216591\n",
       "836181554217157448465778420134329982594566884558266171979012180849480332448787\n",
       "258183774805522268151011371745368417870280274452442905474518234674919564188551\n",
       "244421337783521423865979925988203287085109338386829906571994614906290257427686\n",
       "038850511032638544540419184958866538545040571323629681069146814847869659166861\n",
       "842756798460041868762298055562963045953227923051616721591968675849523635298935\n",
       "788507746081537321454642984792310511676357749494622952569497660359473962430995\n",
       "343310404994209677883827002714478494069037073249106444151696053256560586778757\n",
       "417472110827435774315194060757983563629143326397812218946287447798119807225646\n",
       "714664054850131009656786314880090303749338875364183165134982546694673316118123\n",
       "364854397649325026179549357204305402182974871251107404011611405899911093062492\n",
       "312813116340549262571356721818628932786138833718028535056503591952741400869510\n",
       "926167541476792668032109237467087213606278332922386413619594121339278036118276\n",
       "324106004740971111048140003623342714514483334641675466354699731494756643423659\n",
       "493496845884551524150756376605086632827424794136062876041290644913828519456402\n",
       "643153225858624043141838669590633245063000392213192647625962691510904457695301\n",
       "444054618037857503036686212462278639752746667870121003392984873375014475600322\n",
       "100622358029343774955032037012738468163061026570300872275462966796880890587127\n",
       "676361066225722352229739206443093524327228100859973095132528630601105497915644\n",
       "791845004618046762408928925680912930592960642357021061524646205023248966593987\n",
       "324933967376952023991760898474571843531936646529125848064480196520162838795189\n",
       "499336759241485626136995945307287254532463291529110128763770605570609531377527\n",
       "751867923292134955245133089867969165129073841302167573238637575820080363575728\n",
       "002754490327953079900799442541108725693188014667935595834676432868876966610097\n",
       "395749967836593397846346959948950610490383647409504695226063858046758073069912\n",
       "290474089879166872117147527644711604401952718169508289733537148530928937046384\n",
       "420893299771125856840846608339934045689026787516008775461267988015465856522061\n",
       "210953490796707365539702576199431376639960606061106406959330828171876426043573\n",
       "425361756943784848495250108266488395159700490598380812105221111091943323951136\n",
       "051446459834210799058082093716464523127704023160072138543723461267260997870385\n",
       "657091998507595634613248460188409850194287687902268734556500519121546544063829\n",
       "253851276317663922050938345204300773017029940362615434001322763910912988327863\n",
       "920412300445551684054889809080779174636092439334912641164240093880746356607262\n",
       "336695842764583698268734815881961058571835767462009650526065929263548291499045\n",
       "768307210893245857073701660717398194485028842603963660746031184786225831056580\n",
       "870870305567595861341700745402965687634774176431051751036732869245558582082372\n",
       "038601781739405175130437994868822320044378043103170921034261674998000073016094\n",
       "814586374488778522273076330495383944345382770608760763542098445008306247630253\n",
       "572781032783461766970544287155315340016497076657195985041748199087201490875686\n",
       "037783591994719343352772947285537925787684832301101859365800717291186967617655\n",
       "053775030293033830706448912811412025506150896411007623824574488655182581058140\n",
       "345320124754723269087547507078577659732542844459353044992070014538748948226556\n",
       "442223696365544194225441338212225477497535494624827680533336983284156138692363\n",
       "443358553868471111430498248398991803165458638289353799130535222833430137953372\n",
       "954016257623228081138499491876144141322933767106563492528814528239506209022357\n",
       "876684650116660097382753660405446941653422239052108314585847035529352219928272\n",
       "760574821266065291385530345549744551470344939486863429459658431024190785923680\n",
       "224560763936784166270518555178702904073557304620639692453307795782245949710420\n",
       "188043000183881429008173039450507342787013124466860092778581811040911511729374\n",
       "873627887874907465285565434748886831064110051023020875107768918781525622735251\n",
       "550379532444857787277617001964853703555167655209119339343762866284619844026295\n",
       "252183678522367475108809781507098978413086245881522660963551401874495836926917\n",
       "799047120726494905737264286005211403581231076006699518536124862746756375896225\n",
       "299116496066876508261734178484789337295056739007878617925351440621045366250640\n",
       "463728815698232317500596261080921955211150859302955654967538862612972339914628\n",
       "358476048627627027309739202001432248707582337354915246085608210328882974183906\n",
       "478869923273691360048837436615223517058437705545210815513361262142911815615301\n",
       "758882573594892507108879262128641392443309383797333867806131795237315266773820\n",
       "858024701433527009243803266951742119507670884326346442749127558907746863582162\n",
       "166042741315170212458586056233631493164646913946562497471741958354218607748711\n",
       "057338458433689939645913740603382159352243594751626239188685307822821763983237\n",
       "306180204246560477527943104796189724299533029792497481684052893791044947004590\n",
       "864991872727345413508101983881864673609392571930511968645601855782450218231065\n",
       "889437986522432050677379966196955472440585922417953006820451795370043472451762\n",
       "893566770508490213107736625751697335527462302943031203596260953423574397249659\n",
       "211010657817826108745318874803187430823573699195156340957162700992444929749105\n",
       "489851519658664740148225106335367949737142510229341882585117371994499115097583\n",
       "746130105505064197721531929354875371191630262030328588658528480193509225875775\n",
       "597425276584011721342323648084027143356367542046375182552524944329657043861387\n",
       "865901965738802868401894087672816714137033661732650120578653915780703088714261\n",
       "519075001492576112927675193096728453971160213606303090542243966320674323582797\n",
       "889332324405779199278484633339777737655901870574806828678347965624146102899508\n",
       "487399692970750432753029972872297327934442988646412725348160603779707298299173\n",
       "029296308695801996312413304939350493325412355071054461182591141116454534710329\n",
       "881047844067780138077131465400099386306481266614330858206811395838319169545558\n",
       "259426895769841428893743467084107946318932539106963955780706021245974898293564\n",
       "613560788983472419979478564362042094613412387613198865352358312996862268948608\n",
       "408456655606876954501274486631405054735351746873009806322780468912246821460806\n",
       "727627708402402266155485024008952891657117617439020337584877842911289623247059\n",
       "191874691042005848326140677333751027195653994697162517248312230633919328707983\n",
       "800748485726516123434933273356664473358556430235280883924348278760886164943289\n",
       "399166399210488307847777048045728491456303353265070029588906265915498509407972\n",
       "767567129795010098229476228961891591441520032283878773485130979081019129267227\n",
       "103778898053964156362364169154985768408398468861684375407065121039062506128107\n",
       "663799047908879674778069738473170475253442156390387201238806323688037017949308\n",
       "954900776331523063548374256816653361606641980030188287123767481898330246836371\n",
       "488309259283375902278942588060087286038859168849730693948020511221766359138251\n",
       "524278670094406942355120201568377778851824670025651708509249623747726813694284\n",
       "350062938814429987905301056217375459182679973217735029368928065210025396268807\n",
       "498092643458011655715886700443503976505323478287327368840863540002740676783821\n",
       "963522226539290939807367391364082898722017776747168118195856133721583119054682\n",
       "936083236976113450281757830202934845982925000895682630271263295866292147653142\n",
       "233351793093387951357095346377183684092444422096319331295620305575517340067973\n",
       "740614162107923633423805646850092037167152642556371853889571416419772387422610\n",
       "596667396997173168169415435095283193556417705668622215217991151355639707143312\n",
       "893657553844648326201206424338016955862698561022460646069330793847858814367407\n",
       "000599769703649019273328826135329363112403650698652160638987250267238087403396\n",
       "744397830258296894256896741864336134979475245526291426522842419243083388103580\n",
       "053787023999542172113686550275341362211693140694669513186928102574795985605145\n",
       "005021715913317751609957865551981886193211282110709442287240442481153406055895\n",
       "958355815232012184605820563592699303478851132068626627588771446035996656108430\n",
       "725696500563064489187599466596772847171539573612108180841547273142661748933134\n",
       "174632662354222072600146012701206934639520564445543291662986660783089068118790\n",
       "090815295063626782075614388815781351134695366303878412092346942868730839320432\n",
       "333872775496805210302821544324723388845215343727250128589747691460808314404125\n",
       "868181540049187772287869801853454537006526655649170915429522756709222217474112\n",
       "062720656622989806032891672068743654948246108697367225547404812889242471854323\n",
       "605753411672850757552057131156697954584887398742228135887985840783135060548290\n",
       "551482785294891121905383195624228719484759407859398047901094194070671764439032\n",
       "730712135887385049993638838205501683402777496070276844880281912220636888636811\n",
       "043569529300652195528261526991271637277388418993287130563464688227398288763198\n",
       "645709836308917786487086676185485680047672552675414742851028145807403152992197\n",
       "814557756843681110185317498167016426647884090262682824448258027532094549915104\n",
       "518517716546311804904567985713257528117913656278158111288816562285876030875974\n",
       "963849435275676612168959261485030785362045274507752950631012480341804584059432\n",
       "926079854435620093708091821523920371790678121992280496069738238743312626730306\n",
       "795943960954957189577217915597300588693646845576676092450906088202212235719254\n",
       "536715191834872587423919410890444115959932760044506556206461164655665487594247\n",
       "369252336955993030355095817626176231849561906494839673002037763874369343999829\n",
       "430209147073618947932692762445186560239559053705128978163455423320114975994896\n",
       "278424327483788032701418676952621180975006405149755889650293004867605208010491\n",
       "537885413909424531691719987628941277221129464568294860281493181560249677887949\n",
       "813777216229359437811004448060797672429276249510784153446429150842764520002042\n",
       "769470698041775832209097020291657347251582904630910359037842977572651720877244\n",
       "740952267166306005469716387943171196873484688738186656751279298575016363411314\n",
       "627530499019135646823804329970695770150789337728658035712790913767420805655493\n",
       "62465"
      ]
     },
     "execution_count": 303,
     "metadata": {},
     "output_type": "execute_result"
    }
   ],
   "source": [
    "N(𝜋,100000) #找PI 小數點下十萬位"
   ]
  },
  {
   "cell_type": "code",
   "execution_count": 309,
   "metadata": {},
   "outputs": [],
   "source": [
    "pistring = str(N(𝜋,100000))  "
   ]
  },
  {
   "cell_type": "code",
   "execution_count": 308,
   "metadata": {},
   "outputs": [
    {
     "data": {
      "text/plain": [
       "True"
      ]
     },
     "execution_count": 308,
     "metadata": {},
     "output_type": "execute_result"
    }
   ],
   "source": [
    "'0204' in pistring #找0204這個數字有沒有在我們剛剛的那群資料中"
   ]
  },
  {
   "cell_type": "code",
   "execution_count": 306,
   "metadata": {},
   "outputs": [
    {
     "data": {
      "image/png": "[encoded data removed]",
      "text/latex": [
       "$$28185$$"
      ],
      "text/plain": [
       "28185"
      ]
     },
     "execution_count": 306,
     "metadata": {},
     "output_type": "execute_result"
    }
   ],
   "source": [
    "pistring.find('0204') #在該資料中尋找他在哪個位置"
   ]
  },
  {
   "cell_type": "code",
   "execution_count": 310,
   "metadata": {},
   "outputs": [
    {
     "data": {
      "text/plain": [
       "'0204'"
      ]
     },
     "execution_count": 310,
     "metadata": {},
     "output_type": "execute_result"
    }
   ],
   "source": [
    "pistring[28185:28189] #他的確在那邊 "
   ]
  },
  {
   "cell_type": "markdown",
   "metadata": {},
   "source": [
    "## 質數"
   ]
  },
  {
   "cell_type": "code",
   "execution_count": 311,
   "metadata": {},
   "outputs": [],
   "source": [
    "a= 9487 "
   ]
  },
  {
   "cell_type": "code",
   "execution_count": 312,
   "metadata": {},
   "outputs": [
    {
     "data": {
      "text/plain": [
       "False"
      ]
     },
     "execution_count": 312,
     "metadata": {},
     "output_type": "execute_result"
    }
   ],
   "source": [
    "sym.isprime(a) #看看是不是質數"
   ]
  },
  {
   "cell_type": "code",
   "execution_count": 313,
   "metadata": {},
   "outputs": [
    {
     "data": {
      "image/png": "[encoded data removed]",
      "text/latex": [
       "$$\\left \\{ 53 : 1, \\quad 179 : 1\\right \\}$$"
      ],
      "text/plain": [
       "{53: 1, 179: 1}"
      ]
     },
     "execution_count": 313,
     "metadata": {},
     "output_type": "execute_result"
    }
   ],
   "source": [
    "sym.factorint(a) #表示 53*179 =9487"
   ]
  },
  {
   "cell_type": "code",
   "execution_count": 314,
   "metadata": {},
   "outputs": [
    {
     "data": {
      "image/png": "[encoded data removed]",
      "text/latex": [
       "$$449$$"
      ],
      "text/plain": [
       "449"
      ]
     },
     "execution_count": 314,
     "metadata": {},
     "output_type": "execute_result"
    }
   ],
   "source": [
    "sym.prime(87) ###第87個質數"
   ]
  },
  {
   "cell_type": "code",
   "execution_count": 315,
   "metadata": {},
   "outputs": [
    {
     "data": {
      "image/png": "[encoded data removed]",
      "text/latex": [
       "$$457$$"
      ],
      "text/plain": [
       "457"
      ]
     },
     "execution_count": 315,
     "metadata": {},
     "output_type": "execute_result"
    }
   ],
   "source": [
    "sym.nextprime(449) ## 449最近的下一個質數是"
   ]
  },
  {
   "cell_type": "code",
   "execution_count": 319,
   "metadata": {},
   "outputs": [
    {
     "name": "stdout",
     "output_type": "stream",
     "text": [
      "3和5是孿生質數\n",
      "5和7是孿生質數\n",
      "11和13是孿生質數\n",
      "17和19是孿生質數\n",
      "29和31是孿生質數\n",
      "41和43是孿生質數\n",
      "59和61是孿生質數\n",
      "71和73是孿生質數\n",
      "101和103是孿生質數\n",
      "107和109是孿生質數\n",
      "137和139是孿生質數\n",
      "149和151是孿生質數\n",
      "179和181是孿生質數\n",
      "191和193是孿生質數\n",
      "197和199是孿生質數\n",
      "227和229是孿生質數\n"
     ]
    }
   ],
   "source": [
    "for i in range (2, 50):\n",
    "    a=sym.prime(i)\n",
    "    b=sym.prime(i+1)\n",
    "    if b-a ==2:\n",
    "        print(f'{a}和{b}是孿生質數')"
   ]
  },
  {
   "cell_type": "markdown",
   "metadata": {},
   "source": [
    "### Sympy 矩陣"
   ]
  },
  {
   "cell_type": "code",
   "execution_count": 148,
   "metadata": {},
   "outputs": [],
   "source": [
    "A = sym.Matrix ([[0,1,3],[2,1,4],[2,-3,-3]])"
   ]
  },
  {
   "cell_type": "code",
   "execution_count": 149,
   "metadata": {},
   "outputs": [
    {
     "data": {
      "image/png": "[encoded data removed]",
      "text/latex": [
       "$$-10$$"
      ],
      "text/plain": [
       "-10"
      ]
     },
     "execution_count": 149,
     "metadata": {},
     "output_type": "execute_result"
    }
   ],
   "source": [
    "A.det()"
   ]
  },
  {
   "cell_type": "code",
   "execution_count": 150,
   "metadata": {},
   "outputs": [
    {
     "data": {
      "text/latex": [
       "$$\\left[\\begin{matrix}- \\frac{9}{10} & \\frac{3}{5} & - \\frac{1}{10}\\\\- \\frac{7}{5} & \\frac{3}{5} & - \\frac{3}{5}\\\\\\frac{4}{5} & - \\frac{1}{5} & \\frac{1}{5}\\end{matrix}\\right]$$"
      ],
      "text/plain": [
       "⎡-9/10  3/5   -1/10⎤\n",
       "⎢                  ⎥\n",
       "⎢-7/5   3/5   -3/5 ⎥\n",
       "⎢                  ⎥\n",
       "⎣ 4/5   -1/5   1/5 ⎦"
      ]
     },
     "execution_count": 150,
     "metadata": {},
     "output_type": "execute_result"
    }
   ],
   "source": [
    "A.inv()"
   ]
  },
  {
   "cell_type": "markdown",
   "metadata": {},
   "source": [
    "### 設定Sympy 變數\n"
   ]
  },
  {
   "cell_type": "markdown",
   "metadata": {},
   "source": [
    "### 第一式"
   ]
  },
  {
   "cell_type": "code",
   "execution_count": 327,
   "metadata": {},
   "outputs": [],
   "source": [
    "x= sym.Symbol('x') #需要打這個才會變成方程式的形式"
   ]
  },
  {
   "cell_type": "code",
   "execution_count": 337,
   "metadata": {},
   "outputs": [
    {
     "data": {
      "image/png": "[encoded data removed]",
      "text/latex": [
       "$$x^{2} - 3 x + 2$$"
      ],
      "text/plain": [
       " 2          \n",
       "x  - 3⋅x + 2"
      ]
     },
     "execution_count": 337,
     "metadata": {},
     "output_type": "execute_result"
    }
   ],
   "source": [
    "f=x**2-3*x+2\n",
    "f"
   ]
  },
  {
   "cell_type": "markdown",
   "metadata": {},
   "source": [
    "$ f=x^2-3x+2 $"
   ]
  },
  {
   "cell_type": "code",
   "execution_count": 330,
   "metadata": {},
   "outputs": [
    {
     "data": {
      "image/png": "[encoded data removed]",
      "text/latex": [
       "$$2 x - 3$$"
      ],
      "text/plain": [
       "2⋅x - 3"
      ]
     },
     "execution_count": 330,
     "metadata": {},
     "output_type": "execute_result"
    }
   ],
   "source": [
    "sym.diff(f,x)"
   ]
  },
  {
   "cell_type": "code",
   "execution_count": 331,
   "metadata": {},
   "outputs": [
    {
     "data": {
      "image/png": "[encoded data removed]",
      "text/latex": [
       "$$\\frac{x^{3}}{3} - \\frac{3 x^{2}}{2} + 2 x$$"
      ],
      "text/plain": [
       " 3      2      \n",
       "x    3⋅x       \n",
       "── - ──── + 2⋅x\n",
       "3     2        "
      ]
     },
     "execution_count": 331,
     "metadata": {},
     "output_type": "execute_result"
    }
   ],
   "source": [
    "sym.integrate(f,x)"
   ]
  },
  {
   "cell_type": "code",
   "execution_count": 332,
   "metadata": {},
   "outputs": [],
   "source": [
    "g=3**2+5"
   ]
  },
  {
   "cell_type": "code",
   "execution_count": 333,
   "metadata": {},
   "outputs": [
    {
     "data": {
      "image/png": "[encoded data removed]",
      "text/latex": [
       "$$x^{2} - 3 x + 16$$"
      ],
      "text/plain": [
       " 2           \n",
       "x  - 3⋅x + 16"
      ]
     },
     "execution_count": 333,
     "metadata": {},
     "output_type": "execute_result"
    }
   ],
   "source": [
    "f+g"
   ]
  },
  {
   "cell_type": "code",
   "execution_count": 334,
   "metadata": {},
   "outputs": [
    {
     "data": {
      "image/png": "[encoded data removed]",
      "text/latex": [
       "$$14 x^{2} - 42 x + 28$$"
      ],
      "text/plain": [
       "    2            \n",
       "14⋅x  - 42⋅x + 28"
      ]
     },
     "execution_count": 334,
     "metadata": {},
     "output_type": "execute_result"
    }
   ],
   "source": [
    "f*g"
   ]
  },
  {
   "cell_type": "markdown",
   "metadata": {},
   "source": [
    "### 第二式"
   ]
  },
  {
   "cell_type": "code",
   "execution_count": 339,
   "metadata": {},
   "outputs": [],
   "source": [
    "from sympy.abc import  x,y,z"
   ]
  },
  {
   "cell_type": "code",
   "execution_count": 340,
   "metadata": {},
   "outputs": [],
   "source": [
    "f =sym.atan(x) "
   ]
  },
  {
   "cell_type": "code",
   "execution_count": 341,
   "metadata": {},
   "outputs": [
    {
     "data": {
      "image/png": "[encoded data removed]",
      "text/latex": [
       "$$\\frac{1}{x^{2} + 1}$$"
      ],
      "text/plain": [
       "  1   \n",
       "──────\n",
       " 2    \n",
       "x  + 1"
      ]
     },
     "execution_count": 341,
     "metadata": {},
     "output_type": "execute_result"
    }
   ],
   "source": [
    "sym.diff (f,x)"
   ]
  },
  {
   "cell_type": "code",
   "execution_count": 178,
   "metadata": {},
   "outputs": [
    {
     "data": {
      "image/png": "[encoded data removed]",
      "text/latex": [
       "$$x \\operatorname{atan}{\\left (x \\right )} - \\frac{\\log{\\left (x^{2} + 1 \\right )}}{2}$$"
      ],
      "text/plain": [
       "               ⎛ 2    ⎞\n",
       "            log⎝x  + 1⎠\n",
       "x⋅atan(x) - ───────────\n",
       "                 2     "
      ]
     },
     "execution_count": 178,
     "metadata": {},
     "output_type": "execute_result"
    }
   ],
   "source": [
    "sym.integrate(f,x)"
   ]
  },
  {
   "cell_type": "code",
   "execution_count": 179,
   "metadata": {},
   "outputs": [
    {
     "data": {
      "image/png": "[encoded data removed]",
      "text/latex": [
       "$$- \\frac{\\log{\\left (2 \\right )}}{2} + \\frac{\\pi}{4}$$"
      ],
      "text/plain": [
       "  log(2)   π\n",
       "- ────── + ─\n",
       "    2      4"
      ]
     },
     "execution_count": 179,
     "metadata": {},
     "output_type": "execute_result"
    }
   ],
   "source": [
    "sym.integrate(f,(x,0,1))"
   ]
  },
  {
   "cell_type": "markdown",
   "metadata": {},
   "source": [
    "## 助教課"
   ]
  },
  {
   "cell_type": "code",
   "execution_count": 184,
   "metadata": {},
   "outputs": [],
   "source": [
    "%matplotlib inline\n",
    "\n",
    "import numpy as np\n",
    "import matplotlib.pyplot as plt\n",
    "import pandas as pd"
   ]
  },
  {
   "cell_type": "code",
   "execution_count": 185,
   "metadata": {},
   "outputs": [],
   "source": [
    "x= np.linspace(0,10,100)\n",
    "y1= np.sin(x)\n",
    "y2= np.cos(x)"
   ]
  },
  {
   "cell_type": "code",
   "execution_count": 187,
   "metadata": {},
   "outputs": [
    {
     "ename": "AttributeError",
     "evalue": "module 'matplotlib.pyplot' has no attribute 'legand'",
     "output_type": "error",
     "traceback": [
      "\u001b[0;31m---------------------------------------------------------------------------\u001b[0m",
      "\u001b[0;31mAttributeError\u001b[0m                            Traceback (most recent call last)",
      "\u001b[0;32m<ipython-input-187-df0b1cda78f3>\u001b[0m in \u001b[0;36m<module>\u001b[0;34m\u001b[0m\n\u001b[1;32m      4\u001b[0m \u001b[0mplt\u001b[0m\u001b[0;34m.\u001b[0m\u001b[0mplot\u001b[0m\u001b[0;34m(\u001b[0m\u001b[0mx\u001b[0m\u001b[0;34m,\u001b[0m \u001b[0my1\u001b[0m \u001b[0;34m,\u001b[0m\u001b[0mlabel\u001b[0m\u001b[0;34m=\u001b[0m\u001b[0;34m'sin(x)'\u001b[0m\u001b[0;34m)\u001b[0m \u001b[0;31m# y1 name sin\u001b[0m\u001b[0;34m\u001b[0m\u001b[0;34m\u001b[0m\u001b[0m\n\u001b[1;32m      5\u001b[0m \u001b[0mplt\u001b[0m\u001b[0;34m.\u001b[0m\u001b[0mplot\u001b[0m\u001b[0;34m(\u001b[0m\u001b[0mx\u001b[0m\u001b[0;34m,\u001b[0m \u001b[0my2\u001b[0m \u001b[0;34m,\u001b[0m\u001b[0mlabel\u001b[0m\u001b[0;34m=\u001b[0m\u001b[0;34m'cos(x)'\u001b[0m\u001b[0;34m)\u001b[0m \u001b[0;31m# y2 name cos\u001b[0m\u001b[0;34m\u001b[0m\u001b[0;34m\u001b[0m\u001b[0m\n\u001b[0;32m----> 6\u001b[0;31m \u001b[0mplt\u001b[0m\u001b[0;34m.\u001b[0m\u001b[0mlegand\u001b[0m\u001b[0;34m(\u001b[0m\u001b[0;34m'lower left'\u001b[0m\u001b[0;34m)\u001b[0m \u001b[0;31m# 圖標在左下角\u001b[0m\u001b[0;34m\u001b[0m\u001b[0;34m\u001b[0m\u001b[0m\n\u001b[0m\u001b[1;32m      7\u001b[0m \u001b[0mplt\u001b[0m\u001b[0;34m.\u001b[0m\u001b[0mxlabel\u001b[0m\u001b[0;34m(\u001b[0m\u001b[0;34m\"X Axis\"\u001b[0m\u001b[0;34m)\u001b[0m \u001b[0;31m# xaxis name x axis\u001b[0m\u001b[0;34m\u001b[0m\u001b[0;34m\u001b[0m\u001b[0m\n\u001b[1;32m      8\u001b[0m \u001b[0mplt\u001b[0m\u001b[0;34m.\u001b[0m\u001b[0mylabel\u001b[0m\u001b[0;34m(\u001b[0m\u001b[0;34m\"Y Axis\"\u001b[0m\u001b[0;34m)\u001b[0m \u001b[0;31m# yaxis name y axis\u001b[0m\u001b[0;34m\u001b[0m\u001b[0;34m\u001b[0m\u001b[0m\n",
      "\u001b[0;31mAttributeError\u001b[0m: module 'matplotlib.pyplot' has no attribute 'legand'"
     ]
    },
    {
     "data": {
      "image/png": "[encoded data removed]",
      "text/plain": [
       "<Figure size 432x432 with 1 Axes>"
      ]
     },
     "metadata": {},
     "output_type": "display_data"
    }
   ],
   "source": [
    "plt.figure(figsize=(6,6))#設定圖大小\n",
    "plt.xkcd() #設定風格\n",
    "\n",
    "plt.plot(x, y1 ,label='sin(x)') # y1 name sin\n",
    "plt.plot(x, y2 ,label='cos(x)') # y2 name cos\n",
    "plt.legand('lower left') # 圖標在左下角\n",
    "plt.xlabel(\"X Axis\") # xaxis name x axis\n",
    "plt.ylabel(\"Y Axis\") # yaxis name y axis\n",
    "\n",
    "plt.xlim(0,10) #X range\n",
    "plt.ylim(-1,1) #Y range\n",
    "\n",
    "plt.xticks(np.arange(0,10,1)) #x分成10 個parts\n",
    "plt.yticks(np.arange(0,10,1))#y分成10 個parts\n",
    "\n",
    "plt.title('Sin and Cos ')"
   ]
  },
  {
   "cell_type": "code",
   "execution_count": null,
   "metadata": {},
   "outputs": [],
   "source": []
  },
  {
   "cell_type": "markdown",
   "metadata": {},
   "source": [
    "# ZIP and UNZIP"
   ]
  },
  {
   "cell_type": "code",
   "execution_count": 190,
   "metadata": {},
   "outputs": [],
   "source": [
    "keys = ['k','f','c']\n",
    "values = [77,88,99]"
   ]
  },
  {
   "cell_type": "code",
   "execution_count": 192,
   "metadata": {},
   "outputs": [
    {
     "data": {
      "text/plain": [
       "[('k', 77), ('f', 88), ('c', 99)]"
      ]
     },
     "execution_count": 192,
     "metadata": {},
     "output_type": "execute_result"
    }
   ],
   "source": [
    "zipped =  list(zip(keys,values))\n",
    "zipped"
   ]
  },
  {
   "cell_type": "code",
   "execution_count": 193,
   "metadata": {},
   "outputs": [],
   "source": [
    "values2 = [ 7,8,9]"
   ]
  },
  {
   "cell_type": "code",
   "execution_count": 195,
   "metadata": {},
   "outputs": [
    {
     "data": {
      "text/plain": [
       "[('k', 77, 7), ('f', 88, 8), ('c', 99, 9)]"
      ]
     },
     "execution_count": 195,
     "metadata": {},
     "output_type": "execute_result"
    }
   ],
   "source": [
    "zipped2 = list(zip(keys,values,values2)) #list 是有排序的\n",
    "zipped2"
   ]
  },
  {
   "cell_type": "code",
   "execution_count": 197,
   "metadata": {},
   "outputs": [
    {
     "data": {
      "text/plain": [
       "{'k': 77, 'f': 88, 'c': 99}"
      ]
     },
     "execution_count": 197,
     "metadata": {},
     "output_type": "execute_result"
    }
   ],
   "source": [
    "dic = dict(zip(keys, values)) #做成字典 所以就沒有排序\n",
    "dic"
   ]
  },
  {
   "cell_type": "code",
   "execution_count": 198,
   "metadata": {},
   "outputs": [
    {
     "name": "stdout",
     "output_type": "stream",
     "text": [
      "('k', 'f', 'c')\n",
      "(77, 88, 99)\n"
     ]
    }
   ],
   "source": [
    "u,v = zip(*zipped)\n",
    "print(u)\n",
    "print(v) #zip 不用用unzip 直接在zip 一次轉回來就行"
   ]
  },
  {
   "cell_type": "markdown",
   "metadata": {},
   "source": [
    "### Variable Length Function Arguments \n"
   ]
  },
  {
   "cell_type": "code",
   "execution_count": 199,
   "metadata": {},
   "outputs": [],
   "source": [
    "def f(x):\n",
    "    print(x)"
   ]
  },
  {
   "cell_type": "code",
   "execution_count": 200,
   "metadata": {},
   "outputs": [
    {
     "name": "stdout",
     "output_type": "stream",
     "text": [
      "Hello\n"
     ]
    }
   ],
   "source": [
    "f('Hello') #內部只能打一個東西 "
   ]
  },
  {
   "cell_type": "code",
   "execution_count": 201,
   "metadata": {},
   "outputs": [],
   "source": [
    "def ARGV(*argv):\n",
    "     for i in argv:  ##這是print list 的方法\n",
    "            print(i)"
   ]
  },
  {
   "cell_type": "code",
   "execution_count": 203,
   "metadata": {},
   "outputs": [
    {
     "name": "stdout",
     "output_type": "stream",
     "text": [
      "Hely\n",
      "Bitch\n",
      "suck\n",
      "my\n",
      "dick\n"
     ]
    }
   ],
   "source": [
    "ARGV(\"Hey\",\"Bitch\",\"suck\",'my','dick')"
   ]
  },
  {
   "cell_type": "code",
   "execution_count": 223,
   "metadata": {},
   "outputs": [],
   "source": [
    "def ARGV1(arg1,*argv):\n",
    "    print(arg1)\n",
    "    \n",
    "    print(\" \")\n",
    "    for i in argv:  ##這是print list 的方法\n",
    "            print(i)"
   ]
  },
  {
   "cell_type": "code",
   "execution_count": 224,
   "metadata": {},
   "outputs": [
    {
     "name": "stdout",
     "output_type": "stream",
     "text": [
      "Hey\n",
      " \n",
      "Bitch\n",
      "suck\n",
      "my\n",
      "dick\n"
     ]
    }
   ],
   "source": [
    "ARGV1(\"Hey\",\"Bitch\",\"suck\",'my','dick')"
   ]
  },
  {
   "cell_type": "code",
   "execution_count": 342,
   "metadata": {},
   "outputs": [],
   "source": [
    "def ARGV2(*argv,arg1):\n",
    "    print(arg1)\n",
    "    \n",
    "    print(\" \")\n",
    "    for i in argv:  ##這是print list 的方法\n",
    "            print(i) ##由於沒有arg1 他會把它看成整個list 所以要解決要在定義arg1 所以用上方的方法會好一點點"
   ]
  },
  {
   "cell_type": "code",
   "execution_count": 343,
   "metadata": {},
   "outputs": [
    {
     "name": "stdout",
     "output_type": "stream",
     "text": [
      "justkidding\n",
      " \n",
      "Hey\n",
      "Bitch\n",
      "suck\n",
      "my\n",
      "dick\n"
     ]
    }
   ],
   "source": [
    "ARGV2(\"Hey\",\"Bitch\",\"suck\",'my','dick',arg1='justkidding')"
   ]
  },
  {
   "cell_type": "markdown",
   "metadata": {},
   "source": [
    "## Variable Length Keyword Argument  (不太了解"
   ]
  },
  {
   "cell_type": "code",
   "execution_count": 344,
   "metadata": {},
   "outputs": [],
   "source": [
    "def KWARG(**kwargs):\n",
    "    for key,value in kwargs.items( ):\n",
    "        print(f'{key}=={value}')"
   ]
  },
  {
   "cell_type": "code",
   "execution_count": 345,
   "metadata": {},
   "outputs": [
    {
     "name": "stdout",
     "output_type": "stream",
     "text": [
      "frist==N\n",
      "second==T\n",
      "thrid==U\n",
      "foruth== !\n"
     ]
    }
   ],
   "source": [
    "KWARG(frist = \"N\",second=\"T\" ,thrid=\"U\", foruth=\" !\")"
   ]
  },
  {
   "cell_type": "code",
   "execution_count": 346,
   "metadata": {},
   "outputs": [],
   "source": [
    "def Four (arg1, arg2, arg3 ,arg4 ): \n",
    "    print(\"arg1 is \",arg1)\n",
    "    print(\"arg2 is \",arg2)\n",
    "    print(\"arg3 is \",arg3)\n",
    "    print(\"arg4 is \",arg4)"
   ]
  },
  {
   "cell_type": "code",
   "execution_count": 347,
   "metadata": {},
   "outputs": [],
   "source": [
    "args=(\"N\",\"T\",\"U\",\"G\")"
   ]
  },
  {
   "cell_type": "code",
   "execution_count": 348,
   "metadata": {},
   "outputs": [
    {
     "name": "stdout",
     "output_type": "stream",
     "text": [
      "arg1 is  N\n",
      "arg2 is  T\n",
      "arg3 is  U\n",
      "arg4 is  G\n"
     ]
    }
   ],
   "source": [
    "Four(*args) #這樣就可以知道第一個輸入的是Ｎ第二個Ｔ"
   ]
  },
  {
   "cell_type": "code",
   "execution_count": 242,
   "metadata": {},
   "outputs": [],
   "source": [
    "kwargs = {'arg2':'T','arg1':'N','arg4':'G','arg3':'U'}"
   ]
  },
  {
   "cell_type": "code",
   "execution_count": 243,
   "metadata": {},
   "outputs": [
    {
     "name": "stdout",
     "output_type": "stream",
     "text": [
      "arg1 is  N\n",
      "arg2 is  T\n",
      "arg3 is  U\n",
      "arg4 is  G\n"
     ]
    }
   ],
   "source": [
    "Four(**kwargs)"
   ]
  },
  {
   "cell_type": "markdown",
   "metadata": {},
   "source": [
    "## Enumerate\n",
    "適合用在輸入字典dict()"
   ]
  },
  {
   "cell_type": "code",
   "execution_count": 248,
   "metadata": {},
   "outputs": [],
   "source": [
    "mylist = ['N','T','U','P']"
   ]
  },
  {
   "cell_type": "code",
   "execution_count": 249,
   "metadata": {},
   "outputs": [
    {
     "data": {
      "text/plain": [
       "[(0, 'N'), (1, 'T'), (2, 'U'), (3, 'P')]"
      ]
     },
     "execution_count": 249,
     "metadata": {},
     "output_type": "execute_result"
    }
   ],
   "source": [
    "mylist2 =list(enumerate(mylist))\n",
    "mylist2"
   ]
  },
  {
   "cell_type": "code",
   "execution_count": 250,
   "metadata": {},
   "outputs": [
    {
     "data": {
      "text/plain": [
       "{0: 'N', 1: 'T', 2: 'U', 3: 'P'}"
      ]
     },
     "execution_count": 250,
     "metadata": {},
     "output_type": "execute_result"
    }
   ],
   "source": [
    "mylist3 = dict(enumerate(mylist))\n",
    "mylist3"
   ]
  },
  {
   "cell_type": "code",
   "execution_count": 253,
   "metadata": {},
   "outputs": [
    {
     "data": {
      "text/plain": [
       "[(7, 'N'), (8, 'T'), (9, 'U'), (10, 'P')]"
      ]
     },
     "execution_count": 253,
     "metadata": {},
     "output_type": "execute_result"
    }
   ],
   "source": [
    "mylist4 = list (enumerate(mylist, 7)) ##默認由7開始前面默認為0\n",
    "mylist4"
   ]
  },
  {
   "cell_type": "markdown",
   "metadata": {},
   "source": [
    "## map and lambda"
   ]
  },
  {
   "cell_type": "code",
   "execution_count": 254,
   "metadata": {},
   "outputs": [],
   "source": [
    "def square(x):\n",
    "    return x**2"
   ]
  },
  {
   "cell_type": "code",
   "execution_count": 255,
   "metadata": {},
   "outputs": [
    {
     "data": {
      "image/png": "[encoded data removed]",
      "text/latex": [
       "$$\\left [ 1, \\quad 4, \\quad 9, \\quad 16, \\quad 25\\right ]$$"
      ],
      "text/plain": [
       "[1, 4, 9, 16, 25]"
      ]
     },
     "execution_count": 255,
     "metadata": {},
     "output_type": "execute_result"
    }
   ],
   "source": [
    "list(map(square,[1,2,3,4,5])) "
   ]
  },
  {
   "cell_type": "code",
   "execution_count": 256,
   "metadata": {},
   "outputs": [
    {
     "data": {
      "image/png": "[encoded data removed]",
      "text/latex": [
       "$$\\left [ 1, \\quad 4, \\quad 9, \\quad 16, \\quad 25\\right ]$$"
      ],
      "text/plain": [
       "[1, 4, 9, 16, 25]"
      ]
     },
     "execution_count": 256,
     "metadata": {},
     "output_type": "execute_result"
    }
   ],
   "source": [
    "list(map(lambda x: x**2, [1,2,3,4,5]))##lambda 定義的只在該行有效"
   ]
  },
  {
   "cell_type": "code",
   "execution_count": null,
   "metadata": {},
   "outputs": [],
   "source": []
  }
 ],
 "metadata": {
  "kernelspec": {
   "display_name": "Python 3",
   "language": "python",
   "name": "python3"
  },
  "language_info": {
   "codemirror_mode": {
    "name": "ipython",
    "version": 3
   },
   "file_extension": ".py",
   "mimetype": "text/x-python",
   "name": "python",
   "nbconvert_exporter": "python",
   "pygments_lexer": "ipython3",
   "version": "3.7.1"
  }
 },
 "nbformat": 4,
 "nbformat_minor": 2
}
