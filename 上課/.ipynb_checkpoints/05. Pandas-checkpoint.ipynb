{
 "cells": [
  {
   "cell_type": "code",
   "execution_count": 1,
   "metadata": {},
   "outputs": [],
   "source": [
    "%matplotlib inline\n",
    "\n",
    "import numpy as np\n",
    "import matplotlib.pyplot as plt\n",
    "import pandas as pd"
   ]
  },
  {
   "cell_type": "markdown",
   "metadata": {},
   "source": [
    "## 插播: 在 `matplotlib` 中顯示中文\n",
    "\n",
    "這裡參考 Mosky 在, 比如說[這裡](https://github.com/moskytw/hypothesis-testing-with-python)的做法。\n",
    "\n",
    "如果明明有的字型, `matplotlib` 說找不到的話, 有可能需要讓 `matplotlib` 清掉原本的 cache。\n",
    "\n",
    "    !rm -rf {mpl.get_cachedir()}\n",
    "    matplotlib.font_manager._rebuild()"
   ]
  },
  {
   "cell_type": "code",
   "execution_count": 2,
   "metadata": {},
   "outputs": [],
   "source": [
    "import matplotlib as mpl"
   ]
  },
  {
   "cell_type": "markdown",
   "metadata": {},
   "source": [
    "使用 Google `Noto Sans CJK TC` 字型, 請到[這裡](https://www.google.com/get/noto/#sans-hant)下載。"
   ]
  },
  {
   "cell_type": "code",
   "execution_count": 3,
   "metadata": {},
   "outputs": [],
   "source": [
    "mpl.rc('font', family='Noto Sans CJK TC')"
   ]
  },
  {
   "cell_type": "markdown",
   "metadata": {},
   "source": [
    "如果你很好奇有什麼字型可以用...\n",
    "\n",
    "    [f.name for f in mpl.font_manager.fontManager.ttflist]"
   ]
  },
  {
   "cell_type": "code",
   "execution_count": 4,
   "metadata": {},
   "outputs": [
    {
     "data": {
      "text/plain": [
       "['STIXGeneral',\n",
       " 'DejaVu Sans',\n",
       " 'STIXNonUnicode',\n",
       " 'STIXSizeThreeSym',\n",
       " 'DejaVu Sans Mono',\n",
       " 'DejaVu Serif',\n",
       " 'STIXSizeFiveSym',\n",
       " 'DejaVu Sans Mono',\n",
       " 'STIXGeneral',\n",
       " 'DejaVu Sans',\n",
       " 'STIXSizeTwoSym',\n",
       " 'STIXSizeOneSym',\n",
       " 'cmsy10',\n",
       " 'cmmi10',\n",
       " 'STIXSizeOneSym',\n",
       " 'STIXGeneral',\n",
       " 'STIXSizeFourSym',\n",
       " 'DejaVu Serif Display',\n",
       " 'cmr10',\n",
       " 'cmex10',\n",
       " 'cmtt10',\n",
       " 'DejaVu Sans',\n",
       " 'STIXSizeFourSym',\n",
       " 'DejaVu Serif',\n",
       " 'STIXNonUnicode',\n",
       " 'DejaVu Sans Mono',\n",
       " 'cmb10',\n",
       " 'DejaVu Sans Mono',\n",
       " 'DejaVu Sans Display',\n",
       " 'STIXSizeTwoSym',\n",
       " 'DejaVu Serif',\n",
       " 'cmss10',\n",
       " 'DejaVu Serif',\n",
       " 'STIXNonUnicode',\n",
       " 'STIXSizeThreeSym',\n",
       " 'STIXGeneral',\n",
       " 'DejaVu Sans',\n",
       " 'STIXNonUnicode',\n",
       " 'STIXNonUnicode',\n",
       " 'Noto Serif CJK TC',\n",
       " 'Noto Sans CJK TC',\n",
       " 'System Font',\n",
       " 'Trebuchet MS',\n",
       " '.SF NS Display Condensed',\n",
       " 'STIXSizeThreeSym',\n",
       " '.SF NS Rounded',\n",
       " 'System Font',\n",
       " 'Noto Sans Mono CJK JP',\n",
       " 'System Font',\n",
       " 'Apple Braille',\n",
       " 'Noto Sans CJK TC',\n",
       " 'STIXNonUnicode',\n",
       " 'DIN Alternate',\n",
       " 'Bitstream Vera Sans Mono',\n",
       " 'Verdana',\n",
       " 'Noto Serif CJK JP',\n",
       " 'Noto Sans CJK KR',\n",
       " 'Estrangelo Nisibin Outline',\n",
       " '.SF Compact Text',\n",
       " 'Times New Roman',\n",
       " 'Bitstream Vera Sans',\n",
       " 'Bitstream Vera Sans Mono',\n",
       " 'Luxi Serif',\n",
       " '.Keyboard',\n",
       " '.SF NS Text Condensed',\n",
       " 'Noto Serif CJK KR',\n",
       " '.SF Compact Display',\n",
       " 'Arial Narrow',\n",
       " 'Luxi Mono',\n",
       " '.SF NS Text Condensed',\n",
       " 'Times New Roman',\n",
       " '.SF Compact Display',\n",
       " '.SF NS Symbols',\n",
       " 'jf-jinxuan',\n",
       " 'Noto Serif CJK TC',\n",
       " 'Skia',\n",
       " 'Big Caslon',\n",
       " '.SF NS Rounded',\n",
       " 'Luxi Sans',\n",
       " 'Serto Mardin',\n",
       " '.SF Compact Text',\n",
       " '.LastResort',\n",
       " 'Serto Mardin',\n",
       " 'Bitstream Vera Sans',\n",
       " 'Trebuchet MS',\n",
       " 'Times New Roman',\n",
       " 'Serto Jerusalem Outline',\n",
       " 'Estrangelo Nisibin',\n",
       " 'Estrangelo Midyat',\n",
       " '.SF NS Symbols',\n",
       " 'Noto Serif CJK JP',\n",
       " 'Noto Serif CJK KR',\n",
       " 'Estrangelo TurAbdin',\n",
       " 'Georgia',\n",
       " 'STIXIntegralsSm',\n",
       " '.SF Compact Text',\n",
       " 'jf-jinxuan',\n",
       " 'Noto Serif CJK KR',\n",
       " 'STIXIntegralsUpD',\n",
       " 'Comic Sans MS',\n",
       " 'Noto Serif CJK TC',\n",
       " 'East Syriac Ctesiphon',\n",
       " 'STIXIntegralsUpD',\n",
       " 'Bodoni 72 Smallcaps',\n",
       " 'Serto Urhoy',\n",
       " 'Bradley Hand',\n",
       " '.SF Compact Text',\n",
       " 'STIXNonUnicode',\n",
       " 'Zapf Dingbats',\n",
       " 'Comic Sans MS',\n",
       " '.SF NS Display Condensed',\n",
       " 'System Font',\n",
       " 'Luxi Mono',\n",
       " 'Arial',\n",
       " 'System Font',\n",
       " '.SF Compact Text',\n",
       " 'Serto Jerusalem',\n",
       " 'Noto Serif CJK KR',\n",
       " 'STIXSizeOneSym',\n",
       " 'East Syriac Adiabene',\n",
       " 'Bitstream Vera Sans Mono',\n",
       " 'Ayuthaya',\n",
       " 'System Font',\n",
       " '.SF NS Rounded',\n",
       " 'System Font',\n",
       " '.SF Compact Rounded',\n",
       " 'System Font',\n",
       " 'Serto Malankara',\n",
       " 'Luxi Sans',\n",
       " 'Luxi Mono',\n",
       " 'DIN Condensed',\n",
       " '.SF Compact Rounded',\n",
       " 'Serto Jerusalem',\n",
       " 'Bitstream Vera Sans',\n",
       " 'Bitstream Vera Serif',\n",
       " 'STIXSizeThreeSym',\n",
       " 'Serto Batnan',\n",
       " 'Wingdings',\n",
       " '.SF NS Text Condensed',\n",
       " '.SF Compact Text',\n",
       " 'STIXGeneral',\n",
       " 'Khmer Sangam MN',\n",
       " 'Noto Sans CJK JP',\n",
       " 'STIXVariants',\n",
       " '.SF Compact Rounded',\n",
       " 'Goha-Tibeb Zemen',\n",
       " 'Noto Serif CJK JP',\n",
       " 'Estrangelo Antioch',\n",
       " 'Mishafi',\n",
       " 'System Font',\n",
       " 'Noto Sans CJK JP',\n",
       " 'Bodoni Ornaments',\n",
       " 'STIXGeneral',\n",
       " '.SF Compact Display',\n",
       " 'Noto Serif CJK JP',\n",
       " 'STIXSizeTwoSym',\n",
       " 'Luxi Mono',\n",
       " 'jf-jinxuan',\n",
       " '.SF NS Display Condensed',\n",
       " 'Arial Black',\n",
       " 'Luxi Serif',\n",
       " 'Noto Sans CJK JP',\n",
       " 'jf-jinxuan',\n",
       " 'Kokonor',\n",
       " 'Georgia',\n",
       " 'Arial Rounded MT Bold',\n",
       " '.SF Compact Rounded',\n",
       " 'cwTeX Q Fangsong',\n",
       " 'Noto Sans CJK KR',\n",
       " 'Noto Serif CJK TC',\n",
       " 'Courier New',\n",
       " 'cwTeX Q Hei',\n",
       " '.SF NS Rounded',\n",
       " 'Times New Roman',\n",
       " 'Trebuchet MS',\n",
       " 'Noto Sans CJK JP',\n",
       " '.SF NS Text Condensed',\n",
       " 'Georgia',\n",
       " 'Estrangelo Edessa',\n",
       " 'jf-jinxuan',\n",
       " 'Estrangelo Quenneshrin',\n",
       " 'Verdana',\n",
       " 'STIXSizeFourSym',\n",
       " 'Noto Serif CJK JP',\n",
       " '.SF NS Rounded',\n",
       " 'Diwan Thuluth',\n",
       " 'Noto Serif CJK JP',\n",
       " 'Luxi Serif',\n",
       " 'Serto Kharput',\n",
       " 'jf-jinxuan',\n",
       " 'Trebuchet MS',\n",
       " 'Noto Sans Mono CJK KR',\n",
       " 'Bitstream Vera Serif',\n",
       " '.SF Compact Rounded',\n",
       " '.SF NS Display Condensed',\n",
       " 'Verdana',\n",
       " 'STIXSizeFiveSym',\n",
       " '.SF NS Rounded',\n",
       " '.SF Compact Rounded',\n",
       " 'Gurmukhi MT',\n",
       " 'Noto Sans CJK JP',\n",
       " 'Estrangelo Talada',\n",
       " 'jf-jinxuan',\n",
       " 'Arial Narrow',\n",
       " 'Mishafi Gold',\n",
       " 'Verdana',\n",
       " '.SF NS Symbols',\n",
       " 'Noto Serif CJK TC',\n",
       " 'Bitstream Vera Sans Mono',\n",
       " 'Noto Serif CJK KR',\n",
       " '.SF Compact Text',\n",
       " 'Luxi Sans',\n",
       " 'Apple Chancery',\n",
       " 'Trattatello',\n",
       " 'Noto Sans Mono CJK TC',\n",
       " 'STIXIntegralsUp',\n",
       " 'System Font',\n",
       " 'cwTeX Q Kai',\n",
       " 'Courier New',\n",
       " 'Serto Batnan',\n",
       " '.SF NS Symbols',\n",
       " 'Apple Symbols',\n",
       " 'Noto Sans CJK JP',\n",
       " 'AppleMyungjo',\n",
       " '.SF Compact Text',\n",
       " 'Plantagenet Cherokee',\n",
       " '.SF NS Symbols',\n",
       " '.SF Compact Rounded',\n",
       " 'System Font',\n",
       " '.SF NS Symbols',\n",
       " '.SF Compact Text',\n",
       " 'Impact',\n",
       " 'Krungthep',\n",
       " 'Serto Urhoy',\n",
       " 'Sathu',\n",
       " 'cwTeX Q Yuan',\n",
       " 'Apple Braille',\n",
       " 'Apple Braille',\n",
       " 'STIXIntegralsUp',\n",
       " 'Luxi Sans',\n",
       " 'Courier New',\n",
       " 'Lao Sangam MN',\n",
       " 'System Font',\n",
       " 'Webdings',\n",
       " '.SF NS Display Condensed',\n",
       " '.SF NS Symbols',\n",
       " 'STIXSizeTwoSym',\n",
       " '.SF Compact Display',\n",
       " 'Serto Jerusalem',\n",
       " 'Luxi Serif',\n",
       " 'AppleGothic',\n",
       " 'Goha-Tibeb Zemen',\n",
       " 'STIXGeneral',\n",
       " 'Bitstream Vera Sans',\n",
       " 'Wingdings 2',\n",
       " '.SF Compact Rounded',\n",
       " 'Noto Sans CJK KR',\n",
       " 'Noto Sans CJK KR',\n",
       " 'Arial',\n",
       " '.SF NS Text Condensed',\n",
       " 'Noto Serif CJK TC',\n",
       " '.SF NS Rounded',\n",
       " 'Noto Serif CJK TC',\n",
       " 'jf-jinxuan',\n",
       " 'STIXIntegralsUpSm',\n",
       " 'Noto Serif CJK KR',\n",
       " 'STIXGeneral',\n",
       " 'Symbol',\n",
       " '.SF NS Symbols',\n",
       " 'Apple Braille',\n",
       " 'jf-jinxuan',\n",
       " 'Georgia',\n",
       " 'Apple Braille',\n",
       " 'Noto Sans CJK TC',\n",
       " 'Wingdings 3',\n",
       " 'Noto Mono',\n",
       " 'Noto Sans CJK TC',\n",
       " 'Zapfino',\n",
       " 'Tahoma',\n",
       " 'System Font',\n",
       " '.SF Compact Display',\n",
       " 'STIXNonUnicode',\n",
       " 'Farisi',\n",
       " 'STIXIntegralsD',\n",
       " 'Arial Narrow',\n",
       " 'Courier New',\n",
       " '.SF Compact Display',\n",
       " 'STIXSizeFourSym',\n",
       " '.SF Compact Text',\n",
       " 'STIXSizeOneSym',\n",
       " '.SF NS Symbols',\n",
       " 'Noto Sans Mono CJK KR',\n",
       " 'Arial',\n",
       " 'Noto Sans CJK TC',\n",
       " '.SF NS Text Condensed',\n",
       " '.SF NS Display Condensed',\n",
       " 'Noto Serif CJK JP',\n",
       " 'STIXIntegralsD',\n",
       " 'Noto Sans CJK JP',\n",
       " '.SF NS Rounded',\n",
       " 'System Font',\n",
       " 'Noto Serif CJK KR',\n",
       " '.SF NS Display Condensed',\n",
       " '.SF Compact Display',\n",
       " 'Tahoma',\n",
       " 'Andale Mono',\n",
       " 'Herculanum',\n",
       " 'Brush Script MT',\n",
       " '.SF Compact Text',\n",
       " 'System Font',\n",
       " 'Hoefler Text',\n",
       " '.SF Compact Display',\n",
       " 'Noto Sans CJK TC',\n",
       " 'Noto Sans CJK KR',\n",
       " 'Arial Unicode MS',\n",
       " '.SF NS Display Condensed',\n",
       " 'STIXIntegralsUpSm',\n",
       " '.SF Compact Display',\n",
       " 'Noto Sans Mono CJK TC',\n",
       " 'System Font',\n",
       " 'Arial Narrow',\n",
       " 'Chalkduster',\n",
       " 'Luminari',\n",
       " 'Noto Sans Mono CJK JP',\n",
       " 'cwTeX Q Ming',\n",
       " '.SF Compact Text',\n",
       " 'STIXVariants',\n",
       " 'Noto Sans CJK TC',\n",
       " 'Noto Sans CJK KR',\n",
       " 'Silom',\n",
       " '.SF NS Rounded',\n",
       " 'Arial',\n",
       " '.SF NS Display Condensed',\n",
       " 'STIXIntegralsSm',\n",
       " '.SF Compact Rounded',\n",
       " 'Microsoft Sans Serif',\n",
       " 'Noto Sans CJK KR']"
      ]
     },
     "execution_count": 4,
     "metadata": {},
     "output_type": "execute_result"
    }
   ],
   "source": [
    "[f.name for f in mpl.font_manager.fontManager.ttflist]"
   ]
  },
  {
   "cell_type": "markdown",
   "metadata": {},
   "source": [
    "## 05-01 暖身來個比較「正規」的資料\n",
    "\n",
    "### 一些 Open Data\n",
    "\n",
    "* [政府資料開放平台](https://data.gov.tw)\n",
    "* [UCI Machine Learning Repository](https://archive.ics.uci.edu/ml/index.php)\n",
    "\n",
    "我們這暖身找一個全台大學生人數的數據集, 我們目標是看出各校「女生:男生」比例, 選出最高的前 20 名。\n",
    "\n",
    "這裡要為大家示範的是, 也許就這麼簡單的事, 可能會花你一些工夫去做。\n"
   ]
  },
  {
   "cell_type": "code",
   "execution_count": 5,
   "metadata": {},
   "outputs": [],
   "source": [
    "df = pd.read_csv('http://stats.moe.gov.tw/files/detail/107/107_student.csv')"
   ]
  },
  {
   "cell_type": "code",
   "execution_count": 6,
   "metadata": {},
   "outputs": [
    {
     "data": {
      "text/html": [
       "<div>\n",
       "<style scoped>\n",
       "    .dataframe tbody tr th:only-of-type {\n",
       "        vertical-align: middle;\n",
       "    }\n",
       "\n",
       "    .dataframe tbody tr th {\n",
       "        vertical-align: top;\n",
       "    }\n",
       "\n",
       "    .dataframe thead th {\n",
       "        text-align: right;\n",
       "    }\n",
       "</style>\n",
       "<table border=\"1\" class=\"dataframe\">\n",
       "  <thead>\n",
       "    <tr style=\"text-align: right;\">\n",
       "      <th></th>\n",
       "      <th>大專校院校別學生數</th>\n",
       "      <th>Unnamed: 1</th>\n",
       "      <th>Unnamed: 2</th>\n",
       "      <th>Unnamed: 3</th>\n",
       "      <th>Unnamed: 4</th>\n",
       "      <th>Unnamed: 5</th>\n",
       "      <th>Unnamed: 6</th>\n",
       "      <th>Unnamed: 7</th>\n",
       "      <th>Unnamed: 8</th>\n",
       "      <th>Unnamed: 9</th>\n",
       "      <th>...</th>\n",
       "      <th>Unnamed: 15</th>\n",
       "      <th>Unnamed: 16</th>\n",
       "      <th>Unnamed: 17</th>\n",
       "      <th>Unnamed: 18</th>\n",
       "      <th>Unnamed: 19</th>\n",
       "      <th>Unnamed: 20</th>\n",
       "      <th>Unnamed: 21</th>\n",
       "      <th>Unnamed: 22</th>\n",
       "      <th>Unnamed: 23</th>\n",
       "      <th>Unnamed: 24</th>\n",
       "    </tr>\n",
       "  </thead>\n",
       "  <tbody>\n",
       "    <tr>\n",
       "      <th>0</th>\n",
       "      <td>107 學年度 SY2018-2019</td>\n",
       "      <td>NaN</td>\n",
       "      <td>NaN</td>\n",
       "      <td>NaN</td>\n",
       "      <td>NaN</td>\n",
       "      <td>NaN</td>\n",
       "      <td>NaN</td>\n",
       "      <td>NaN</td>\n",
       "      <td>NaN</td>\n",
       "      <td>NaN</td>\n",
       "      <td>...</td>\n",
       "      <td>NaN</td>\n",
       "      <td>NaN</td>\n",
       "      <td>NaN</td>\n",
       "      <td>NaN</td>\n",
       "      <td>NaN</td>\n",
       "      <td>NaN</td>\n",
       "      <td>NaN</td>\n",
       "      <td>NaN</td>\n",
       "      <td>NaN</td>\n",
       "      <td>NaN</td>\n",
       "    </tr>\n",
       "    <tr>\n",
       "      <th>1</th>\n",
       "      <td>學校代碼</td>\n",
       "      <td>學校名稱</td>\n",
       "      <td>日間∕進修別</td>\n",
       "      <td>等級別</td>\n",
       "      <td>總計</td>\n",
       "      <td>男生計</td>\n",
       "      <td>女生計</td>\n",
       "      <td>一年級男生</td>\n",
       "      <td>一年級女生</td>\n",
       "      <td>二年級男生</td>\n",
       "      <td>...</td>\n",
       "      <td>五年級男生</td>\n",
       "      <td>五年級女生</td>\n",
       "      <td>六年級男生</td>\n",
       "      <td>六年級女生</td>\n",
       "      <td>七年級男生</td>\n",
       "      <td>七年級女生</td>\n",
       "      <td>延修生男生</td>\n",
       "      <td>延修生女生</td>\n",
       "      <td>縣市名稱</td>\n",
       "      <td>體系別</td>\n",
       "    </tr>\n",
       "    <tr>\n",
       "      <th>2</th>\n",
       "      <td>0001</td>\n",
       "      <td>國立政治大學</td>\n",
       "      <td>D 日</td>\n",
       "      <td>D 博士</td>\n",
       "      <td>965</td>\n",
       "      <td>551</td>\n",
       "      <td>414</td>\n",
       "      <td>96</td>\n",
       "      <td>85</td>\n",
       "      <td>82</td>\n",
       "      <td>...</td>\n",
       "      <td>71</td>\n",
       "      <td>52</td>\n",
       "      <td>58</td>\n",
       "      <td>46</td>\n",
       "      <td>74</td>\n",
       "      <td>40</td>\n",
       "      <td>-</td>\n",
       "      <td>-</td>\n",
       "      <td>30 臺北市</td>\n",
       "      <td>1 一般</td>\n",
       "    </tr>\n",
       "    <tr>\n",
       "      <th>3</th>\n",
       "      <td>0001</td>\n",
       "      <td>國立政治大學</td>\n",
       "      <td>D 日</td>\n",
       "      <td>M 碩士</td>\n",
       "      <td>3,998</td>\n",
       "      <td>1,854</td>\n",
       "      <td>2,144</td>\n",
       "      <td>624</td>\n",
       "      <td>742</td>\n",
       "      <td>632</td>\n",
       "      <td>...</td>\n",
       "      <td>-</td>\n",
       "      <td>-</td>\n",
       "      <td>-</td>\n",
       "      <td>-</td>\n",
       "      <td>-</td>\n",
       "      <td>-</td>\n",
       "      <td>-</td>\n",
       "      <td>-</td>\n",
       "      <td>30 臺北市</td>\n",
       "      <td>1 一般</td>\n",
       "    </tr>\n",
       "    <tr>\n",
       "      <th>4</th>\n",
       "      <td>0001</td>\n",
       "      <td>國立政治大學</td>\n",
       "      <td>D 日</td>\n",
       "      <td>B 學士</td>\n",
       "      <td>9,630</td>\n",
       "      <td>3,983</td>\n",
       "      <td>5,647</td>\n",
       "      <td>899</td>\n",
       "      <td>1,287</td>\n",
       "      <td>890</td>\n",
       "      <td>...</td>\n",
       "      <td>-</td>\n",
       "      <td>-</td>\n",
       "      <td>-</td>\n",
       "      <td>-</td>\n",
       "      <td>-</td>\n",
       "      <td>-</td>\n",
       "      <td>326</td>\n",
       "      <td>463</td>\n",
       "      <td>30 臺北市</td>\n",
       "      <td>1 一般</td>\n",
       "    </tr>\n",
       "  </tbody>\n",
       "</table>\n",
       "<p>5 rows × 25 columns</p>\n",
       "</div>"
      ],
      "text/plain": [
       "             大專校院校別學生數 Unnamed: 1 Unnamed: 2 Unnamed: 3 Unnamed: 4 Unnamed: 5  \\\n",
       "0  107 學年度 SY2018-2019        NaN        NaN        NaN        NaN        NaN   \n",
       "1                 學校代碼       學校名稱     日間∕進修別        等級別         總計        男生計   \n",
       "2                 0001     國立政治大學        D 日       D 博士        965        551   \n",
       "3                 0001     國立政治大學        D 日       M 碩士      3,998      1,854   \n",
       "4                 0001     國立政治大學        D 日       B 學士      9,630      3,983   \n",
       "\n",
       "  Unnamed: 6 Unnamed: 7 Unnamed: 8 Unnamed: 9     ...     Unnamed: 15  \\\n",
       "0        NaN        NaN        NaN        NaN     ...             NaN   \n",
       "1        女生計      一年級男生      一年級女生      二年級男生     ...           五年級男生   \n",
       "2        414         96         85         82     ...              71   \n",
       "3      2,144        624        742        632     ...               -   \n",
       "4      5,647        899      1,287        890     ...               -   \n",
       "\n",
       "  Unnamed: 16 Unnamed: 17 Unnamed: 18 Unnamed: 19 Unnamed: 20 Unnamed: 21  \\\n",
       "0         NaN         NaN         NaN         NaN         NaN         NaN   \n",
       "1       五年級女生       六年級男生       六年級女生       七年級男生       七年級女生       延修生男生   \n",
       "2          52          58          46          74          40           -   \n",
       "3           -           -           -           -           -           -   \n",
       "4           -           -           -           -           -         326   \n",
       "\n",
       "  Unnamed: 22 Unnamed: 23 Unnamed: 24  \n",
       "0         NaN         NaN         NaN  \n",
       "1       延修生女生        縣市名稱         體系別  \n",
       "2           -      30 臺北市        1 一般  \n",
       "3           -      30 臺北市        1 一般  \n",
       "4         463      30 臺北市        1 一般  \n",
       "\n",
       "[5 rows x 25 columns]"
      ]
     },
     "execution_count": 6,
     "metadata": {},
     "output_type": "execute_result"
    }
   ],
   "source": [
    "df.head()"
   ]
  },
  {
   "cell_type": "markdown",
   "metadata": {},
   "source": [
    "#### 把表格弄對\n",
    "\n",
    "欄位名稱被放到第 1 列, 真正要的資料從第二列開始!"
   ]
  },
  {
   "cell_type": "code",
   "execution_count": 12,
   "metadata": {},
   "outputs": [],
   "source": [
    "colnames = df.loc[1].values"
   ]
  },
  {
   "cell_type": "code",
   "execution_count": 14,
   "metadata": {},
   "outputs": [],
   "source": [
    "df = df[2:]"
   ]
  },
  {
   "cell_type": "code",
   "execution_count": 15,
   "metadata": {},
   "outputs": [
    {
     "data": {
      "text/html": [
       "<div>\n",
       "<style scoped>\n",
       "    .dataframe tbody tr th:only-of-type {\n",
       "        vertical-align: middle;\n",
       "    }\n",
       "\n",
       "    .dataframe tbody tr th {\n",
       "        vertical-align: top;\n",
       "    }\n",
       "\n",
       "    .dataframe thead th {\n",
       "        text-align: right;\n",
       "    }\n",
       "</style>\n",
       "<table border=\"1\" class=\"dataframe\">\n",
       "  <thead>\n",
       "    <tr style=\"text-align: right;\">\n",
       "      <th></th>\n",
       "      <th>大專校院校別學生數</th>\n",
       "      <th>Unnamed: 1</th>\n",
       "      <th>Unnamed: 2</th>\n",
       "      <th>Unnamed: 3</th>\n",
       "      <th>Unnamed: 4</th>\n",
       "      <th>Unnamed: 5</th>\n",
       "      <th>Unnamed: 6</th>\n",
       "      <th>Unnamed: 7</th>\n",
       "      <th>Unnamed: 8</th>\n",
       "      <th>Unnamed: 9</th>\n",
       "      <th>...</th>\n",
       "      <th>Unnamed: 15</th>\n",
       "      <th>Unnamed: 16</th>\n",
       "      <th>Unnamed: 17</th>\n",
       "      <th>Unnamed: 18</th>\n",
       "      <th>Unnamed: 19</th>\n",
       "      <th>Unnamed: 20</th>\n",
       "      <th>Unnamed: 21</th>\n",
       "      <th>Unnamed: 22</th>\n",
       "      <th>Unnamed: 23</th>\n",
       "      <th>Unnamed: 24</th>\n",
       "    </tr>\n",
       "  </thead>\n",
       "  <tbody>\n",
       "    <tr>\n",
       "      <th>2</th>\n",
       "      <td>0001</td>\n",
       "      <td>國立政治大學</td>\n",
       "      <td>D 日</td>\n",
       "      <td>D 博士</td>\n",
       "      <td>965</td>\n",
       "      <td>551</td>\n",
       "      <td>414</td>\n",
       "      <td>96</td>\n",
       "      <td>85</td>\n",
       "      <td>82</td>\n",
       "      <td>...</td>\n",
       "      <td>71</td>\n",
       "      <td>52</td>\n",
       "      <td>58</td>\n",
       "      <td>46</td>\n",
       "      <td>74</td>\n",
       "      <td>40</td>\n",
       "      <td>-</td>\n",
       "      <td>-</td>\n",
       "      <td>30 臺北市</td>\n",
       "      <td>1 一般</td>\n",
       "    </tr>\n",
       "    <tr>\n",
       "      <th>3</th>\n",
       "      <td>0001</td>\n",
       "      <td>國立政治大學</td>\n",
       "      <td>D 日</td>\n",
       "      <td>M 碩士</td>\n",
       "      <td>3,998</td>\n",
       "      <td>1,854</td>\n",
       "      <td>2,144</td>\n",
       "      <td>624</td>\n",
       "      <td>742</td>\n",
       "      <td>632</td>\n",
       "      <td>...</td>\n",
       "      <td>-</td>\n",
       "      <td>-</td>\n",
       "      <td>-</td>\n",
       "      <td>-</td>\n",
       "      <td>-</td>\n",
       "      <td>-</td>\n",
       "      <td>-</td>\n",
       "      <td>-</td>\n",
       "      <td>30 臺北市</td>\n",
       "      <td>1 一般</td>\n",
       "    </tr>\n",
       "    <tr>\n",
       "      <th>4</th>\n",
       "      <td>0001</td>\n",
       "      <td>國立政治大學</td>\n",
       "      <td>D 日</td>\n",
       "      <td>B 學士</td>\n",
       "      <td>9,630</td>\n",
       "      <td>3,983</td>\n",
       "      <td>5,647</td>\n",
       "      <td>899</td>\n",
       "      <td>1,287</td>\n",
       "      <td>890</td>\n",
       "      <td>...</td>\n",
       "      <td>-</td>\n",
       "      <td>-</td>\n",
       "      <td>-</td>\n",
       "      <td>-</td>\n",
       "      <td>-</td>\n",
       "      <td>-</td>\n",
       "      <td>326</td>\n",
       "      <td>463</td>\n",
       "      <td>30 臺北市</td>\n",
       "      <td>1 一般</td>\n",
       "    </tr>\n",
       "    <tr>\n",
       "      <th>5</th>\n",
       "      <td>0001</td>\n",
       "      <td>國立政治大學</td>\n",
       "      <td>N 職</td>\n",
       "      <td>M 碩士</td>\n",
       "      <td>1,750</td>\n",
       "      <td>896</td>\n",
       "      <td>854</td>\n",
       "      <td>303</td>\n",
       "      <td>248</td>\n",
       "      <td>253</td>\n",
       "      <td>...</td>\n",
       "      <td>53</td>\n",
       "      <td>47</td>\n",
       "      <td>-</td>\n",
       "      <td>-</td>\n",
       "      <td>-</td>\n",
       "      <td>-</td>\n",
       "      <td>-</td>\n",
       "      <td>-</td>\n",
       "      <td>30 臺北市</td>\n",
       "      <td>1 一般</td>\n",
       "    </tr>\n",
       "    <tr>\n",
       "      <th>6</th>\n",
       "      <td>0002</td>\n",
       "      <td>國立清華大學</td>\n",
       "      <td>D 日</td>\n",
       "      <td>D 博士</td>\n",
       "      <td>1,664</td>\n",
       "      <td>1,221</td>\n",
       "      <td>443</td>\n",
       "      <td>225</td>\n",
       "      <td>99</td>\n",
       "      <td>201</td>\n",
       "      <td>...</td>\n",
       "      <td>158</td>\n",
       "      <td>50</td>\n",
       "      <td>112</td>\n",
       "      <td>43</td>\n",
       "      <td>168</td>\n",
       "      <td>58</td>\n",
       "      <td>-</td>\n",
       "      <td>-</td>\n",
       "      <td>18 新竹市</td>\n",
       "      <td>1 一般</td>\n",
       "    </tr>\n",
       "  </tbody>\n",
       "</table>\n",
       "<p>5 rows × 25 columns</p>\n",
       "</div>"
      ],
      "text/plain": [
       "  大專校院校別學生數 Unnamed: 1 Unnamed: 2 Unnamed: 3 Unnamed: 4 Unnamed: 5 Unnamed: 6  \\\n",
       "2      0001     國立政治大學        D 日       D 博士        965        551        414   \n",
       "3      0001     國立政治大學        D 日       M 碩士      3,998      1,854      2,144   \n",
       "4      0001     國立政治大學        D 日       B 學士      9,630      3,983      5,647   \n",
       "5      0001     國立政治大學        N 職       M 碩士      1,750        896        854   \n",
       "6      0002     國立清華大學        D 日       D 博士      1,664      1,221        443   \n",
       "\n",
       "  Unnamed: 7 Unnamed: 8 Unnamed: 9     ...     Unnamed: 15 Unnamed: 16  \\\n",
       "2         96         85         82     ...              71          52   \n",
       "3        624        742        632     ...               -           -   \n",
       "4        899      1,287        890     ...               -           -   \n",
       "5        303        248        253     ...              53          47   \n",
       "6        225         99        201     ...             158          50   \n",
       "\n",
       "  Unnamed: 17 Unnamed: 18 Unnamed: 19 Unnamed: 20 Unnamed: 21 Unnamed: 22  \\\n",
       "2          58          46          74          40           -           -   \n",
       "3           -           -           -           -           -           -   \n",
       "4           -           -           -           -         326         463   \n",
       "5           -           -           -           -           -           -   \n",
       "6         112          43         168          58           -           -   \n",
       "\n",
       "  Unnamed: 23 Unnamed: 24  \n",
       "2      30 臺北市        1 一般  \n",
       "3      30 臺北市        1 一般  \n",
       "4      30 臺北市        1 一般  \n",
       "5      30 臺北市        1 一般  \n",
       "6      18 新竹市        1 一般  \n",
       "\n",
       "[5 rows x 25 columns]"
      ]
     },
     "execution_count": 15,
     "metadata": {},
     "output_type": "execute_result"
    }
   ],
   "source": [
    "df.head()"
   ]
  },
  {
   "cell_type": "code",
   "execution_count": 17,
   "metadata": {},
   "outputs": [],
   "source": [
    "df.columns = colnames"
   ]
  },
  {
   "cell_type": "code",
   "execution_count": 20,
   "metadata": {},
   "outputs": [
    {
     "data": {
      "text/html": [
       "<div>\n",
       "<style scoped>\n",
       "    .dataframe tbody tr th:only-of-type {\n",
       "        vertical-align: middle;\n",
       "    }\n",
       "\n",
       "    .dataframe tbody tr th {\n",
       "        vertical-align: top;\n",
       "    }\n",
       "\n",
       "    .dataframe thead th {\n",
       "        text-align: right;\n",
       "    }\n",
       "</style>\n",
       "<table border=\"1\" class=\"dataframe\">\n",
       "  <thead>\n",
       "    <tr style=\"text-align: right;\">\n",
       "      <th></th>\n",
       "      <th>學校代碼</th>\n",
       "      <th>學校名稱</th>\n",
       "      <th>日間∕進修別</th>\n",
       "      <th>等級別</th>\n",
       "      <th>總計</th>\n",
       "      <th>男生計</th>\n",
       "      <th>女生計</th>\n",
       "      <th>一年級男生</th>\n",
       "      <th>一年級女生</th>\n",
       "      <th>二年級男生</th>\n",
       "      <th>...</th>\n",
       "      <th>五年級男生</th>\n",
       "      <th>五年級女生</th>\n",
       "      <th>六年級男生</th>\n",
       "      <th>六年級女生</th>\n",
       "      <th>七年級男生</th>\n",
       "      <th>七年級女生</th>\n",
       "      <th>延修生男生</th>\n",
       "      <th>延修生女生</th>\n",
       "      <th>縣市名稱</th>\n",
       "      <th>體系別</th>\n",
       "    </tr>\n",
       "  </thead>\n",
       "  <tbody>\n",
       "    <tr>\n",
       "      <th>2</th>\n",
       "      <td>0001</td>\n",
       "      <td>國立政治大學</td>\n",
       "      <td>D 日</td>\n",
       "      <td>D 博士</td>\n",
       "      <td>965</td>\n",
       "      <td>551</td>\n",
       "      <td>414</td>\n",
       "      <td>96</td>\n",
       "      <td>85</td>\n",
       "      <td>82</td>\n",
       "      <td>...</td>\n",
       "      <td>71</td>\n",
       "      <td>52</td>\n",
       "      <td>58</td>\n",
       "      <td>46</td>\n",
       "      <td>74</td>\n",
       "      <td>40</td>\n",
       "      <td>-</td>\n",
       "      <td>-</td>\n",
       "      <td>30 臺北市</td>\n",
       "      <td>1 一般</td>\n",
       "    </tr>\n",
       "    <tr>\n",
       "      <th>3</th>\n",
       "      <td>0001</td>\n",
       "      <td>國立政治大學</td>\n",
       "      <td>D 日</td>\n",
       "      <td>M 碩士</td>\n",
       "      <td>3,998</td>\n",
       "      <td>1,854</td>\n",
       "      <td>2,144</td>\n",
       "      <td>624</td>\n",
       "      <td>742</td>\n",
       "      <td>632</td>\n",
       "      <td>...</td>\n",
       "      <td>-</td>\n",
       "      <td>-</td>\n",
       "      <td>-</td>\n",
       "      <td>-</td>\n",
       "      <td>-</td>\n",
       "      <td>-</td>\n",
       "      <td>-</td>\n",
       "      <td>-</td>\n",
       "      <td>30 臺北市</td>\n",
       "      <td>1 一般</td>\n",
       "    </tr>\n",
       "    <tr>\n",
       "      <th>4</th>\n",
       "      <td>0001</td>\n",
       "      <td>國立政治大學</td>\n",
       "      <td>D 日</td>\n",
       "      <td>B 學士</td>\n",
       "      <td>9,630</td>\n",
       "      <td>3,983</td>\n",
       "      <td>5,647</td>\n",
       "      <td>899</td>\n",
       "      <td>1,287</td>\n",
       "      <td>890</td>\n",
       "      <td>...</td>\n",
       "      <td>-</td>\n",
       "      <td>-</td>\n",
       "      <td>-</td>\n",
       "      <td>-</td>\n",
       "      <td>-</td>\n",
       "      <td>-</td>\n",
       "      <td>326</td>\n",
       "      <td>463</td>\n",
       "      <td>30 臺北市</td>\n",
       "      <td>1 一般</td>\n",
       "    </tr>\n",
       "    <tr>\n",
       "      <th>5</th>\n",
       "      <td>0001</td>\n",
       "      <td>國立政治大學</td>\n",
       "      <td>N 職</td>\n",
       "      <td>M 碩士</td>\n",
       "      <td>1,750</td>\n",
       "      <td>896</td>\n",
       "      <td>854</td>\n",
       "      <td>303</td>\n",
       "      <td>248</td>\n",
       "      <td>253</td>\n",
       "      <td>...</td>\n",
       "      <td>53</td>\n",
       "      <td>47</td>\n",
       "      <td>-</td>\n",
       "      <td>-</td>\n",
       "      <td>-</td>\n",
       "      <td>-</td>\n",
       "      <td>-</td>\n",
       "      <td>-</td>\n",
       "      <td>30 臺北市</td>\n",
       "      <td>1 一般</td>\n",
       "    </tr>\n",
       "    <tr>\n",
       "      <th>6</th>\n",
       "      <td>0002</td>\n",
       "      <td>國立清華大學</td>\n",
       "      <td>D 日</td>\n",
       "      <td>D 博士</td>\n",
       "      <td>1,664</td>\n",
       "      <td>1,221</td>\n",
       "      <td>443</td>\n",
       "      <td>225</td>\n",
       "      <td>99</td>\n",
       "      <td>201</td>\n",
       "      <td>...</td>\n",
       "      <td>158</td>\n",
       "      <td>50</td>\n",
       "      <td>112</td>\n",
       "      <td>43</td>\n",
       "      <td>168</td>\n",
       "      <td>58</td>\n",
       "      <td>-</td>\n",
       "      <td>-</td>\n",
       "      <td>18 新竹市</td>\n",
       "      <td>1 一般</td>\n",
       "    </tr>\n",
       "  </tbody>\n",
       "</table>\n",
       "<p>5 rows × 25 columns</p>\n",
       "</div>"
      ],
      "text/plain": [
       "   學校代碼    學校名稱 日間∕進修別   等級別     總計    男生計    女生計 一年級男生  一年級女生 二年級男生  ...   \\\n",
       "2  0001  國立政治大學    D 日  D 博士    965    551    414    96     85    82  ...    \n",
       "3  0001  國立政治大學    D 日  M 碩士  3,998  1,854  2,144   624    742   632  ...    \n",
       "4  0001  國立政治大學    D 日  B 學士  9,630  3,983  5,647   899  1,287   890  ...    \n",
       "5  0001  國立政治大學    N 職  M 碩士  1,750    896    854   303    248   253  ...    \n",
       "6  0002  國立清華大學    D 日  D 博士  1,664  1,221    443   225     99   201  ...    \n",
       "\n",
       "  五年級男生 五年級女生 六年級男生 六年級女生 七年級男生 七年級女生 延修生男生 延修生女生    縣市名稱   體系別  \n",
       "2    71    52    58    46    74    40     -     -  30 臺北市  1 一般  \n",
       "3     -     -     -     -     -     -     -     -  30 臺北市  1 一般  \n",
       "4     -     -     -     -     -     -   326   463  30 臺北市  1 一般  \n",
       "5    53    47     -     -     -     -     -     -  30 臺北市  1 一般  \n",
       "6   158    50   112    43   168    58     -     -  18 新竹市  1 一般  \n",
       "\n",
       "[5 rows x 25 columns]"
      ]
     },
     "execution_count": 20,
     "metadata": {},
     "output_type": "execute_result"
    }
   ],
   "source": [
    "df.head()"
   ]
  },
  {
   "cell_type": "code",
   "execution_count": 25,
   "metadata": {},
   "outputs": [],
   "source": [
    "undergraduate = df[(df['日間∕進修別'] == 'D 日') & (df['等級別']  == 'B 學士')]"
   ]
  },
  {
   "cell_type": "code",
   "execution_count": 26,
   "metadata": {},
   "outputs": [
    {
     "data": {
      "text/html": [
       "<div>\n",
       "<style scoped>\n",
       "    .dataframe tbody tr th:only-of-type {\n",
       "        vertical-align: middle;\n",
       "    }\n",
       "\n",
       "    .dataframe tbody tr th {\n",
       "        vertical-align: top;\n",
       "    }\n",
       "\n",
       "    .dataframe thead th {\n",
       "        text-align: right;\n",
       "    }\n",
       "</style>\n",
       "<table border=\"1\" class=\"dataframe\">\n",
       "  <thead>\n",
       "    <tr style=\"text-align: right;\">\n",
       "      <th></th>\n",
       "      <th>學校代碼</th>\n",
       "      <th>學校名稱</th>\n",
       "      <th>日間∕進修別</th>\n",
       "      <th>等級別</th>\n",
       "      <th>總計</th>\n",
       "      <th>男生計</th>\n",
       "      <th>女生計</th>\n",
       "      <th>一年級男生</th>\n",
       "      <th>一年級女生</th>\n",
       "      <th>二年級男生</th>\n",
       "      <th>...</th>\n",
       "      <th>五年級男生</th>\n",
       "      <th>五年級女生</th>\n",
       "      <th>六年級男生</th>\n",
       "      <th>六年級女生</th>\n",
       "      <th>七年級男生</th>\n",
       "      <th>七年級女生</th>\n",
       "      <th>延修生男生</th>\n",
       "      <th>延修生女生</th>\n",
       "      <th>縣市名稱</th>\n",
       "      <th>體系別</th>\n",
       "    </tr>\n",
       "  </thead>\n",
       "  <tbody>\n",
       "    <tr>\n",
       "      <th>4</th>\n",
       "      <td>0001</td>\n",
       "      <td>國立政治大學</td>\n",
       "      <td>D 日</td>\n",
       "      <td>B 學士</td>\n",
       "      <td>9,630</td>\n",
       "      <td>3,983</td>\n",
       "      <td>5,647</td>\n",
       "      <td>899</td>\n",
       "      <td>1,287</td>\n",
       "      <td>890</td>\n",
       "      <td>...</td>\n",
       "      <td>-</td>\n",
       "      <td>-</td>\n",
       "      <td>-</td>\n",
       "      <td>-</td>\n",
       "      <td>-</td>\n",
       "      <td>-</td>\n",
       "      <td>326</td>\n",
       "      <td>463</td>\n",
       "      <td>30 臺北市</td>\n",
       "      <td>1 一般</td>\n",
       "    </tr>\n",
       "    <tr>\n",
       "      <th>8</th>\n",
       "      <td>0002</td>\n",
       "      <td>國立清華大學</td>\n",
       "      <td>D 日</td>\n",
       "      <td>B 學士</td>\n",
       "      <td>8,689</td>\n",
       "      <td>4,696</td>\n",
       "      <td>3,993</td>\n",
       "      <td>1,089</td>\n",
       "      <td>865</td>\n",
       "      <td>1,087</td>\n",
       "      <td>...</td>\n",
       "      <td>-</td>\n",
       "      <td>-</td>\n",
       "      <td>-</td>\n",
       "      <td>-</td>\n",
       "      <td>-</td>\n",
       "      <td>-</td>\n",
       "      <td>286</td>\n",
       "      <td>166</td>\n",
       "      <td>18 新竹市</td>\n",
       "      <td>1 一般</td>\n",
       "    </tr>\n",
       "    <tr>\n",
       "      <th>13</th>\n",
       "      <td>0003</td>\n",
       "      <td>國立臺灣大學</td>\n",
       "      <td>D 日</td>\n",
       "      <td>B 學士</td>\n",
       "      <td>16,604</td>\n",
       "      <td>9,447</td>\n",
       "      <td>7,157</td>\n",
       "      <td>2,126</td>\n",
       "      <td>1,525</td>\n",
       "      <td>2,110</td>\n",
       "      <td>...</td>\n",
       "      <td>184</td>\n",
       "      <td>98</td>\n",
       "      <td>126</td>\n",
       "      <td>61</td>\n",
       "      <td>102</td>\n",
       "      <td>35</td>\n",
       "      <td>671</td>\n",
       "      <td>537</td>\n",
       "      <td>30 臺北市</td>\n",
       "      <td>1 一般</td>\n",
       "    </tr>\n",
       "    <tr>\n",
       "      <th>17</th>\n",
       "      <td>0004</td>\n",
       "      <td>國立臺灣師範大學</td>\n",
       "      <td>D 日</td>\n",
       "      <td>B 學士</td>\n",
       "      <td>8,079</td>\n",
       "      <td>3,583</td>\n",
       "      <td>4,496</td>\n",
       "      <td>846</td>\n",
       "      <td>1,066</td>\n",
       "      <td>850</td>\n",
       "      <td>...</td>\n",
       "      <td>-</td>\n",
       "      <td>-</td>\n",
       "      <td>-</td>\n",
       "      <td>-</td>\n",
       "      <td>-</td>\n",
       "      <td>-</td>\n",
       "      <td>240</td>\n",
       "      <td>271</td>\n",
       "      <td>30 臺北市</td>\n",
       "      <td>3 師範</td>\n",
       "    </tr>\n",
       "    <tr>\n",
       "      <th>21</th>\n",
       "      <td>0005</td>\n",
       "      <td>國立成功大學</td>\n",
       "      <td>D 日</td>\n",
       "      <td>B 學士</td>\n",
       "      <td>11,390</td>\n",
       "      <td>7,123</td>\n",
       "      <td>4,267</td>\n",
       "      <td>1,672</td>\n",
       "      <td>1,010</td>\n",
       "      <td>1,651</td>\n",
       "      <td>...</td>\n",
       "      <td>82</td>\n",
       "      <td>68</td>\n",
       "      <td>49</td>\n",
       "      <td>27</td>\n",
       "      <td>53</td>\n",
       "      <td>21</td>\n",
       "      <td>355</td>\n",
       "      <td>149</td>\n",
       "      <td>21 臺南市</td>\n",
       "      <td>1 一般</td>\n",
       "    </tr>\n",
       "  </tbody>\n",
       "</table>\n",
       "<p>5 rows × 25 columns</p>\n",
       "</div>"
      ],
      "text/plain": [
       "    學校代碼      學校名稱 日間∕進修別   等級別      總計    男生計    女生計  一年級男生  一年級女生  二年級男生  \\\n",
       "4   0001    國立政治大學    D 日  B 學士   9,630  3,983  5,647    899  1,287    890   \n",
       "8   0002    國立清華大學    D 日  B 學士   8,689  4,696  3,993  1,089    865  1,087   \n",
       "13  0003    國立臺灣大學    D 日  B 學士  16,604  9,447  7,157  2,126  1,525  2,110   \n",
       "17  0004  國立臺灣師範大學    D 日  B 學士   8,079  3,583  4,496    846  1,066    850   \n",
       "21  0005    國立成功大學    D 日  B 學士  11,390  7,123  4,267  1,672  1,010  1,651   \n",
       "\n",
       "    ...  五年級男生 五年級女生 六年級男生 六年級女生 七年級男生 七年級女生 延修生男生 延修生女生    縣市名稱   體系別  \n",
       "4   ...      -     -     -     -     -     -   326   463  30 臺北市  1 一般  \n",
       "8   ...      -     -     -     -     -     -   286   166  18 新竹市  1 一般  \n",
       "13  ...    184    98   126    61   102    35   671   537  30 臺北市  1 一般  \n",
       "17  ...      -     -     -     -     -     -   240   271  30 臺北市  3 師範  \n",
       "21  ...     82    68    49    27    53    21   355   149  21 臺南市  1 一般  \n",
       "\n",
       "[5 rows x 25 columns]"
      ]
     },
     "execution_count": 26,
     "metadata": {},
     "output_type": "execute_result"
    }
   ],
   "source": [
    "undergraduate.head()"
   ]
  },
  {
   "cell_type": "markdown",
   "metadata": {},
   "source": [
    "![view 和 copy](images/pandas_view_copy.png)\n",
    "\n",
    "注意接下來我們用了 `copy`, 你可能感覺好像不需要用, 事實上沒有用也可以執行, 只是 `pandas` 會警告你...\n",
    "\n",
    "這牽涉大概每個用 `pandas` 的人, 都會碰到的 SettingWithCopyWarning!\n",
    "\n",
    "請參考[這個影片](https://youtu.be/4R4WsDJ-KVc), 理解要怎麼解決。事實上這是一個非常棒的 `pandas` 系列教學!"
   ]
  },
  {
   "cell_type": "code",
   "execution_count": 29,
   "metadata": {},
   "outputs": [],
   "source": [
    "df2 = undergraduate.loc[:, '學校名稱':'女生計'].copy()"
   ]
  },
  {
   "cell_type": "code",
   "execution_count": 31,
   "metadata": {},
   "outputs": [
    {
     "data": {
      "text/html": [
       "<div>\n",
       "<style scoped>\n",
       "    .dataframe tbody tr th:only-of-type {\n",
       "        vertical-align: middle;\n",
       "    }\n",
       "\n",
       "    .dataframe tbody tr th {\n",
       "        vertical-align: top;\n",
       "    }\n",
       "\n",
       "    .dataframe thead th {\n",
       "        text-align: right;\n",
       "    }\n",
       "</style>\n",
       "<table border=\"1\" class=\"dataframe\">\n",
       "  <thead>\n",
       "    <tr style=\"text-align: right;\">\n",
       "      <th></th>\n",
       "      <th>學校名稱</th>\n",
       "      <th>日間∕進修別</th>\n",
       "      <th>等級別</th>\n",
       "      <th>總計</th>\n",
       "      <th>男生計</th>\n",
       "      <th>女生計</th>\n",
       "    </tr>\n",
       "  </thead>\n",
       "  <tbody>\n",
       "    <tr>\n",
       "      <th>4</th>\n",
       "      <td>國立政治大學</td>\n",
       "      <td>D 日</td>\n",
       "      <td>B 學士</td>\n",
       "      <td>9,630</td>\n",
       "      <td>3,983</td>\n",
       "      <td>5,647</td>\n",
       "    </tr>\n",
       "    <tr>\n",
       "      <th>8</th>\n",
       "      <td>國立清華大學</td>\n",
       "      <td>D 日</td>\n",
       "      <td>B 學士</td>\n",
       "      <td>8,689</td>\n",
       "      <td>4,696</td>\n",
       "      <td>3,993</td>\n",
       "    </tr>\n",
       "    <tr>\n",
       "      <th>13</th>\n",
       "      <td>國立臺灣大學</td>\n",
       "      <td>D 日</td>\n",
       "      <td>B 學士</td>\n",
       "      <td>16,604</td>\n",
       "      <td>9,447</td>\n",
       "      <td>7,157</td>\n",
       "    </tr>\n",
       "    <tr>\n",
       "      <th>17</th>\n",
       "      <td>國立臺灣師範大學</td>\n",
       "      <td>D 日</td>\n",
       "      <td>B 學士</td>\n",
       "      <td>8,079</td>\n",
       "      <td>3,583</td>\n",
       "      <td>4,496</td>\n",
       "    </tr>\n",
       "    <tr>\n",
       "      <th>21</th>\n",
       "      <td>國立成功大學</td>\n",
       "      <td>D 日</td>\n",
       "      <td>B 學士</td>\n",
       "      <td>11,390</td>\n",
       "      <td>7,123</td>\n",
       "      <td>4,267</td>\n",
       "    </tr>\n",
       "  </tbody>\n",
       "</table>\n",
       "</div>"
      ],
      "text/plain": [
       "        學校名稱 日間∕進修別   等級別      總計    男生計    女生計\n",
       "4     國立政治大學    D 日  B 學士   9,630  3,983  5,647\n",
       "8     國立清華大學    D 日  B 學士   8,689  4,696  3,993\n",
       "13    國立臺灣大學    D 日  B 學士  16,604  9,447  7,157\n",
       "17  國立臺灣師範大學    D 日  B 學士   8,079  3,583  4,496\n",
       "21    國立成功大學    D 日  B 學士  11,390  7,123  4,267"
      ]
     },
     "execution_count": 31,
     "metadata": {},
     "output_type": "execute_result"
    }
   ],
   "source": [
    "df2.head()"
   ]
  },
  {
   "cell_type": "markdown",
   "metadata": {},
   "source": [
    "#### 有逗點數字的修正\n",
    "\n",
    "我們來修正一下有逗點的數字..."
   ]
  },
  {
   "cell_type": "code",
   "execution_count": 32,
   "metadata": {},
   "outputs": [],
   "source": [
    "import locale\n",
    "\n",
    "# atof"
   ]
  },
  {
   "cell_type": "code",
   "execution_count": 34,
   "metadata": {},
   "outputs": [
    {
     "data": {
      "text/plain": [
       "'zh_TW.UTF-8'"
      ]
     },
     "execution_count": 34,
     "metadata": {},
     "output_type": "execute_result"
    }
   ],
   "source": [
    "locale.setlocale(locale.LC_NUMERIC, '')"
   ]
  },
  {
   "cell_type": "code",
   "execution_count": 35,
   "metadata": {},
   "outputs": [],
   "source": [
    "df2['男生計'] = df2['男生計'].apply(locale.atof)"
   ]
  },
  {
   "cell_type": "code",
   "execution_count": 36,
   "metadata": {},
   "outputs": [],
   "source": [
    "df2['女生計'] = df2['女生計'].apply(locale.atof)"
   ]
  },
  {
   "cell_type": "markdown",
   "metadata": {},
   "source": [
    "#### 終於可以算了!"
   ]
  },
  {
   "cell_type": "code",
   "execution_count": 42,
   "metadata": {},
   "outputs": [],
   "source": [
    "df2['女男比例'] = df2.女生計 / df2.男生計"
   ]
  },
  {
   "cell_type": "code",
   "execution_count": 43,
   "metadata": {},
   "outputs": [
    {
     "data": {
      "text/html": [
       "<div>\n",
       "<style scoped>\n",
       "    .dataframe tbody tr th:only-of-type {\n",
       "        vertical-align: middle;\n",
       "    }\n",
       "\n",
       "    .dataframe tbody tr th {\n",
       "        vertical-align: top;\n",
       "    }\n",
       "\n",
       "    .dataframe thead th {\n",
       "        text-align: right;\n",
       "    }\n",
       "</style>\n",
       "<table border=\"1\" class=\"dataframe\">\n",
       "  <thead>\n",
       "    <tr style=\"text-align: right;\">\n",
       "      <th></th>\n",
       "      <th>學校名稱</th>\n",
       "      <th>日間∕進修別</th>\n",
       "      <th>等級別</th>\n",
       "      <th>總計</th>\n",
       "      <th>男生計</th>\n",
       "      <th>女生計</th>\n",
       "      <th>女男比例</th>\n",
       "    </tr>\n",
       "  </thead>\n",
       "  <tbody>\n",
       "    <tr>\n",
       "      <th>4</th>\n",
       "      <td>國立政治大學</td>\n",
       "      <td>D 日</td>\n",
       "      <td>B 學士</td>\n",
       "      <td>9,630</td>\n",
       "      <td>3983.0</td>\n",
       "      <td>5647.0</td>\n",
       "      <td>1.417776</td>\n",
       "    </tr>\n",
       "    <tr>\n",
       "      <th>8</th>\n",
       "      <td>國立清華大學</td>\n",
       "      <td>D 日</td>\n",
       "      <td>B 學士</td>\n",
       "      <td>8,689</td>\n",
       "      <td>4696.0</td>\n",
       "      <td>3993.0</td>\n",
       "      <td>0.850298</td>\n",
       "    </tr>\n",
       "    <tr>\n",
       "      <th>13</th>\n",
       "      <td>國立臺灣大學</td>\n",
       "      <td>D 日</td>\n",
       "      <td>B 學士</td>\n",
       "      <td>16,604</td>\n",
       "      <td>9447.0</td>\n",
       "      <td>7157.0</td>\n",
       "      <td>0.757595</td>\n",
       "    </tr>\n",
       "    <tr>\n",
       "      <th>17</th>\n",
       "      <td>國立臺灣師範大學</td>\n",
       "      <td>D 日</td>\n",
       "      <td>B 學士</td>\n",
       "      <td>8,079</td>\n",
       "      <td>3583.0</td>\n",
       "      <td>4496.0</td>\n",
       "      <td>1.254814</td>\n",
       "    </tr>\n",
       "    <tr>\n",
       "      <th>21</th>\n",
       "      <td>國立成功大學</td>\n",
       "      <td>D 日</td>\n",
       "      <td>B 學士</td>\n",
       "      <td>11,390</td>\n",
       "      <td>7123.0</td>\n",
       "      <td>4267.0</td>\n",
       "      <td>0.599045</td>\n",
       "    </tr>\n",
       "  </tbody>\n",
       "</table>\n",
       "</div>"
      ],
      "text/plain": [
       "        學校名稱 日間∕進修別   等級別      總計     男生計     女生計      女男比例\n",
       "4     國立政治大學    D 日  B 學士   9,630  3983.0  5647.0  1.417776\n",
       "8     國立清華大學    D 日  B 學士   8,689  4696.0  3993.0  0.850298\n",
       "13    國立臺灣大學    D 日  B 學士  16,604  9447.0  7157.0  0.757595\n",
       "17  國立臺灣師範大學    D 日  B 學士   8,079  3583.0  4496.0  1.254814\n",
       "21    國立成功大學    D 日  B 學士  11,390  7123.0  4267.0  0.599045"
      ]
     },
     "execution_count": 43,
     "metadata": {},
     "output_type": "execute_result"
    }
   ],
   "source": [
    "df2.head()"
   ]
  },
  {
   "cell_type": "markdown",
   "metadata": {},
   "source": [
    "#### 找出前 20 名\n",
    "\n",
    "找出女男比例最高前 20 所大學, 並且畫出圖來!"
   ]
  },
  {
   "cell_type": "code",
   "execution_count": 45,
   "metadata": {},
   "outputs": [],
   "source": [
    "df3 = df2.sort_values(by = ['女男比例'], ascending=False)"
   ]
  },
  {
   "cell_type": "code",
   "execution_count": 46,
   "metadata": {},
   "outputs": [
    {
     "data": {
      "text/plain": [
       "<matplotlib.axes._subplots.AxesSubplot at 0x1249f29b0>"
      ]
     },
     "execution_count": 46,
     "metadata": {},
     "output_type": "execute_result"
    },
    {
     "data": {
      "image/png": "[encoded data removed]",
      "text/plain": [
       "<Figure size 432x288 with 1 Axes>"
      ]
     },
     "metadata": {},
     "output_type": "display_data"
    }
   ],
   "source": [
    "df3[:20].plot.bar(x='學校名稱', y=['女男比例'])"
   ]
  },
  {
   "cell_type": "markdown",
   "metadata": {},
   "source": [
    "## 05-02 例子、例子、例子"
   ]
  },
  {
   "cell_type": "markdown",
   "metadata": {},
   "source": [
    "### 我的 Mac 有沒有好棒棒"
   ]
  },
  {
   "cell_type": "code",
   "execution_count": 47,
   "metadata": {},
   "outputs": [],
   "source": [
    "df = pd.read_html('https://browser.geekbench.com/mac-benchmarks')"
   ]
  },
  {
   "cell_type": "code",
   "execution_count": 48,
   "metadata": {},
   "outputs": [
    {
     "data": {
      "text/plain": [
       "2"
      ]
     },
     "execution_count": 48,
     "metadata": {},
     "output_type": "execute_result"
    }
   ],
   "source": [
    "len(df)"
   ]
  },
  {
   "cell_type": "code",
   "execution_count": 50,
   "metadata": {},
   "outputs": [],
   "source": [
    "mac = df[0]"
   ]
  },
  {
   "cell_type": "code",
   "execution_count": 51,
   "metadata": {},
   "outputs": [
    {
     "data": {
      "text/html": [
       "<div>\n",
       "<style scoped>\n",
       "    .dataframe tbody tr th:only-of-type {\n",
       "        vertical-align: middle;\n",
       "    }\n",
       "\n",
       "    .dataframe tbody tr th {\n",
       "        vertical-align: top;\n",
       "    }\n",
       "\n",
       "    .dataframe thead th {\n",
       "        text-align: right;\n",
       "    }\n",
       "</style>\n",
       "<table border=\"1\" class=\"dataframe\">\n",
       "  <thead>\n",
       "    <tr style=\"text-align: right;\">\n",
       "      <th></th>\n",
       "      <th>Mac</th>\n",
       "      <th>Score</th>\n",
       "      <th>Unnamed: 2</th>\n",
       "    </tr>\n",
       "  </thead>\n",
       "  <tbody>\n",
       "    <tr>\n",
       "      <th>0</th>\n",
       "      <td>iMac (27-inch Retina Mid 2017) Intel Core i7-7...</td>\n",
       "      <td>5684</td>\n",
       "      <td>NaN</td>\n",
       "    </tr>\n",
       "    <tr>\n",
       "      <th>1</th>\n",
       "      <td>Mac mini (Late 2018) Intel Core i7-8700B @ 3.2...</td>\n",
       "      <td>5659</td>\n",
       "      <td>NaN</td>\n",
       "    </tr>\n",
       "    <tr>\n",
       "      <th>2</th>\n",
       "      <td>MacBook Pro (15-inch Mid 2018) Intel Core i9-8...</td>\n",
       "      <td>5347</td>\n",
       "      <td>NaN</td>\n",
       "    </tr>\n",
       "    <tr>\n",
       "      <th>3</th>\n",
       "      <td>iMac Pro (Late 2017) Intel Xeon W-2150B @ 3.0 ...</td>\n",
       "      <td>5320</td>\n",
       "      <td>NaN</td>\n",
       "    </tr>\n",
       "    <tr>\n",
       "      <th>4</th>\n",
       "      <td>iMac (27-inch Retina Late 2015) Intel Core i7-...</td>\n",
       "      <td>5282</td>\n",
       "      <td>NaN</td>\n",
       "    </tr>\n",
       "  </tbody>\n",
       "</table>\n",
       "</div>"
      ],
      "text/plain": [
       "                                                 Mac  Score  Unnamed: 2\n",
       "0  iMac (27-inch Retina Mid 2017) Intel Core i7-7...   5684         NaN\n",
       "1  Mac mini (Late 2018) Intel Core i7-8700B @ 3.2...   5659         NaN\n",
       "2  MacBook Pro (15-inch Mid 2018) Intel Core i9-8...   5347         NaN\n",
       "3  iMac Pro (Late 2017) Intel Xeon W-2150B @ 3.0 ...   5320         NaN\n",
       "4  iMac (27-inch Retina Late 2015) Intel Core i7-...   5282         NaN"
      ]
     },
     "execution_count": 51,
     "metadata": {},
     "output_type": "execute_result"
    }
   ],
   "source": [
    "mac.head()"
   ]
  },
  {
   "cell_type": "code",
   "execution_count": 53,
   "metadata": {},
   "outputs": [
    {
     "data": {
      "text/html": [
       "<div>\n",
       "<style scoped>\n",
       "    .dataframe tbody tr th:only-of-type {\n",
       "        vertical-align: middle;\n",
       "    }\n",
       "\n",
       "    .dataframe tbody tr th {\n",
       "        vertical-align: top;\n",
       "    }\n",
       "\n",
       "    .dataframe thead th {\n",
       "        text-align: right;\n",
       "    }\n",
       "</style>\n",
       "<table border=\"1\" class=\"dataframe\">\n",
       "  <thead>\n",
       "    <tr style=\"text-align: right;\">\n",
       "      <th></th>\n",
       "      <th>Mac</th>\n",
       "      <th>Score</th>\n",
       "      <th>Unnamed: 2</th>\n",
       "    </tr>\n",
       "  </thead>\n",
       "  <tbody>\n",
       "    <tr>\n",
       "      <th>2</th>\n",
       "      <td>MacBook Pro (15-inch Mid 2018) Intel Core i9-8...</td>\n",
       "      <td>5347</td>\n",
       "      <td>NaN</td>\n",
       "    </tr>\n",
       "    <tr>\n",
       "      <th>10</th>\n",
       "      <td>MacBook Pro (13-inch Mid 2018) Intel Core i7-8...</td>\n",
       "      <td>5138</td>\n",
       "      <td>NaN</td>\n",
       "    </tr>\n",
       "    <tr>\n",
       "      <th>13</th>\n",
       "      <td>MacBook Pro (15-inch Mid 2018) Intel Core i7-8...</td>\n",
       "      <td>5054</td>\n",
       "      <td>NaN</td>\n",
       "    </tr>\n",
       "    <tr>\n",
       "      <th>14</th>\n",
       "      <td>MacBook Pro (15-inch Mid 2018) Intel Core i7-8...</td>\n",
       "      <td>4926</td>\n",
       "      <td>NaN</td>\n",
       "    </tr>\n",
       "    <tr>\n",
       "      <th>22</th>\n",
       "      <td>MacBook Pro (13-inch Mid 2018) Intel Core i5-8...</td>\n",
       "      <td>4523</td>\n",
       "      <td>NaN</td>\n",
       "    </tr>\n",
       "  </tbody>\n",
       "</table>\n",
       "</div>"
      ],
      "text/plain": [
       "                                                  Mac  Score  Unnamed: 2\n",
       "2   MacBook Pro (15-inch Mid 2018) Intel Core i9-8...   5347         NaN\n",
       "10  MacBook Pro (13-inch Mid 2018) Intel Core i7-8...   5138         NaN\n",
       "13  MacBook Pro (15-inch Mid 2018) Intel Core i7-8...   5054         NaN\n",
       "14  MacBook Pro (15-inch Mid 2018) Intel Core i7-8...   4926         NaN\n",
       "22  MacBook Pro (13-inch Mid 2018) Intel Core i5-8...   4523         NaN"
      ]
     },
     "execution_count": 53,
     "metadata": {},
     "output_type": "execute_result"
    }
   ],
   "source": [
    "mac[mac.Mac.str.contains('Mid 2018')]"
   ]
  },
  {
   "cell_type": "code",
   "execution_count": 54,
   "metadata": {},
   "outputs": [
    {
     "data": {
      "text/html": [
       "<div>\n",
       "<style scoped>\n",
       "    .dataframe tbody tr th:only-of-type {\n",
       "        vertical-align: middle;\n",
       "    }\n",
       "\n",
       "    .dataframe tbody tr th {\n",
       "        vertical-align: top;\n",
       "    }\n",
       "\n",
       "    .dataframe thead th {\n",
       "        text-align: right;\n",
       "    }\n",
       "</style>\n",
       "<table border=\"1\" class=\"dataframe\">\n",
       "  <thead>\n",
       "    <tr style=\"text-align: right;\">\n",
       "      <th></th>\n",
       "      <th>Mac</th>\n",
       "      <th>Score</th>\n",
       "      <th>Unnamed: 2</th>\n",
       "    </tr>\n",
       "  </thead>\n",
       "  <tbody>\n",
       "    <tr>\n",
       "      <th>0</th>\n",
       "      <td>iMac (27-inch Retina Mid 2017) Intel Core i7-7...</td>\n",
       "      <td>5684</td>\n",
       "      <td>NaN</td>\n",
       "    </tr>\n",
       "    <tr>\n",
       "      <th>1</th>\n",
       "      <td>Mac mini (Late 2018) Intel Core i7-8700B @ 3.2...</td>\n",
       "      <td>5659</td>\n",
       "      <td>NaN</td>\n",
       "    </tr>\n",
       "  </tbody>\n",
       "</table>\n",
       "</div>"
      ],
      "text/plain": [
       "                                                 Mac  Score  Unnamed: 2\n",
       "0  iMac (27-inch Retina Mid 2017) Intel Core i7-7...   5684         NaN\n",
       "1  Mac mini (Late 2018) Intel Core i7-8700B @ 3.2...   5659         NaN"
      ]
     },
     "execution_count": 54,
     "metadata": {},
     "output_type": "execute_result"
    }
   ],
   "source": [
    "mac[mac.Score > 5347]"
   ]
  },
  {
   "cell_type": "markdown",
   "metadata": {},
   "source": [
    "### 大樂透"
   ]
  },
  {
   "cell_type": "code",
   "execution_count": 55,
   "metadata": {},
   "outputs": [],
   "source": [
    "df = pd.read_html('http://www.9800.com.tw/statistics.asp')"
   ]
  },
  {
   "cell_type": "code",
   "execution_count": 56,
   "metadata": {},
   "outputs": [
    {
     "data": {
      "text/plain": [
       "7"
      ]
     },
     "execution_count": 56,
     "metadata": {},
     "output_type": "execute_result"
    }
   ],
   "source": [
    "len(df)"
   ]
  },
  {
   "cell_type": "code",
   "execution_count": 67,
   "metadata": {},
   "outputs": [],
   "source": [
    "df_lot = df[3]"
   ]
  },
  {
   "cell_type": "code",
   "execution_count": 68,
   "metadata": {},
   "outputs": [],
   "source": [
    "colnames = df_lot.loc[1].values"
   ]
  },
  {
   "cell_type": "code",
   "execution_count": 69,
   "metadata": {},
   "outputs": [],
   "source": [
    "df_lot = df_lot.loc[2:]"
   ]
  },
  {
   "cell_type": "code",
   "execution_count": 70,
   "metadata": {},
   "outputs": [],
   "source": [
    "df_lot.columns = colnames"
   ]
  },
  {
   "cell_type": "code",
   "execution_count": 71,
   "metadata": {},
   "outputs": [
    {
     "data": {
      "text/html": [
       "<div>\n",
       "<style scoped>\n",
       "    .dataframe tbody tr th:only-of-type {\n",
       "        vertical-align: middle;\n",
       "    }\n",
       "\n",
       "    .dataframe tbody tr th {\n",
       "        vertical-align: top;\n",
       "    }\n",
       "\n",
       "    .dataframe thead th {\n",
       "        text-align: right;\n",
       "    }\n",
       "</style>\n",
       "<table border=\"1\" class=\"dataframe\">\n",
       "  <thead>\n",
       "    <tr style=\"text-align: right;\">\n",
       "      <th></th>\n",
       "      <th>期次</th>\n",
       "      <th>開獎日期</th>\n",
       "      <th>球號</th>\n",
       "      <th>特號</th>\n",
       "      <th>單雙</th>\n",
       "      <th>和值</th>\n",
       "      <th>均值</th>\n",
       "      <th>同尾</th>\n",
       "      <th>連號</th>\n",
       "      <th>首尾差</th>\n",
       "      <th>尾數和</th>\n",
       "      <th>首數和</th>\n",
       "      <th>nan</th>\n",
       "      <th>nan</th>\n",
       "      <th>nan</th>\n",
       "      <th>nan</th>\n",
       "      <th>nan</th>\n",
       "    </tr>\n",
       "  </thead>\n",
       "  <tbody>\n",
       "    <tr>\n",
       "      <th>2</th>\n",
       "      <td>108011</td>\n",
       "      <td>2019-02-02</td>\n",
       "      <td>02</td>\n",
       "      <td>07</td>\n",
       "      <td>22</td>\n",
       "      <td>35</td>\n",
       "      <td>46</td>\n",
       "      <td>49</td>\n",
       "      <td>41</td>\n",
       "      <td>3:3</td>\n",
       "      <td>161</td>\n",
       "      <td>26</td>\n",
       "      <td>2尾(2)</td>\n",
       "      <td>NaN</td>\n",
       "      <td>47.0</td>\n",
       "      <td>31.0</td>\n",
       "      <td>13.0</td>\n",
       "    </tr>\n",
       "    <tr>\n",
       "      <th>3</th>\n",
       "      <td>108012</td>\n",
       "      <td>2019-02-03</td>\n",
       "      <td>12</td>\n",
       "      <td>24</td>\n",
       "      <td>28</td>\n",
       "      <td>36</td>\n",
       "      <td>37</td>\n",
       "      <td>40</td>\n",
       "      <td>6</td>\n",
       "      <td>1:5</td>\n",
       "      <td>177</td>\n",
       "      <td>29</td>\n",
       "      <td>NaN</td>\n",
       "      <td>3637</td>\n",
       "      <td>28.0</td>\n",
       "      <td>27.0</td>\n",
       "      <td>15.0</td>\n",
       "    </tr>\n",
       "    <tr>\n",
       "      <th>4</th>\n",
       "      <td>108013</td>\n",
       "      <td>2019-02-04</td>\n",
       "      <td>06</td>\n",
       "      <td>08</td>\n",
       "      <td>24</td>\n",
       "      <td>32</td>\n",
       "      <td>34</td>\n",
       "      <td>36</td>\n",
       "      <td>49</td>\n",
       "      <td>0:6</td>\n",
       "      <td>140</td>\n",
       "      <td>23</td>\n",
       "      <td>4尾(2), 6尾(2)</td>\n",
       "      <td>NaN</td>\n",
       "      <td>30.0</td>\n",
       "      <td>30.0</td>\n",
       "      <td>11.0</td>\n",
       "    </tr>\n",
       "    <tr>\n",
       "      <th>5</th>\n",
       "      <td>108014</td>\n",
       "      <td>2019-02-05</td>\n",
       "      <td>13</td>\n",
       "      <td>18</td>\n",
       "      <td>30</td>\n",
       "      <td>34</td>\n",
       "      <td>45</td>\n",
       "      <td>49</td>\n",
       "      <td>33</td>\n",
       "      <td>3:3</td>\n",
       "      <td>189</td>\n",
       "      <td>31</td>\n",
       "      <td>NaN</td>\n",
       "      <td>NaN</td>\n",
       "      <td>36.0</td>\n",
       "      <td>29.0</td>\n",
       "      <td>16.0</td>\n",
       "    </tr>\n",
       "    <tr>\n",
       "      <th>6</th>\n",
       "      <td>108015</td>\n",
       "      <td>2019-02-06</td>\n",
       "      <td>17</td>\n",
       "      <td>23</td>\n",
       "      <td>28</td>\n",
       "      <td>29</td>\n",
       "      <td>32</td>\n",
       "      <td>39</td>\n",
       "      <td>12</td>\n",
       "      <td>4:2</td>\n",
       "      <td>168</td>\n",
       "      <td>28</td>\n",
       "      <td>9尾(2)</td>\n",
       "      <td>2829</td>\n",
       "      <td>22.0</td>\n",
       "      <td>38.0</td>\n",
       "      <td>13.0</td>\n",
       "    </tr>\n",
       "  </tbody>\n",
       "</table>\n",
       "</div>"
      ],
      "text/plain": [
       "       期次        開獎日期  球號  特號  單雙  和值  均值  同尾  連號  首尾差  尾數和 首數和           NaN  \\\n",
       "2  108011  2019-02-02  02  07  22  35  46  49  41  3:3  161  26         2尾(2)   \n",
       "3  108012  2019-02-03  12  24  28  36  37  40   6  1:5  177  29           NaN   \n",
       "4  108013  2019-02-04  06  08  24  32  34  36  49  0:6  140  23  4尾(2), 6尾(2)   \n",
       "5  108014  2019-02-05  13  18  30  34  45  49  33  3:3  189  31           NaN   \n",
       "6  108015  2019-02-06  17  23  28  29  32  39  12  4:2  168  28         9尾(2)   \n",
       "\n",
       "    NaN   NaN   NaN   NaN  \n",
       "2   NaN  47.0  31.0  13.0  \n",
       "3  3637  28.0  27.0  15.0  \n",
       "4   NaN  30.0  30.0  11.0  \n",
       "5   NaN  36.0  29.0  16.0  \n",
       "6  2829  22.0  38.0  13.0  "
      ]
     },
     "execution_count": 71,
     "metadata": {},
     "output_type": "execute_result"
    }
   ],
   "source": [
    "df_lot.head()"
   ]
  },
  {
   "cell_type": "markdown",
   "metadata": {},
   "source": [
    "## 05-03 正式開始\n",
    "\n",
    "首先我們來讀入一個 CSV 檔, 這裡有個「假的」學測成績, 叫 `grades.csv` 我們來練習一下。"
   ]
  },
  {
   "cell_type": "code",
   "execution_count": null,
   "metadata": {},
   "outputs": [],
   "source": []
  },
  {
   "cell_type": "markdown",
   "metadata": {},
   "source": [
    "用 `df` 是標準的叫法 (雖然這名稱我們隨便取也可以), 意思是 Data Frame, 這是 `pandas` 兩大資料結構之一。我們可以把 Data Frame 想成一張表格 (雖然其實可以是很多張表格)。\n",
    "\n",
    "我們來看看我們 `df` 的前五筆資料。"
   ]
  },
  {
   "cell_type": "code",
   "execution_count": null,
   "metadata": {},
   "outputs": [],
   "source": []
  },
  {
   "cell_type": "markdown",
   "metadata": {},
   "source": [
    "如果你曾經手動讀入 CSV 檔, 就知道這省了多少事 (雖然我個人還挺喜歡純手動帶進 CSV)。\n",
    "\n",
    "#### Excel 檔也可以快速讀入\n",
    "\n",
    "不只 CSV 檔, 很多資料檔案, 像 Excel 檔都很容易在 `pandas` 完成。使用法是這樣:\n",
    "\n",
    "    df2 = pd.read_excel('filename.xls', 'sheetname')\n",
    "    \n",
    "其中 sheetname 那裡要放工作表的名稱, 如果是中文的最好改成英文。"
   ]
  },
  {
   "cell_type": "markdown",
   "metadata": {},
   "source": [
    "## 05-04 Pandas 基本資料結構\n",
    "\n",
    "Pandas 有兩個基本資料結構:\n",
    "\n",
    "* <b style=\"color:red;\">DataFrame</b>: 可以想成一個表格。\n",
    "* <b style=\"color:red;\">Series</b>: 表格的某一列、某一行, 基本上就是我們以前的 list 或 array\n",
    "\n",
    "一個 DataFrame, 我們有 `index` (列的名稱), `columns` (行的名稱)。\n",
    "\n",
    "#### DataFrame\n",
    "\n",
    "![DataFrame 的結構](images/indexcol.png)"
   ]
  },
  {
   "cell_type": "markdown",
   "metadata": {},
   "source": [
    "#### Series\n",
    "\n",
    "剛剛說 series 大概就是一個 list, 一個 array。其實更精準的說, 其實是一個有 \"index\" 的 array。\n",
    "\n",
    "DataFrame 的每一行或每一列其實也都是一個 series。我們來看個例子, 例如所有同學的國文成績, 就是一個 series。"
   ]
  },
  {
   "cell_type": "code",
   "execution_count": null,
   "metadata": {},
   "outputs": [],
   "source": []
  },
  {
   "cell_type": "markdown",
   "metadata": {},
   "source": [
    "在 Python 3 中, 我們終於可以和英文同步, 用這種很炫的方式叫出所有國文成績。"
   ]
  },
  {
   "cell_type": "code",
   "execution_count": null,
   "metadata": {},
   "outputs": [],
   "source": []
  },
  {
   "cell_type": "markdown",
   "metadata": {},
   "source": [
    "#### 資料畫出來\n",
    "\n",
    "要畫個圖很容易。"
   ]
  },
  {
   "cell_type": "code",
   "execution_count": null,
   "metadata": {},
   "outputs": [],
   "source": []
  },
  {
   "cell_type": "markdown",
   "metadata": {},
   "source": [
    "當然, 在這個例子中, 其實畫 histogram 圖更有意義一點。"
   ]
  },
  {
   "cell_type": "code",
   "execution_count": null,
   "metadata": {},
   "outputs": [],
   "source": []
  },
  {
   "cell_type": "markdown",
   "metadata": {},
   "source": [
    "## 05-05 一些基本的資料分析"
   ]
  },
  {
   "cell_type": "markdown",
   "metadata": {},
   "source": [
    "算平均。"
   ]
  },
  {
   "cell_type": "code",
   "execution_count": null,
   "metadata": {},
   "outputs": [],
   "source": []
  },
  {
   "cell_type": "markdown",
   "metadata": {},
   "source": [
    "算標準差。"
   ]
  },
  {
   "cell_type": "code",
   "execution_count": null,
   "metadata": {},
   "outputs": [],
   "source": []
  },
  {
   "cell_type": "markdown",
   "metadata": {},
   "source": [
    "不如就該算的都幫我們算算..."
   ]
  },
  {
   "cell_type": "code",
   "execution_count": null,
   "metadata": {},
   "outputs": [],
   "source": []
  },
  {
   "cell_type": "markdown",
   "metadata": {},
   "source": [
    "有時我們很愛看的相關係數矩陣。"
   ]
  },
  {
   "cell_type": "code",
   "execution_count": null,
   "metadata": {},
   "outputs": [],
   "source": []
  },
  {
   "cell_type": "markdown",
   "metadata": {},
   "source": [
    "只算兩科間的相關係數當然也可以。"
   ]
  },
  {
   "cell_type": "code",
   "execution_count": null,
   "metadata": {},
   "outputs": [],
   "source": []
  },
  {
   "cell_type": "markdown",
   "metadata": {},
   "source": [
    "## 05-06 增加一行\n",
    "\n",
    "### 【技巧】\n",
    "\n",
    "我們增加一行, 加入總級分。"
   ]
  },
  {
   "cell_type": "code",
   "execution_count": null,
   "metadata": {},
   "outputs": [],
   "source": []
  },
  {
   "cell_type": "markdown",
   "metadata": {},
   "source": [
    "### 【技巧】\n",
    "\n",
    "有計算的當然也可以的。"
   ]
  },
  {
   "cell_type": "code",
   "execution_count": null,
   "metadata": {},
   "outputs": [],
   "source": []
  },
  {
   "cell_type": "markdown",
   "metadata": {},
   "source": [
    "## 05-07 排序和 index 重設\n",
    "\n",
    "### 【重點】排序的方法\n",
    "\n",
    "我們依總級分來排序。"
   ]
  },
  {
   "cell_type": "code",
   "execution_count": null,
   "metadata": {},
   "outputs": [],
   "source": []
  },
  {
   "cell_type": "markdown",
   "metadata": {},
   "source": [
    "### 【重點】排序的方法\n",
    "\n",
    "加權分最高, 同分才看總級分"
   ]
  },
  {
   "cell_type": "code",
   "execution_count": null,
   "metadata": {},
   "outputs": [],
   "source": []
  },
  {
   "cell_type": "markdown",
   "metadata": {},
   "source": [
    "### 【重點】重設 index"
   ]
  },
  {
   "cell_type": "code",
   "execution_count": null,
   "metadata": {},
   "outputs": [],
   "source": []
  },
  {
   "cell_type": "markdown",
   "metadata": {},
   "source": [
    "## 05-08 篩出我們要的資料\n",
    "\n",
    "基本上和 NumPy 的 array 篩法很像。\n",
    "\n",
    "### 【重點】\n",
    "\n",
    "找出數學滿級分同學。"
   ]
  },
  {
   "cell_type": "code",
   "execution_count": null,
   "metadata": {},
   "outputs": [],
   "source": []
  },
  {
   "cell_type": "markdown",
   "metadata": {},
   "source": [
    "### 【重點】\n",
    "\n",
    "找出數學和英文都滿級分的同學。要注意 `and` 要用 `&`, `or` 要用 `|`。每個條件一定要加弧號。"
   ]
  },
  {
   "cell_type": "code",
   "execution_count": null,
   "metadata": {},
   "outputs": [],
   "source": []
  },
  {
   "cell_type": "markdown",
   "metadata": {},
   "source": [
    "## 05-09 刪除一行或一列\n",
    "\n",
    "### 【重點】刪掉一行\n",
    "\n",
    "我們來刪掉總級分的那行。"
   ]
  },
  {
   "cell_type": "code",
   "execution_count": null,
   "metadata": {},
   "outputs": [],
   "source": []
  },
  {
   "cell_type": "markdown",
   "metadata": {},
   "source": [
    "### 【重點】改變原有的 DataFrame\n",
    "\n",
    "我們會發現 `pandas` 很多動作都沒有更改原有的 DataFrame, 真的要改要加入\n",
    "\n",
    "    inplace=True"
   ]
  },
  {
   "cell_type": "code",
   "execution_count": null,
   "metadata": {},
   "outputs": [],
   "source": []
  },
  {
   "cell_type": "markdown",
   "metadata": {},
   "source": [
    "### 【重點】刪掉一列\n",
    "\n",
    "刪掉列就是指定要刪去的 index。"
   ]
  },
  {
   "cell_type": "code",
   "execution_count": null,
   "metadata": {},
   "outputs": [],
   "source": []
  },
  {
   "cell_type": "markdown",
   "metadata": {},
   "source": [
    "### 【重點】刪掉一列\n",
    "\n",
    "通常刪掉符合條件的比較合理 (注意是找到要刪掉的部份, 再找出相對的 index)。"
   ]
  },
  {
   "cell_type": "code",
   "execution_count": null,
   "metadata": {},
   "outputs": [],
   "source": []
  },
  {
   "cell_type": "markdown",
   "metadata": {},
   "source": [
    "### 【重點】刪掉一列\n",
    "\n",
    "聰明的你是不是想到, 那直接篩出我們要留的就好了啊!"
   ]
  },
  {
   "cell_type": "code",
   "execution_count": null,
   "metadata": {},
   "outputs": [],
   "source": []
  },
  {
   "cell_type": "markdown",
   "metadata": {},
   "source": [
    "## 05-10 真實股價資料\n",
    "\n",
    "有個從 `Pandas` 獨立出來的套件叫 `pandas-datareader`, 幾經波折, 先是 Yahoo! 的財務資料不能用, 後來又是 Google 的資料不能用, 不過至少現在看來 Yahoo! 還可以使用。\n",
    "\n",
    "安裝 `pandas-datareader` 就標準 `conda` 安裝:\n",
    "\n",
    "    conda install pandas-datareader\n",
    "    \n",
    "如果裝過, 但很久沒更新就用:\n",
    "\n",
    "    conda update pandas-datareader\n",
    "    \n",
    "要注意這些指令是要在終端機下的, 如果堅持不要離開 Jupyter Notebook 的安裝, 可以用:\n",
    "\n",
    "    !conda install pandas-datareader -y\n",
    "    \n",
    "你要記得下達 `-y` 這個動作, 不然你的電腦會永遠在那等你按 `y`, 但你其實按不了..."
   ]
  },
  {
   "cell_type": "code",
   "execution_count": null,
   "metadata": {},
   "outputs": [],
   "source": []
  },
  {
   "cell_type": "markdown",
   "metadata": {},
   "source": [
    "我們把這個檔案以 `aapl.csv` 存起來, 之後可以這樣讀入。\n",
    "\n",
    "    df = pd.read_csv('dataset/aapl.csv', index_col=\"Date\")"
   ]
  },
  {
   "cell_type": "code",
   "execution_count": null,
   "metadata": {},
   "outputs": [],
   "source": []
  },
  {
   "cell_type": "markdown",
   "metadata": {},
   "source": [
    "#### 只要最後 240 個交易日!"
   ]
  },
  {
   "cell_type": "code",
   "execution_count": null,
   "metadata": {},
   "outputs": [],
   "source": []
  },
  {
   "cell_type": "markdown",
   "metadata": {},
   "source": [
    "#### 20 日的移動平均"
   ]
  },
  {
   "cell_type": "code",
   "execution_count": null,
   "metadata": {},
   "outputs": [],
   "source": []
  },
  {
   "cell_type": "markdown",
   "metadata": {},
   "source": [
    "#### 20 日和 60 日的移動平均"
   ]
  },
  {
   "cell_type": "code",
   "execution_count": null,
   "metadata": {},
   "outputs": [],
   "source": []
  },
  {
   "cell_type": "markdown",
   "metadata": {},
   "source": [
    "## 05-11 手工打造一個 DataFrame*\n",
    "\n",
    "有時我們用手工打造一個簡單的 DataFrame, 可以更理解整個結構。其實很容易, 一個 DataFrame 基本上就包含兩個主要部份:\n",
    "\n",
    "* 資料本身: 通常一個二維陣列 (矩陣)\n",
    "* 行、列的名稱\n",
    "\n",
    "我們來個簡單的小例子。"
   ]
  },
  {
   "cell_type": "code",
   "execution_count": null,
   "metadata": {},
   "outputs": [],
   "source": []
  },
  {
   "cell_type": "markdown",
   "metadata": {},
   "source": [
    "把行列的名字放進去, 就成一個 DataFrame。我們列的部份先讓 Python 自己產生。"
   ]
  },
  {
   "cell_type": "code",
   "execution_count": null,
   "metadata": {},
   "outputs": [],
   "source": []
  },
  {
   "cell_type": "markdown",
   "metadata": {},
   "source": [
    "#### 兩個表格上下貼起來\n",
    "\n",
    "我們再來生一個 DataFrame, 再「貼」起來。"
   ]
  },
  {
   "cell_type": "code",
   "execution_count": null,
   "metadata": {},
   "outputs": [],
   "source": []
  },
  {
   "cell_type": "markdown",
   "metadata": {},
   "source": [
    "前面我們弄得亂七八糟的 index 重設一下。"
   ]
  },
  {
   "cell_type": "code",
   "execution_count": null,
   "metadata": {},
   "outputs": [],
   "source": []
  },
  {
   "cell_type": "markdown",
   "metadata": {},
   "source": [
    "#### 横向的貼"
   ]
  },
  {
   "cell_type": "code",
   "execution_count": null,
   "metadata": {},
   "outputs": [],
   "source": []
  },
  {
   "cell_type": "markdown",
   "metadata": {},
   "source": [
    "等等, 這大小好像不太對也可以嗎? 答案是可以的!"
   ]
  },
  {
   "cell_type": "code",
   "execution_count": null,
   "metadata": {},
   "outputs": [],
   "source": []
  },
  {
   "cell_type": "markdown",
   "metadata": {},
   "source": [
    "#### 大一點的例子\n",
    "\n",
    "我們來做前面「假的」學測資料。首先要有「假的」同學名單, 如果有興趣產生很多名字, 可以用這個服務。\n",
    "\n",
    "[中文姓名產生器](http://www.richyli.com/name/index.asp)"
   ]
  },
  {
   "cell_type": "code",
   "execution_count": null,
   "metadata": {},
   "outputs": [],
   "source": []
  }
 ],
 "metadata": {
  "kernelspec": {
   "display_name": "Python 3",
   "language": "python",
   "name": "python3"
  },
  "language_info": {
   "codemirror_mode": {
    "name": "ipython",
    "version": 3
   },
   "file_extension": ".py",
   "mimetype": "text/x-python",
   "name": "python",
   "nbconvert_exporter": "python",
   "pygments_lexer": "ipython3",
   "version": "3.7.1"
  }
 },
 "nbformat": 4,
 "nbformat_minor": 2
}
